{
 "cells": [
  {
   "cell_type": "code",
   "execution_count": 1,
   "id": "561067df",
   "metadata": {
    "execution": {
     "iopub.execute_input": "2023-02-22T16:27:16.961223Z",
     "iopub.status.busy": "2023-02-22T16:27:16.960376Z",
     "iopub.status.idle": "2023-02-22T16:27:16.972707Z",
     "shell.execute_reply": "2023-02-22T16:27:16.971664Z"
    },
    "papermill": {
     "duration": 0.028477,
     "end_time": "2023-02-22T16:27:16.975099",
     "exception": false,
     "start_time": "2023-02-22T16:27:16.946622",
     "status": "completed"
    },
    "tags": []
   },
   "outputs": [],
   "source": [
    "import pandas as pd\n",
    "#always the way how this is done, importing pandas as pd\n",
    "import numpy as np "
   ]
  },
  {
   "cell_type": "markdown",
   "id": "39d78231",
   "metadata": {
    "papermill": {
     "duration": 0.009778,
     "end_time": "2023-02-22T16:27:16.995326",
     "exception": false,
     "start_time": "2023-02-22T16:27:16.985548",
     "status": "completed"
    },
    "tags": []
   },
   "source": [
    "# Series"
   ]
  },
  {
   "cell_type": "code",
   "execution_count": 2,
   "id": "619cd7c0",
   "metadata": {
    "execution": {
     "iopub.execute_input": "2023-02-22T16:27:17.017889Z",
     "iopub.status.busy": "2023-02-22T16:27:17.017131Z",
     "iopub.status.idle": "2023-02-22T16:27:17.026246Z",
     "shell.execute_reply": "2023-02-22T16:27:17.025214Z"
    },
    "papermill": {
     "duration": 0.023041,
     "end_time": "2023-02-22T16:27:17.028441",
     "exception": false,
     "start_time": "2023-02-22T16:27:17.005400",
     "status": "completed"
    },
    "tags": []
   },
   "outputs": [],
   "source": [
    "#create fake data\n",
    "#crate a python list\n",
    "mydata = ['Boat','Car','Bike','Truck']\n",
    "#create a pandas series from this list\n",
    "myseries1 = pd.Series(mydata)"
   ]
  },
  {
   "cell_type": "code",
   "execution_count": 3,
   "id": "cd82ca38",
   "metadata": {
    "execution": {
     "iopub.execute_input": "2023-02-22T16:27:17.051508Z",
     "iopub.status.busy": "2023-02-22T16:27:17.050726Z",
     "iopub.status.idle": "2023-02-22T16:27:17.057239Z",
     "shell.execute_reply": "2023-02-22T16:27:17.056211Z"
    },
    "papermill": {
     "duration": 0.020423,
     "end_time": "2023-02-22T16:27:17.059347",
     "exception": false,
     "start_time": "2023-02-22T16:27:17.038924",
     "status": "completed"
    },
    "tags": []
   },
   "outputs": [
    {
     "name": "stdout",
     "output_type": "stream",
     "text": [
      "0     Boat\n",
      "1      Car\n",
      "2     Bike\n",
      "3    Truck\n",
      "dtype: object\n"
     ]
    }
   ],
   "source": [
    "print(myseries1)\n",
    "#when we feed words in a string, the dtype is object"
   ]
  },
  {
   "cell_type": "code",
   "execution_count": 4,
   "id": "1a5209ba",
   "metadata": {
    "execution": {
     "iopub.execute_input": "2023-02-22T16:27:17.082346Z",
     "iopub.status.busy": "2023-02-22T16:27:17.081608Z",
     "iopub.status.idle": "2023-02-22T16:27:17.088804Z",
     "shell.execute_reply": "2023-02-22T16:27:17.087456Z"
    },
    "papermill": {
     "duration": 0.021127,
     "end_time": "2023-02-22T16:27:17.090928",
     "exception": false,
     "start_time": "2023-02-22T16:27:17.069801",
     "status": "completed"
    },
    "tags": []
   },
   "outputs": [
    {
     "name": "stdout",
     "output_type": "stream",
     "text": [
      "0     1\n",
      "1    55\n",
      "2    99\n",
      "3    43\n",
      "dtype: int64\n"
     ]
    }
   ],
   "source": [
    "mydata = [1,55,99,43]\n",
    "#create a pandas series from this list\n",
    "myseries2 = pd.Series(mydata)\n",
    "print(myseries2)\n",
    "#hence, a series is basically a list of data that have index and ada type"
   ]
  },
  {
   "cell_type": "markdown",
   "id": "4a61af1f",
   "metadata": {
    "papermill": {
     "duration": 0.010034,
     "end_time": "2023-02-22T16:27:17.111447",
     "exception": false,
     "start_time": "2023-02-22T16:27:17.101413",
     "status": "completed"
    },
    "tags": []
   },
   "source": [
    "# DataFrame"
   ]
  },
  {
   "cell_type": "code",
   "execution_count": 5,
   "id": "1382f695",
   "metadata": {
    "execution": {
     "iopub.execute_input": "2023-02-22T16:27:17.134509Z",
     "iopub.status.busy": "2023-02-22T16:27:17.133599Z",
     "iopub.status.idle": "2023-02-22T16:27:17.159319Z",
     "shell.execute_reply": "2023-02-22T16:27:17.158254Z"
    },
    "papermill": {
     "duration": 0.039774,
     "end_time": "2023-02-22T16:27:17.161460",
     "exception": false,
     "start_time": "2023-02-22T16:27:17.121686",
     "status": "completed"
    },
    "tags": []
   },
   "outputs": [
    {
     "data": {
      "text/html": [
       "<div>\n",
       "<style scoped>\n",
       "    .dataframe tbody tr th:only-of-type {\n",
       "        vertical-align: middle;\n",
       "    }\n",
       "\n",
       "    .dataframe tbody tr th {\n",
       "        vertical-align: top;\n",
       "    }\n",
       "\n",
       "    .dataframe thead th {\n",
       "        text-align: right;\n",
       "    }\n",
       "</style>\n",
       "<table border=\"1\" class=\"dataframe\">\n",
       "  <thead>\n",
       "    <tr style=\"text-align: right;\">\n",
       "      <th></th>\n",
       "      <th>thing</th>\n",
       "      <th>count</th>\n",
       "    </tr>\n",
       "  </thead>\n",
       "  <tbody>\n",
       "    <tr>\n",
       "      <th>0</th>\n",
       "      <td>Boat</td>\n",
       "      <td>1</td>\n",
       "    </tr>\n",
       "    <tr>\n",
       "      <th>1</th>\n",
       "      <td>Car</td>\n",
       "      <td>55</td>\n",
       "    </tr>\n",
       "    <tr>\n",
       "      <th>2</th>\n",
       "      <td>Bike</td>\n",
       "      <td>99</td>\n",
       "    </tr>\n",
       "    <tr>\n",
       "      <th>3</th>\n",
       "      <td>Truck</td>\n",
       "      <td>43</td>\n",
       "    </tr>\n",
       "  </tbody>\n",
       "</table>\n",
       "</div>"
      ],
      "text/plain": [
       "   thing  count\n",
       "0   Boat      1\n",
       "1    Car     55\n",
       "2   Bike     99\n",
       "3  Truck     43"
      ]
     },
     "execution_count": 5,
     "metadata": {},
     "output_type": "execute_result"
    }
   ],
   "source": [
    "mydfdata = [('Boat',1),('Car',55),('Bike',99),('Truck',43)]\n",
    "mydf = pd.DataFrame(mydfdata, columns=['thing','count'])\n",
    "mydf"
   ]
  },
  {
   "cell_type": "code",
   "execution_count": 6,
   "id": "210a9bd5",
   "metadata": {
    "execution": {
     "iopub.execute_input": "2023-02-22T16:27:17.184688Z",
     "iopub.status.busy": "2023-02-22T16:27:17.183831Z",
     "iopub.status.idle": "2023-02-22T16:27:17.196256Z",
     "shell.execute_reply": "2023-02-22T16:27:17.195199Z"
    },
    "papermill": {
     "duration": 0.026589,
     "end_time": "2023-02-22T16:27:17.198426",
     "exception": false,
     "start_time": "2023-02-22T16:27:17.171837",
     "status": "completed"
    },
    "tags": []
   },
   "outputs": [
    {
     "data": {
      "text/plain": [
       "thing    object\n",
       "count     int64\n",
       "dtype: object"
      ]
     },
     "execution_count": 6,
     "metadata": {},
     "output_type": "execute_result"
    }
   ],
   "source": [
    "type(mydf['thing'])\n",
    "mydf['count']\n",
    "mydf['thing']\n",
    "\n",
    "#inspect whats in a data frame\n",
    "#find type of variables in the data frame\n",
    "mydf.dtypes"
   ]
  },
  {
   "cell_type": "markdown",
   "id": "36d2ae00",
   "metadata": {
    "papermill": {
     "duration": 0.010267,
     "end_time": "2023-02-22T16:27:17.219480",
     "exception": false,
     "start_time": "2023-02-22T16:27:17.209213",
     "status": "completed"
    },
    "tags": []
   },
   "source": [
    "# Reading in Data"
   ]
  },
  {
   "cell_type": "code",
   "execution_count": 7,
   "id": "27763d7d",
   "metadata": {
    "execution": {
     "iopub.execute_input": "2023-02-22T16:27:17.243100Z",
     "iopub.status.busy": "2023-02-22T16:27:17.242190Z",
     "iopub.status.idle": "2023-02-22T16:27:17.267876Z",
     "shell.execute_reply": "2023-02-22T16:27:17.266655Z"
    },
    "papermill": {
     "duration": 0.040854,
     "end_time": "2023-02-22T16:27:17.270761",
     "exception": false,
     "start_time": "2023-02-22T16:27:17.229907",
     "status": "completed"
    },
    "tags": []
   },
   "outputs": [],
   "source": [
    "df = pd.read_csv('/kaggle/input/mr-beast-youtube-video-statistics/MrBeast_youtube_stats.csv')"
   ]
  },
  {
   "cell_type": "code",
   "execution_count": 8,
   "id": "d5a07c3e",
   "metadata": {
    "execution": {
     "iopub.execute_input": "2023-02-22T16:27:17.297739Z",
     "iopub.status.busy": "2023-02-22T16:27:17.296879Z",
     "iopub.status.idle": "2023-02-22T16:27:17.330093Z",
     "shell.execute_reply": "2023-02-22T16:27:17.328409Z"
    },
    "papermill": {
     "duration": 0.048649,
     "end_time": "2023-02-22T16:27:17.333584",
     "exception": false,
     "start_time": "2023-02-22T16:27:17.284935",
     "status": "completed"
    },
    "tags": []
   },
   "outputs": [
    {
     "data": {
      "text/html": [
       "<div>\n",
       "<style scoped>\n",
       "    .dataframe tbody tr th:only-of-type {\n",
       "        vertical-align: middle;\n",
       "    }\n",
       "\n",
       "    .dataframe tbody tr th {\n",
       "        vertical-align: top;\n",
       "    }\n",
       "\n",
       "    .dataframe thead th {\n",
       "        text-align: right;\n",
       "    }\n",
       "</style>\n",
       "<table border=\"1\" class=\"dataframe\">\n",
       "  <thead>\n",
       "    <tr style=\"text-align: right;\">\n",
       "      <th></th>\n",
       "      <th>id</th>\n",
       "      <th>title</th>\n",
       "      <th>description</th>\n",
       "      <th>publishTime</th>\n",
       "      <th>kind_stats</th>\n",
       "      <th>duration_seconds</th>\n",
       "      <th>viewCount</th>\n",
       "      <th>likeCount</th>\n",
       "      <th>commentCount</th>\n",
       "      <th>thumbnails.default.url</th>\n",
       "      <th>...</th>\n",
       "      <th>thumbnails.high.width</th>\n",
       "      <th>thumbnails.high.height</th>\n",
       "      <th>contentDetails.duration</th>\n",
       "      <th>contentDetails.dimension</th>\n",
       "      <th>topicDetails.topicCategories</th>\n",
       "      <th>snippet.defaultLanguage</th>\n",
       "      <th>localizations.en.title</th>\n",
       "      <th>localizations.en.description</th>\n",
       "      <th>snippet.tags</th>\n",
       "      <th>contentDetails.contentRating.ytRating</th>\n",
       "    </tr>\n",
       "  </thead>\n",
       "  <tbody>\n",
       "    <tr>\n",
       "      <th>0</th>\n",
       "      <td>TQHEJj68Jew</td>\n",
       "      <td>I Got Hunted By A Real Bounty Hunter</td>\n",
       "      <td>Sign up for Current w/ my Creator Code \"BEAST\"...</td>\n",
       "      <td>2021-04-24 20:00:00+00:00</td>\n",
       "      <td>youtube#video</td>\n",
       "      <td>861</td>\n",
       "      <td>84717282.0</td>\n",
       "      <td>2876493.0</td>\n",
       "      <td>128922.0</td>\n",
       "      <td>https://i.ytimg.com/vi/TQHEJj68Jew/default.jpg</td>\n",
       "      <td>...</td>\n",
       "      <td>480.0</td>\n",
       "      <td>360.0</td>\n",
       "      <td>PT14M21S</td>\n",
       "      <td>2d</td>\n",
       "      <td>['https://en.wikipedia.org/wiki/Lifestyle_(soc...</td>\n",
       "      <td>NaN</td>\n",
       "      <td>NaN</td>\n",
       "      <td>NaN</td>\n",
       "      <td>NaN</td>\n",
       "      <td>NaN</td>\n",
       "    </tr>\n",
       "    <tr>\n",
       "      <th>1</th>\n",
       "      <td>00NgUctWoLQ</td>\n",
       "      <td>Extreme $1,000,000 Hide And Seek</td>\n",
       "      <td>I didn't expect that to happen at the end I wa...</td>\n",
       "      <td>2021-12-18 21:00:00+00:00</td>\n",
       "      <td>youtube#video</td>\n",
       "      <td>729</td>\n",
       "      <td>32090178.0</td>\n",
       "      <td>2125183.0</td>\n",
       "      <td>73593.0</td>\n",
       "      <td>https://i.ytimg.com/vi/00NgUctWoLQ/default.jpg</td>\n",
       "      <td>...</td>\n",
       "      <td>480.0</td>\n",
       "      <td>360.0</td>\n",
       "      <td>PT12M9S</td>\n",
       "      <td>2d</td>\n",
       "      <td>['https://en.wikipedia.org/wiki/Lifestyle_(soc...</td>\n",
       "      <td>en</td>\n",
       "      <td>Extreme $1,000,000 Hide And Seek</td>\n",
       "      <td>I didn't expect that to happen at the end I wa...</td>\n",
       "      <td>NaN</td>\n",
       "      <td>NaN</td>\n",
       "    </tr>\n",
       "    <tr>\n",
       "      <th>2</th>\n",
       "      <td>NaN</td>\n",
       "      <td>MrBeast</td>\n",
       "      <td>Accomplishments - Raised $20000000 To Plant 20...</td>\n",
       "      <td>2012-02-20 00:43:50+00:00</td>\n",
       "      <td>NaN</td>\n",
       "      <td>0</td>\n",
       "      <td>NaN</td>\n",
       "      <td>NaN</td>\n",
       "      <td>NaN</td>\n",
       "      <td>https://yt3.ggpht.com/ytc/AKedOLTctGKJ32CdDLiS...</td>\n",
       "      <td>...</td>\n",
       "      <td>NaN</td>\n",
       "      <td>NaN</td>\n",
       "      <td>NaN</td>\n",
       "      <td>NaN</td>\n",
       "      <td>NaN</td>\n",
       "      <td>NaN</td>\n",
       "      <td>NaN</td>\n",
       "      <td>NaN</td>\n",
       "      <td>NaN</td>\n",
       "      <td>NaN</td>\n",
       "    </tr>\n",
       "    <tr>\n",
       "      <th>3</th>\n",
       "      <td>ayXxwJJId_c</td>\n",
       "      <td>I Bought The World&amp;#39;s Largest Mystery Box! ...</td>\n",
       "      <td>I cant believe I spent over $500000 on mystery...</td>\n",
       "      <td>2021-04-03 20:00:01+00:00</td>\n",
       "      <td>youtube#video</td>\n",
       "      <td>709</td>\n",
       "      <td>101745632.0</td>\n",
       "      <td>3110824.0</td>\n",
       "      <td>162796.0</td>\n",
       "      <td>https://i.ytimg.com/vi/ayXxwJJId_c/default.jpg</td>\n",
       "      <td>...</td>\n",
       "      <td>480.0</td>\n",
       "      <td>360.0</td>\n",
       "      <td>PT11M49S</td>\n",
       "      <td>2d</td>\n",
       "      <td>['https://en.wikipedia.org/wiki/Lifestyle_(soc...</td>\n",
       "      <td>NaN</td>\n",
       "      <td>NaN</td>\n",
       "      <td>NaN</td>\n",
       "      <td>NaN</td>\n",
       "      <td>NaN</td>\n",
       "    </tr>\n",
       "    <tr>\n",
       "      <th>4</th>\n",
       "      <td>cExLQ1o2pDw</td>\n",
       "      <td>First To Rob Bank Wins $100,000</td>\n",
       "      <td>I didnt think he would actually rob the bank.....</td>\n",
       "      <td>2021-09-26 20:00:06+00:00</td>\n",
       "      <td>youtube#video</td>\n",
       "      <td>482</td>\n",
       "      <td>50008942.0</td>\n",
       "      <td>2359606.0</td>\n",
       "      <td>120621.0</td>\n",
       "      <td>https://i.ytimg.com/vi/cExLQ1o2pDw/default.jpg</td>\n",
       "      <td>...</td>\n",
       "      <td>480.0</td>\n",
       "      <td>360.0</td>\n",
       "      <td>PT8M2S</td>\n",
       "      <td>2d</td>\n",
       "      <td>['https://en.wikipedia.org/wiki/Lifestyle_(soc...</td>\n",
       "      <td>NaN</td>\n",
       "      <td>NaN</td>\n",
       "      <td>NaN</td>\n",
       "      <td>NaN</td>\n",
       "      <td>NaN</td>\n",
       "    </tr>\n",
       "  </tbody>\n",
       "</table>\n",
       "<p>5 rows × 26 columns</p>\n",
       "</div>"
      ],
      "text/plain": [
       "            id                                              title  \\\n",
       "0  TQHEJj68Jew               I Got Hunted By A Real Bounty Hunter   \n",
       "1  00NgUctWoLQ                   Extreme $1,000,000 Hide And Seek   \n",
       "2          NaN                                            MrBeast   \n",
       "3  ayXxwJJId_c  I Bought The World&#39;s Largest Mystery Box! ...   \n",
       "4  cExLQ1o2pDw                    First To Rob Bank Wins $100,000   \n",
       "\n",
       "                                         description  \\\n",
       "0  Sign up for Current w/ my Creator Code \"BEAST\"...   \n",
       "1  I didn't expect that to happen at the end I wa...   \n",
       "2  Accomplishments - Raised $20000000 To Plant 20...   \n",
       "3  I cant believe I spent over $500000 on mystery...   \n",
       "4  I didnt think he would actually rob the bank.....   \n",
       "\n",
       "                 publishTime     kind_stats  duration_seconds    viewCount  \\\n",
       "0  2021-04-24 20:00:00+00:00  youtube#video               861   84717282.0   \n",
       "1  2021-12-18 21:00:00+00:00  youtube#video               729   32090178.0   \n",
       "2  2012-02-20 00:43:50+00:00            NaN                 0          NaN   \n",
       "3  2021-04-03 20:00:01+00:00  youtube#video               709  101745632.0   \n",
       "4  2021-09-26 20:00:06+00:00  youtube#video               482   50008942.0   \n",
       "\n",
       "   likeCount  commentCount                             thumbnails.default.url  \\\n",
       "0  2876493.0      128922.0     https://i.ytimg.com/vi/TQHEJj68Jew/default.jpg   \n",
       "1  2125183.0       73593.0     https://i.ytimg.com/vi/00NgUctWoLQ/default.jpg   \n",
       "2        NaN           NaN  https://yt3.ggpht.com/ytc/AKedOLTctGKJ32CdDLiS...   \n",
       "3  3110824.0      162796.0     https://i.ytimg.com/vi/ayXxwJJId_c/default.jpg   \n",
       "4  2359606.0      120621.0     https://i.ytimg.com/vi/cExLQ1o2pDw/default.jpg   \n",
       "\n",
       "   ...  thumbnails.high.width  thumbnails.high.height contentDetails.duration  \\\n",
       "0  ...                  480.0                   360.0                PT14M21S   \n",
       "1  ...                  480.0                   360.0                 PT12M9S   \n",
       "2  ...                    NaN                     NaN                     NaN   \n",
       "3  ...                  480.0                   360.0                PT11M49S   \n",
       "4  ...                  480.0                   360.0                  PT8M2S   \n",
       "\n",
       "   contentDetails.dimension  \\\n",
       "0                        2d   \n",
       "1                        2d   \n",
       "2                       NaN   \n",
       "3                        2d   \n",
       "4                        2d   \n",
       "\n",
       "                        topicDetails.topicCategories snippet.defaultLanguage  \\\n",
       "0  ['https://en.wikipedia.org/wiki/Lifestyle_(soc...                     NaN   \n",
       "1  ['https://en.wikipedia.org/wiki/Lifestyle_(soc...                      en   \n",
       "2                                                NaN                     NaN   \n",
       "3  ['https://en.wikipedia.org/wiki/Lifestyle_(soc...                     NaN   \n",
       "4  ['https://en.wikipedia.org/wiki/Lifestyle_(soc...                     NaN   \n",
       "\n",
       "             localizations.en.title  \\\n",
       "0                               NaN   \n",
       "1  Extreme $1,000,000 Hide And Seek   \n",
       "2                               NaN   \n",
       "3                               NaN   \n",
       "4                               NaN   \n",
       "\n",
       "                        localizations.en.description snippet.tags  \\\n",
       "0                                                NaN          NaN   \n",
       "1  I didn't expect that to happen at the end I wa...          NaN   \n",
       "2                                                NaN          NaN   \n",
       "3                                                NaN          NaN   \n",
       "4                                                NaN          NaN   \n",
       "\n",
       "  contentDetails.contentRating.ytRating  \n",
       "0                                   NaN  \n",
       "1                                   NaN  \n",
       "2                                   NaN  \n",
       "3                                   NaN  \n",
       "4                                   NaN  \n",
       "\n",
       "[5 rows x 26 columns]"
      ]
     },
     "execution_count": 8,
     "metadata": {},
     "output_type": "execute_result"
    }
   ],
   "source": [
    "df.head()"
   ]
  },
  {
   "cell_type": "code",
   "execution_count": 9,
   "id": "62aa0447",
   "metadata": {
    "execution": {
     "iopub.execute_input": "2023-02-22T16:27:17.357725Z",
     "iopub.status.busy": "2023-02-22T16:27:17.357312Z",
     "iopub.status.idle": "2023-02-22T16:27:17.385357Z",
     "shell.execute_reply": "2023-02-22T16:27:17.384582Z"
    },
    "papermill": {
     "duration": 0.04246,
     "end_time": "2023-02-22T16:27:17.387700",
     "exception": false,
     "start_time": "2023-02-22T16:27:17.345240",
     "status": "completed"
    },
    "tags": []
   },
   "outputs": [
    {
     "data": {
      "text/html": [
       "<div>\n",
       "<style scoped>\n",
       "    .dataframe tbody tr th:only-of-type {\n",
       "        vertical-align: middle;\n",
       "    }\n",
       "\n",
       "    .dataframe tbody tr th {\n",
       "        vertical-align: top;\n",
       "    }\n",
       "\n",
       "    .dataframe thead th {\n",
       "        text-align: right;\n",
       "    }\n",
       "</style>\n",
       "<table border=\"1\" class=\"dataframe\">\n",
       "  <thead>\n",
       "    <tr style=\"text-align: right;\">\n",
       "      <th></th>\n",
       "      <th>id</th>\n",
       "      <th>title</th>\n",
       "      <th>description</th>\n",
       "      <th>publishTime</th>\n",
       "      <th>kind_stats</th>\n",
       "      <th>duration_seconds</th>\n",
       "      <th>viewCount</th>\n",
       "      <th>likeCount</th>\n",
       "      <th>commentCount</th>\n",
       "      <th>thumbnails.default.url</th>\n",
       "      <th>...</th>\n",
       "      <th>thumbnails.high.width</th>\n",
       "      <th>thumbnails.high.height</th>\n",
       "      <th>contentDetails.duration</th>\n",
       "      <th>contentDetails.dimension</th>\n",
       "      <th>topicDetails.topicCategories</th>\n",
       "      <th>snippet.defaultLanguage</th>\n",
       "      <th>localizations.en.title</th>\n",
       "      <th>localizations.en.description</th>\n",
       "      <th>snippet.tags</th>\n",
       "      <th>contentDetails.contentRating.ytRating</th>\n",
       "    </tr>\n",
       "  </thead>\n",
       "  <tbody>\n",
       "    <tr>\n",
       "      <th>242</th>\n",
       "      <td>yeHjsYQ076A</td>\n",
       "      <td>Remember When COD Was Fun?</td>\n",
       "      <td>Yup, another very pointless video ▻ Subscribe?...</td>\n",
       "      <td>2015-04-26 21:26:36+00:00</td>\n",
       "      <td>youtube#video</td>\n",
       "      <td>216</td>\n",
       "      <td>16312.0</td>\n",
       "      <td>574.0</td>\n",
       "      <td>145.0</td>\n",
       "      <td>https://i.ytimg.com/vi/yeHjsYQ076A/default.jpg</td>\n",
       "      <td>...</td>\n",
       "      <td>480.0</td>\n",
       "      <td>360.0</td>\n",
       "      <td>PT3M36S</td>\n",
       "      <td>2d</td>\n",
       "      <td>['https://en.wikipedia.org/wiki/Action-adventu...</td>\n",
       "      <td>NaN</td>\n",
       "      <td>NaN</td>\n",
       "      <td>NaN</td>\n",
       "      <td>['How', 'much', 'money', 'does', 'make', 'blac...</td>\n",
       "      <td>NaN</td>\n",
       "    </tr>\n",
       "    <tr>\n",
       "      <th>243</th>\n",
       "      <td>X7doE4h6W64</td>\n",
       "      <td>Insane Gun Sync - 7 Hours To Make</td>\n",
       "      <td>Look at this - http://gyazo.com/8852509d2350db...</td>\n",
       "      <td>2015-06-21 12:22:34+00:00</td>\n",
       "      <td>youtube#video</td>\n",
       "      <td>134</td>\n",
       "      <td>15740.0</td>\n",
       "      <td>637.0</td>\n",
       "      <td>105.0</td>\n",
       "      <td>https://i.ytimg.com/vi/X7doE4h6W64/default.jpg</td>\n",
       "      <td>...</td>\n",
       "      <td>480.0</td>\n",
       "      <td>360.0</td>\n",
       "      <td>PT2M14S</td>\n",
       "      <td>2d</td>\n",
       "      <td>['https://en.wikipedia.org/wiki/Action-adventu...</td>\n",
       "      <td>NaN</td>\n",
       "      <td>NaN</td>\n",
       "      <td>NaN</td>\n",
       "      <td>['How', 'much', 'money', 'does', 'make', 'blac...</td>\n",
       "      <td>NaN</td>\n",
       "    </tr>\n",
       "    <tr>\n",
       "      <th>244</th>\n",
       "      <td>AIytwdufwW8</td>\n",
       "      <td>MY MESSAGE TO COD YOUTUBERS (Watch till end plz)</td>\n",
       "      <td>The beginning of the video is a little off top...</td>\n",
       "      <td>2015-05-29 20:07:48+00:00</td>\n",
       "      <td>youtube#video</td>\n",
       "      <td>292</td>\n",
       "      <td>18502.0</td>\n",
       "      <td>508.0</td>\n",
       "      <td>117.0</td>\n",
       "      <td>https://i.ytimg.com/vi/AIytwdufwW8/default.jpg</td>\n",
       "      <td>...</td>\n",
       "      <td>480.0</td>\n",
       "      <td>360.0</td>\n",
       "      <td>PT4M52S</td>\n",
       "      <td>2d</td>\n",
       "      <td>['https://en.wikipedia.org/wiki/Action-adventu...</td>\n",
       "      <td>NaN</td>\n",
       "      <td>NaN</td>\n",
       "      <td>NaN</td>\n",
       "      <td>['How', 'much', 'money', 'does', 'make', 'blac...</td>\n",
       "      <td>NaN</td>\n",
       "    </tr>\n",
       "    <tr>\n",
       "      <th>245</th>\n",
       "      <td>56OkH6ocYZU</td>\n",
       "      <td>L0114R - Biblical Creeper Post for Post @L0114R</td>\n",
       "      <td>His channel - https://www.youtube.com/user/the...</td>\n",
       "      <td>2015-05-15 16:48:54+00:00</td>\n",
       "      <td>youtube#video</td>\n",
       "      <td>109</td>\n",
       "      <td>16627.0</td>\n",
       "      <td>430.0</td>\n",
       "      <td>134.0</td>\n",
       "      <td>https://i.ytimg.com/vi/56OkH6ocYZU/default.jpg</td>\n",
       "      <td>...</td>\n",
       "      <td>480.0</td>\n",
       "      <td>360.0</td>\n",
       "      <td>PT1M49S</td>\n",
       "      <td>2d</td>\n",
       "      <td>['https://en.wikipedia.org/wiki/Action-adventu...</td>\n",
       "      <td>NaN</td>\n",
       "      <td>NaN</td>\n",
       "      <td>NaN</td>\n",
       "      <td>['How', 'much', 'money', 'does', 'make', 'blac...</td>\n",
       "      <td>NaN</td>\n",
       "    </tr>\n",
       "    <tr>\n",
       "      <th>246</th>\n",
       "      <td>zi7tZ-2PhLk</td>\n",
       "      <td>How Much Money Do You Make As An Uber Driver??...</td>\n",
       "      <td>In this video I talk about being an uber drive...</td>\n",
       "      <td>2015-05-31 18:31:25+00:00</td>\n",
       "      <td>youtube#video</td>\n",
       "      <td>304</td>\n",
       "      <td>18773.0</td>\n",
       "      <td>370.0</td>\n",
       "      <td>59.0</td>\n",
       "      <td>https://i.ytimg.com/vi/zi7tZ-2PhLk/default.jpg</td>\n",
       "      <td>...</td>\n",
       "      <td>480.0</td>\n",
       "      <td>360.0</td>\n",
       "      <td>PT5M4S</td>\n",
       "      <td>2d</td>\n",
       "      <td>['https://en.wikipedia.org/wiki/Action-adventu...</td>\n",
       "      <td>NaN</td>\n",
       "      <td>NaN</td>\n",
       "      <td>NaN</td>\n",
       "      <td>['How', 'much', 'money', 'does', 'make', 'blac...</td>\n",
       "      <td>NaN</td>\n",
       "    </tr>\n",
       "  </tbody>\n",
       "</table>\n",
       "<p>5 rows × 26 columns</p>\n",
       "</div>"
      ],
      "text/plain": [
       "              id                                              title  \\\n",
       "242  yeHjsYQ076A                         Remember When COD Was Fun?   \n",
       "243  X7doE4h6W64                  Insane Gun Sync - 7 Hours To Make   \n",
       "244  AIytwdufwW8   MY MESSAGE TO COD YOUTUBERS (Watch till end plz)   \n",
       "245  56OkH6ocYZU    L0114R - Biblical Creeper Post for Post @L0114R   \n",
       "246  zi7tZ-2PhLk  How Much Money Do You Make As An Uber Driver??...   \n",
       "\n",
       "                                           description  \\\n",
       "242  Yup, another very pointless video ▻ Subscribe?...   \n",
       "243  Look at this - http://gyazo.com/8852509d2350db...   \n",
       "244  The beginning of the video is a little off top...   \n",
       "245  His channel - https://www.youtube.com/user/the...   \n",
       "246  In this video I talk about being an uber drive...   \n",
       "\n",
       "                   publishTime     kind_stats  duration_seconds  viewCount  \\\n",
       "242  2015-04-26 21:26:36+00:00  youtube#video               216    16312.0   \n",
       "243  2015-06-21 12:22:34+00:00  youtube#video               134    15740.0   \n",
       "244  2015-05-29 20:07:48+00:00  youtube#video               292    18502.0   \n",
       "245  2015-05-15 16:48:54+00:00  youtube#video               109    16627.0   \n",
       "246  2015-05-31 18:31:25+00:00  youtube#video               304    18773.0   \n",
       "\n",
       "     likeCount  commentCount                          thumbnails.default.url  \\\n",
       "242      574.0         145.0  https://i.ytimg.com/vi/yeHjsYQ076A/default.jpg   \n",
       "243      637.0         105.0  https://i.ytimg.com/vi/X7doE4h6W64/default.jpg   \n",
       "244      508.0         117.0  https://i.ytimg.com/vi/AIytwdufwW8/default.jpg   \n",
       "245      430.0         134.0  https://i.ytimg.com/vi/56OkH6ocYZU/default.jpg   \n",
       "246      370.0          59.0  https://i.ytimg.com/vi/zi7tZ-2PhLk/default.jpg   \n",
       "\n",
       "     ...  thumbnails.high.width  thumbnails.high.height  \\\n",
       "242  ...                  480.0                   360.0   \n",
       "243  ...                  480.0                   360.0   \n",
       "244  ...                  480.0                   360.0   \n",
       "245  ...                  480.0                   360.0   \n",
       "246  ...                  480.0                   360.0   \n",
       "\n",
       "    contentDetails.duration  contentDetails.dimension  \\\n",
       "242                 PT3M36S                        2d   \n",
       "243                 PT2M14S                        2d   \n",
       "244                 PT4M52S                        2d   \n",
       "245                 PT1M49S                        2d   \n",
       "246                  PT5M4S                        2d   \n",
       "\n",
       "                          topicDetails.topicCategories  \\\n",
       "242  ['https://en.wikipedia.org/wiki/Action-adventu...   \n",
       "243  ['https://en.wikipedia.org/wiki/Action-adventu...   \n",
       "244  ['https://en.wikipedia.org/wiki/Action-adventu...   \n",
       "245  ['https://en.wikipedia.org/wiki/Action-adventu...   \n",
       "246  ['https://en.wikipedia.org/wiki/Action-adventu...   \n",
       "\n",
       "    snippet.defaultLanguage  localizations.en.title  \\\n",
       "242                     NaN                     NaN   \n",
       "243                     NaN                     NaN   \n",
       "244                     NaN                     NaN   \n",
       "245                     NaN                     NaN   \n",
       "246                     NaN                     NaN   \n",
       "\n",
       "     localizations.en.description  \\\n",
       "242                           NaN   \n",
       "243                           NaN   \n",
       "244                           NaN   \n",
       "245                           NaN   \n",
       "246                           NaN   \n",
       "\n",
       "                                          snippet.tags  \\\n",
       "242  ['How', 'much', 'money', 'does', 'make', 'blac...   \n",
       "243  ['How', 'much', 'money', 'does', 'make', 'blac...   \n",
       "244  ['How', 'much', 'money', 'does', 'make', 'blac...   \n",
       "245  ['How', 'much', 'money', 'does', 'make', 'blac...   \n",
       "246  ['How', 'much', 'money', 'does', 'make', 'blac...   \n",
       "\n",
       "    contentDetails.contentRating.ytRating  \n",
       "242                                   NaN  \n",
       "243                                   NaN  \n",
       "244                                   NaN  \n",
       "245                                   NaN  \n",
       "246                                   NaN  \n",
       "\n",
       "[5 rows x 26 columns]"
      ]
     },
     "execution_count": 9,
     "metadata": {},
     "output_type": "execute_result"
    }
   ],
   "source": [
    "df.tail()"
   ]
  },
  {
   "cell_type": "code",
   "execution_count": 10,
   "id": "359bac81",
   "metadata": {
    "execution": {
     "iopub.execute_input": "2023-02-22T16:27:17.412756Z",
     "iopub.status.busy": "2023-02-22T16:27:17.412171Z",
     "iopub.status.idle": "2023-02-22T16:27:17.419761Z",
     "shell.execute_reply": "2023-02-22T16:27:17.418779Z"
    },
    "papermill": {
     "duration": 0.022779,
     "end_time": "2023-02-22T16:27:17.422143",
     "exception": false,
     "start_time": "2023-02-22T16:27:17.399364",
     "status": "completed"
    },
    "tags": []
   },
   "outputs": [
    {
     "data": {
      "text/plain": [
       "id                                        object\n",
       "title                                     object\n",
       "description                               object\n",
       "publishTime                               object\n",
       "kind_stats                                object\n",
       "duration_seconds                           int64\n",
       "viewCount                                float64\n",
       "likeCount                                float64\n",
       "commentCount                             float64\n",
       "thumbnails.default.url                    object\n",
       "thumbnails.default.width                 float64\n",
       "thumbnails.default.height                float64\n",
       "thumbnails.medium.url                     object\n",
       "thumbnails.medium.width                  float64\n",
       "thumbnails.medium.height                 float64\n",
       "thumbnails.high.url                       object\n",
       "thumbnails.high.width                    float64\n",
       "thumbnails.high.height                   float64\n",
       "contentDetails.duration                   object\n",
       "contentDetails.dimension                  object\n",
       "topicDetails.topicCategories              object\n",
       "snippet.defaultLanguage                   object\n",
       "localizations.en.title                    object\n",
       "localizations.en.description              object\n",
       "snippet.tags                              object\n",
       "contentDetails.contentRating.ytRating     object\n",
       "dtype: object"
      ]
     },
     "execution_count": 10,
     "metadata": {},
     "output_type": "execute_result"
    }
   ],
   "source": [
    "df.dtypes"
   ]
  },
  {
   "cell_type": "code",
   "execution_count": 11,
   "id": "95c85053",
   "metadata": {
    "execution": {
     "iopub.execute_input": "2023-02-22T16:27:17.447262Z",
     "iopub.status.busy": "2023-02-22T16:27:17.446573Z",
     "iopub.status.idle": "2023-02-22T16:27:17.493237Z",
     "shell.execute_reply": "2023-02-22T16:27:17.492109Z"
    },
    "papermill": {
     "duration": 0.061832,
     "end_time": "2023-02-22T16:27:17.495503",
     "exception": false,
     "start_time": "2023-02-22T16:27:17.433671",
     "status": "completed"
    },
    "tags": []
   },
   "outputs": [
    {
     "data": {
      "text/html": [
       "<div>\n",
       "<style scoped>\n",
       "    .dataframe tbody tr th:only-of-type {\n",
       "        vertical-align: middle;\n",
       "    }\n",
       "\n",
       "    .dataframe tbody tr th {\n",
       "        vertical-align: top;\n",
       "    }\n",
       "\n",
       "    .dataframe thead th {\n",
       "        text-align: right;\n",
       "    }\n",
       "</style>\n",
       "<table border=\"1\" class=\"dataframe\">\n",
       "  <thead>\n",
       "    <tr style=\"text-align: right;\">\n",
       "      <th></th>\n",
       "      <th>duration_seconds</th>\n",
       "      <th>viewCount</th>\n",
       "      <th>likeCount</th>\n",
       "      <th>commentCount</th>\n",
       "      <th>thumbnails.default.width</th>\n",
       "      <th>thumbnails.default.height</th>\n",
       "      <th>thumbnails.medium.width</th>\n",
       "      <th>thumbnails.medium.height</th>\n",
       "      <th>thumbnails.high.width</th>\n",
       "      <th>thumbnails.high.height</th>\n",
       "    </tr>\n",
       "  </thead>\n",
       "  <tbody>\n",
       "    <tr>\n",
       "      <th>count</th>\n",
       "      <td>247.000000</td>\n",
       "      <td>2.460000e+02</td>\n",
       "      <td>2.440000e+02</td>\n",
       "      <td>245.000000</td>\n",
       "      <td>246.0</td>\n",
       "      <td>246.0</td>\n",
       "      <td>246.0</td>\n",
       "      <td>246.0</td>\n",
       "      <td>246.0</td>\n",
       "      <td>246.0</td>\n",
       "    </tr>\n",
       "    <tr>\n",
       "      <th>mean</th>\n",
       "      <td>1886.234818</td>\n",
       "      <td>5.084638e+07</td>\n",
       "      <td>1.610498e+06</td>\n",
       "      <td>75562.783673</td>\n",
       "      <td>120.0</td>\n",
       "      <td>90.0</td>\n",
       "      <td>320.0</td>\n",
       "      <td>180.0</td>\n",
       "      <td>480.0</td>\n",
       "      <td>360.0</td>\n",
       "    </tr>\n",
       "    <tr>\n",
       "      <th>std</th>\n",
       "      <td>8642.188728</td>\n",
       "      <td>4.062672e+07</td>\n",
       "      <td>1.879529e+06</td>\n",
       "      <td>85356.537127</td>\n",
       "      <td>0.0</td>\n",
       "      <td>0.0</td>\n",
       "      <td>0.0</td>\n",
       "      <td>0.0</td>\n",
       "      <td>0.0</td>\n",
       "      <td>0.0</td>\n",
       "    </tr>\n",
       "    <tr>\n",
       "      <th>min</th>\n",
       "      <td>0.000000</td>\n",
       "      <td>1.395400e+04</td>\n",
       "      <td>3.700000e+02</td>\n",
       "      <td>59.000000</td>\n",
       "      <td>120.0</td>\n",
       "      <td>90.0</td>\n",
       "      <td>320.0</td>\n",
       "      <td>180.0</td>\n",
       "      <td>480.0</td>\n",
       "      <td>360.0</td>\n",
       "    </tr>\n",
       "    <tr>\n",
       "      <th>25%</th>\n",
       "      <td>425.500000</td>\n",
       "      <td>1.406442e+07</td>\n",
       "      <td>4.348780e+05</td>\n",
       "      <td>21552.000000</td>\n",
       "      <td>120.0</td>\n",
       "      <td>90.0</td>\n",
       "      <td>320.0</td>\n",
       "      <td>180.0</td>\n",
       "      <td>480.0</td>\n",
       "      <td>360.0</td>\n",
       "    </tr>\n",
       "    <tr>\n",
       "      <th>50%</th>\n",
       "      <td>776.000000</td>\n",
       "      <td>4.904782e+07</td>\n",
       "      <td>1.358232e+06</td>\n",
       "      <td>60701.000000</td>\n",
       "      <td>120.0</td>\n",
       "      <td>90.0</td>\n",
       "      <td>320.0</td>\n",
       "      <td>180.0</td>\n",
       "      <td>480.0</td>\n",
       "      <td>360.0</td>\n",
       "    </tr>\n",
       "    <tr>\n",
       "      <th>75%</th>\n",
       "      <td>923.000000</td>\n",
       "      <td>8.125392e+07</td>\n",
       "      <td>2.294378e+06</td>\n",
       "      <td>99670.000000</td>\n",
       "      <td>120.0</td>\n",
       "      <td>90.0</td>\n",
       "      <td>320.0</td>\n",
       "      <td>180.0</td>\n",
       "      <td>480.0</td>\n",
       "      <td>360.0</td>\n",
       "    </tr>\n",
       "    <tr>\n",
       "      <th>max</th>\n",
       "      <td>85686.000000</td>\n",
       "      <td>1.787632e+08</td>\n",
       "      <td>1.904943e+07</td>\n",
       "      <td>726861.000000</td>\n",
       "      <td>120.0</td>\n",
       "      <td>90.0</td>\n",
       "      <td>320.0</td>\n",
       "      <td>180.0</td>\n",
       "      <td>480.0</td>\n",
       "      <td>360.0</td>\n",
       "    </tr>\n",
       "  </tbody>\n",
       "</table>\n",
       "</div>"
      ],
      "text/plain": [
       "       duration_seconds     viewCount     likeCount   commentCount  \\\n",
       "count        247.000000  2.460000e+02  2.440000e+02     245.000000   \n",
       "mean        1886.234818  5.084638e+07  1.610498e+06   75562.783673   \n",
       "std         8642.188728  4.062672e+07  1.879529e+06   85356.537127   \n",
       "min            0.000000  1.395400e+04  3.700000e+02      59.000000   \n",
       "25%          425.500000  1.406442e+07  4.348780e+05   21552.000000   \n",
       "50%          776.000000  4.904782e+07  1.358232e+06   60701.000000   \n",
       "75%          923.000000  8.125392e+07  2.294378e+06   99670.000000   \n",
       "max        85686.000000  1.787632e+08  1.904943e+07  726861.000000   \n",
       "\n",
       "       thumbnails.default.width  thumbnails.default.height  \\\n",
       "count                     246.0                      246.0   \n",
       "mean                      120.0                       90.0   \n",
       "std                         0.0                        0.0   \n",
       "min                       120.0                       90.0   \n",
       "25%                       120.0                       90.0   \n",
       "50%                       120.0                       90.0   \n",
       "75%                       120.0                       90.0   \n",
       "max                       120.0                       90.0   \n",
       "\n",
       "       thumbnails.medium.width  thumbnails.medium.height  \\\n",
       "count                    246.0                     246.0   \n",
       "mean                     320.0                     180.0   \n",
       "std                        0.0                       0.0   \n",
       "min                      320.0                     180.0   \n",
       "25%                      320.0                     180.0   \n",
       "50%                      320.0                     180.0   \n",
       "75%                      320.0                     180.0   \n",
       "max                      320.0                     180.0   \n",
       "\n",
       "       thumbnails.high.width  thumbnails.high.height  \n",
       "count                  246.0                   246.0  \n",
       "mean                   480.0                   360.0  \n",
       "std                      0.0                     0.0  \n",
       "min                    480.0                   360.0  \n",
       "25%                    480.0                   360.0  \n",
       "50%                    480.0                   360.0  \n",
       "75%                    480.0                   360.0  \n",
       "max                    480.0                   360.0  "
      ]
     },
     "execution_count": 11,
     "metadata": {},
     "output_type": "execute_result"
    }
   ],
   "source": [
    "df.describe()\n",
    "#only work for numeric columns"
   ]
  },
  {
   "cell_type": "markdown",
   "id": "74a782f4",
   "metadata": {
    "papermill": {
     "duration": 0.011563,
     "end_time": "2023-02-22T16:27:17.518988",
     "exception": false,
     "start_time": "2023-02-22T16:27:17.507425",
     "status": "completed"
    },
    "tags": []
   },
   "source": [
    "# Columns and Rows"
   ]
  },
  {
   "cell_type": "code",
   "execution_count": 12,
   "id": "9366eae4",
   "metadata": {
    "execution": {
     "iopub.execute_input": "2023-02-22T16:27:17.544663Z",
     "iopub.status.busy": "2023-02-22T16:27:17.544048Z",
     "iopub.status.idle": "2023-02-22T16:27:17.552733Z",
     "shell.execute_reply": "2023-02-22T16:27:17.551759Z"
    },
    "papermill": {
     "duration": 0.024111,
     "end_time": "2023-02-22T16:27:17.554893",
     "exception": false,
     "start_time": "2023-02-22T16:27:17.530782",
     "status": "completed"
    },
    "tags": []
   },
   "outputs": [
    {
     "data": {
      "text/plain": [
       "0       84717282.0\n",
       "1       32090178.0\n",
       "2              NaN\n",
       "3      101745632.0\n",
       "4       50008942.0\n",
       "          ...     \n",
       "242        16312.0\n",
       "243        15740.0\n",
       "244        18502.0\n",
       "245        16627.0\n",
       "246        18773.0\n",
       "Name: viewCount, Length: 247, dtype: float64"
      ]
     },
     "execution_count": 12,
     "metadata": {},
     "output_type": "execute_result"
    }
   ],
   "source": [
    "df['viewCount']"
   ]
  },
  {
   "cell_type": "code",
   "execution_count": 13,
   "id": "15ad7b9e",
   "metadata": {
    "execution": {
     "iopub.execute_input": "2023-02-22T16:27:17.580888Z",
     "iopub.status.busy": "2023-02-22T16:27:17.580251Z",
     "iopub.status.idle": "2023-02-22T16:27:17.588500Z",
     "shell.execute_reply": "2023-02-22T16:27:17.587523Z"
    },
    "papermill": {
     "duration": 0.023643,
     "end_time": "2023-02-22T16:27:17.590578",
     "exception": false,
     "start_time": "2023-02-22T16:27:17.566935",
     "status": "completed"
    },
    "tags": []
   },
   "outputs": [
    {
     "data": {
      "text/plain": [
       "id                                                                             cExLQ1o2pDw\n",
       "title                                                      First To Rob Bank Wins $100,000\n",
       "description                              I didnt think he would actually rob the bank.....\n",
       "publishTime                                                      2021-09-26 20:00:06+00:00\n",
       "kind_stats                                                                   youtube#video\n",
       "duration_seconds                                                                       482\n",
       "viewCount                                                                       50008942.0\n",
       "likeCount                                                                        2359606.0\n",
       "commentCount                                                                      120621.0\n",
       "thumbnails.default.url                      https://i.ytimg.com/vi/cExLQ1o2pDw/default.jpg\n",
       "thumbnails.default.width                                                             120.0\n",
       "thumbnails.default.height                                                             90.0\n",
       "thumbnails.medium.url                     https://i.ytimg.com/vi/cExLQ1o2pDw/mqdefault.jpg\n",
       "thumbnails.medium.width                                                              320.0\n",
       "thumbnails.medium.height                                                             180.0\n",
       "thumbnails.high.url                       https://i.ytimg.com/vi/cExLQ1o2pDw/hqdefault.jpg\n",
       "thumbnails.high.width                                                                480.0\n",
       "thumbnails.high.height                                                               360.0\n",
       "contentDetails.duration                                                             PT8M2S\n",
       "contentDetails.dimension                                                                2d\n",
       "topicDetails.topicCategories             ['https://en.wikipedia.org/wiki/Lifestyle_(soc...\n",
       "snippet.defaultLanguage                                                                NaN\n",
       "localizations.en.title                                                                 NaN\n",
       "localizations.en.description                                                           NaN\n",
       "snippet.tags                                                                           NaN\n",
       "contentDetails.contentRating.ytRating                                                  NaN\n",
       "Name: 4, dtype: object"
      ]
     },
     "execution_count": 13,
     "metadata": {},
     "output_type": "execute_result"
    }
   ],
   "source": [
    "df.loc[4]\n",
    "#to see index number 4\n",
    "#in pandas the index can be anything"
   ]
  },
  {
   "cell_type": "code",
   "execution_count": 14,
   "id": "e5e2b209",
   "metadata": {
    "execution": {
     "iopub.execute_input": "2023-02-22T16:27:17.616822Z",
     "iopub.status.busy": "2023-02-22T16:27:17.616404Z",
     "iopub.status.idle": "2023-02-22T16:27:17.652594Z",
     "shell.execute_reply": "2023-02-22T16:27:17.651361Z"
    },
    "papermill": {
     "duration": 0.052483,
     "end_time": "2023-02-22T16:27:17.655348",
     "exception": false,
     "start_time": "2023-02-22T16:27:17.602865",
     "status": "completed"
    },
    "tags": []
   },
   "outputs": [
    {
     "data": {
      "text/html": [
       "<div>\n",
       "<style scoped>\n",
       "    .dataframe tbody tr th:only-of-type {\n",
       "        vertical-align: middle;\n",
       "    }\n",
       "\n",
       "    .dataframe tbody tr th {\n",
       "        vertical-align: top;\n",
       "    }\n",
       "\n",
       "    .dataframe thead th {\n",
       "        text-align: right;\n",
       "    }\n",
       "</style>\n",
       "<table border=\"1\" class=\"dataframe\">\n",
       "  <thead>\n",
       "    <tr style=\"text-align: right;\">\n",
       "      <th></th>\n",
       "      <th>title</th>\n",
       "      <th>description</th>\n",
       "      <th>publishTime</th>\n",
       "      <th>kind_stats</th>\n",
       "      <th>duration_seconds</th>\n",
       "      <th>viewCount</th>\n",
       "      <th>likeCount</th>\n",
       "      <th>commentCount</th>\n",
       "      <th>thumbnails.default.url</th>\n",
       "      <th>thumbnails.default.width</th>\n",
       "      <th>...</th>\n",
       "      <th>thumbnails.high.width</th>\n",
       "      <th>thumbnails.high.height</th>\n",
       "      <th>contentDetails.duration</th>\n",
       "      <th>contentDetails.dimension</th>\n",
       "      <th>topicDetails.topicCategories</th>\n",
       "      <th>snippet.defaultLanguage</th>\n",
       "      <th>localizations.en.title</th>\n",
       "      <th>localizations.en.description</th>\n",
       "      <th>snippet.tags</th>\n",
       "      <th>contentDetails.contentRating.ytRating</th>\n",
       "    </tr>\n",
       "    <tr>\n",
       "      <th>id</th>\n",
       "      <th></th>\n",
       "      <th></th>\n",
       "      <th></th>\n",
       "      <th></th>\n",
       "      <th></th>\n",
       "      <th></th>\n",
       "      <th></th>\n",
       "      <th></th>\n",
       "      <th></th>\n",
       "      <th></th>\n",
       "      <th></th>\n",
       "      <th></th>\n",
       "      <th></th>\n",
       "      <th></th>\n",
       "      <th></th>\n",
       "      <th></th>\n",
       "      <th></th>\n",
       "      <th></th>\n",
       "      <th></th>\n",
       "      <th></th>\n",
       "      <th></th>\n",
       "    </tr>\n",
       "  </thead>\n",
       "  <tbody>\n",
       "    <tr>\n",
       "      <th>TQHEJj68Jew</th>\n",
       "      <td>I Got Hunted By A Real Bounty Hunter</td>\n",
       "      <td>Sign up for Current w/ my Creator Code \"BEAST\"...</td>\n",
       "      <td>2021-04-24 20:00:00+00:00</td>\n",
       "      <td>youtube#video</td>\n",
       "      <td>861</td>\n",
       "      <td>84717282.0</td>\n",
       "      <td>2876493.0</td>\n",
       "      <td>128922.0</td>\n",
       "      <td>https://i.ytimg.com/vi/TQHEJj68Jew/default.jpg</td>\n",
       "      <td>120.0</td>\n",
       "      <td>...</td>\n",
       "      <td>480.0</td>\n",
       "      <td>360.0</td>\n",
       "      <td>PT14M21S</td>\n",
       "      <td>2d</td>\n",
       "      <td>['https://en.wikipedia.org/wiki/Lifestyle_(soc...</td>\n",
       "      <td>NaN</td>\n",
       "      <td>NaN</td>\n",
       "      <td>NaN</td>\n",
       "      <td>NaN</td>\n",
       "      <td>NaN</td>\n",
       "    </tr>\n",
       "    <tr>\n",
       "      <th>00NgUctWoLQ</th>\n",
       "      <td>Extreme $1,000,000 Hide And Seek</td>\n",
       "      <td>I didn't expect that to happen at the end I wa...</td>\n",
       "      <td>2021-12-18 21:00:00+00:00</td>\n",
       "      <td>youtube#video</td>\n",
       "      <td>729</td>\n",
       "      <td>32090178.0</td>\n",
       "      <td>2125183.0</td>\n",
       "      <td>73593.0</td>\n",
       "      <td>https://i.ytimg.com/vi/00NgUctWoLQ/default.jpg</td>\n",
       "      <td>120.0</td>\n",
       "      <td>...</td>\n",
       "      <td>480.0</td>\n",
       "      <td>360.0</td>\n",
       "      <td>PT12M9S</td>\n",
       "      <td>2d</td>\n",
       "      <td>['https://en.wikipedia.org/wiki/Lifestyle_(soc...</td>\n",
       "      <td>en</td>\n",
       "      <td>Extreme $1,000,000 Hide And Seek</td>\n",
       "      <td>I didn't expect that to happen at the end I wa...</td>\n",
       "      <td>NaN</td>\n",
       "      <td>NaN</td>\n",
       "    </tr>\n",
       "    <tr>\n",
       "      <th>NaN</th>\n",
       "      <td>MrBeast</td>\n",
       "      <td>Accomplishments - Raised $20000000 To Plant 20...</td>\n",
       "      <td>2012-02-20 00:43:50+00:00</td>\n",
       "      <td>NaN</td>\n",
       "      <td>0</td>\n",
       "      <td>NaN</td>\n",
       "      <td>NaN</td>\n",
       "      <td>NaN</td>\n",
       "      <td>https://yt3.ggpht.com/ytc/AKedOLTctGKJ32CdDLiS...</td>\n",
       "      <td>NaN</td>\n",
       "      <td>...</td>\n",
       "      <td>NaN</td>\n",
       "      <td>NaN</td>\n",
       "      <td>NaN</td>\n",
       "      <td>NaN</td>\n",
       "      <td>NaN</td>\n",
       "      <td>NaN</td>\n",
       "      <td>NaN</td>\n",
       "      <td>NaN</td>\n",
       "      <td>NaN</td>\n",
       "      <td>NaN</td>\n",
       "    </tr>\n",
       "    <tr>\n",
       "      <th>ayXxwJJId_c</th>\n",
       "      <td>I Bought The World&amp;#39;s Largest Mystery Box! ...</td>\n",
       "      <td>I cant believe I spent over $500000 on mystery...</td>\n",
       "      <td>2021-04-03 20:00:01+00:00</td>\n",
       "      <td>youtube#video</td>\n",
       "      <td>709</td>\n",
       "      <td>101745632.0</td>\n",
       "      <td>3110824.0</td>\n",
       "      <td>162796.0</td>\n",
       "      <td>https://i.ytimg.com/vi/ayXxwJJId_c/default.jpg</td>\n",
       "      <td>120.0</td>\n",
       "      <td>...</td>\n",
       "      <td>480.0</td>\n",
       "      <td>360.0</td>\n",
       "      <td>PT11M49S</td>\n",
       "      <td>2d</td>\n",
       "      <td>['https://en.wikipedia.org/wiki/Lifestyle_(soc...</td>\n",
       "      <td>NaN</td>\n",
       "      <td>NaN</td>\n",
       "      <td>NaN</td>\n",
       "      <td>NaN</td>\n",
       "      <td>NaN</td>\n",
       "    </tr>\n",
       "    <tr>\n",
       "      <th>cExLQ1o2pDw</th>\n",
       "      <td>First To Rob Bank Wins $100,000</td>\n",
       "      <td>I didnt think he would actually rob the bank.....</td>\n",
       "      <td>2021-09-26 20:00:06+00:00</td>\n",
       "      <td>youtube#video</td>\n",
       "      <td>482</td>\n",
       "      <td>50008942.0</td>\n",
       "      <td>2359606.0</td>\n",
       "      <td>120621.0</td>\n",
       "      <td>https://i.ytimg.com/vi/cExLQ1o2pDw/default.jpg</td>\n",
       "      <td>120.0</td>\n",
       "      <td>...</td>\n",
       "      <td>480.0</td>\n",
       "      <td>360.0</td>\n",
       "      <td>PT8M2S</td>\n",
       "      <td>2d</td>\n",
       "      <td>['https://en.wikipedia.org/wiki/Lifestyle_(soc...</td>\n",
       "      <td>NaN</td>\n",
       "      <td>NaN</td>\n",
       "      <td>NaN</td>\n",
       "      <td>NaN</td>\n",
       "      <td>NaN</td>\n",
       "    </tr>\n",
       "    <tr>\n",
       "      <th>...</th>\n",
       "      <td>...</td>\n",
       "      <td>...</td>\n",
       "      <td>...</td>\n",
       "      <td>...</td>\n",
       "      <td>...</td>\n",
       "      <td>...</td>\n",
       "      <td>...</td>\n",
       "      <td>...</td>\n",
       "      <td>...</td>\n",
       "      <td>...</td>\n",
       "      <td>...</td>\n",
       "      <td>...</td>\n",
       "      <td>...</td>\n",
       "      <td>...</td>\n",
       "      <td>...</td>\n",
       "      <td>...</td>\n",
       "      <td>...</td>\n",
       "      <td>...</td>\n",
       "      <td>...</td>\n",
       "      <td>...</td>\n",
       "      <td>...</td>\n",
       "    </tr>\n",
       "    <tr>\n",
       "      <th>yeHjsYQ076A</th>\n",
       "      <td>Remember When COD Was Fun?</td>\n",
       "      <td>Yup, another very pointless video ▻ Subscribe?...</td>\n",
       "      <td>2015-04-26 21:26:36+00:00</td>\n",
       "      <td>youtube#video</td>\n",
       "      <td>216</td>\n",
       "      <td>16312.0</td>\n",
       "      <td>574.0</td>\n",
       "      <td>145.0</td>\n",
       "      <td>https://i.ytimg.com/vi/yeHjsYQ076A/default.jpg</td>\n",
       "      <td>120.0</td>\n",
       "      <td>...</td>\n",
       "      <td>480.0</td>\n",
       "      <td>360.0</td>\n",
       "      <td>PT3M36S</td>\n",
       "      <td>2d</td>\n",
       "      <td>['https://en.wikipedia.org/wiki/Action-adventu...</td>\n",
       "      <td>NaN</td>\n",
       "      <td>NaN</td>\n",
       "      <td>NaN</td>\n",
       "      <td>['How', 'much', 'money', 'does', 'make', 'blac...</td>\n",
       "      <td>NaN</td>\n",
       "    </tr>\n",
       "    <tr>\n",
       "      <th>X7doE4h6W64</th>\n",
       "      <td>Insane Gun Sync - 7 Hours To Make</td>\n",
       "      <td>Look at this - http://gyazo.com/8852509d2350db...</td>\n",
       "      <td>2015-06-21 12:22:34+00:00</td>\n",
       "      <td>youtube#video</td>\n",
       "      <td>134</td>\n",
       "      <td>15740.0</td>\n",
       "      <td>637.0</td>\n",
       "      <td>105.0</td>\n",
       "      <td>https://i.ytimg.com/vi/X7doE4h6W64/default.jpg</td>\n",
       "      <td>120.0</td>\n",
       "      <td>...</td>\n",
       "      <td>480.0</td>\n",
       "      <td>360.0</td>\n",
       "      <td>PT2M14S</td>\n",
       "      <td>2d</td>\n",
       "      <td>['https://en.wikipedia.org/wiki/Action-adventu...</td>\n",
       "      <td>NaN</td>\n",
       "      <td>NaN</td>\n",
       "      <td>NaN</td>\n",
       "      <td>['How', 'much', 'money', 'does', 'make', 'blac...</td>\n",
       "      <td>NaN</td>\n",
       "    </tr>\n",
       "    <tr>\n",
       "      <th>AIytwdufwW8</th>\n",
       "      <td>MY MESSAGE TO COD YOUTUBERS (Watch till end plz)</td>\n",
       "      <td>The beginning of the video is a little off top...</td>\n",
       "      <td>2015-05-29 20:07:48+00:00</td>\n",
       "      <td>youtube#video</td>\n",
       "      <td>292</td>\n",
       "      <td>18502.0</td>\n",
       "      <td>508.0</td>\n",
       "      <td>117.0</td>\n",
       "      <td>https://i.ytimg.com/vi/AIytwdufwW8/default.jpg</td>\n",
       "      <td>120.0</td>\n",
       "      <td>...</td>\n",
       "      <td>480.0</td>\n",
       "      <td>360.0</td>\n",
       "      <td>PT4M52S</td>\n",
       "      <td>2d</td>\n",
       "      <td>['https://en.wikipedia.org/wiki/Action-adventu...</td>\n",
       "      <td>NaN</td>\n",
       "      <td>NaN</td>\n",
       "      <td>NaN</td>\n",
       "      <td>['How', 'much', 'money', 'does', 'make', 'blac...</td>\n",
       "      <td>NaN</td>\n",
       "    </tr>\n",
       "    <tr>\n",
       "      <th>56OkH6ocYZU</th>\n",
       "      <td>L0114R - Biblical Creeper Post for Post @L0114R</td>\n",
       "      <td>His channel - https://www.youtube.com/user/the...</td>\n",
       "      <td>2015-05-15 16:48:54+00:00</td>\n",
       "      <td>youtube#video</td>\n",
       "      <td>109</td>\n",
       "      <td>16627.0</td>\n",
       "      <td>430.0</td>\n",
       "      <td>134.0</td>\n",
       "      <td>https://i.ytimg.com/vi/56OkH6ocYZU/default.jpg</td>\n",
       "      <td>120.0</td>\n",
       "      <td>...</td>\n",
       "      <td>480.0</td>\n",
       "      <td>360.0</td>\n",
       "      <td>PT1M49S</td>\n",
       "      <td>2d</td>\n",
       "      <td>['https://en.wikipedia.org/wiki/Action-adventu...</td>\n",
       "      <td>NaN</td>\n",
       "      <td>NaN</td>\n",
       "      <td>NaN</td>\n",
       "      <td>['How', 'much', 'money', 'does', 'make', 'blac...</td>\n",
       "      <td>NaN</td>\n",
       "    </tr>\n",
       "    <tr>\n",
       "      <th>zi7tZ-2PhLk</th>\n",
       "      <td>How Much Money Do You Make As An Uber Driver??...</td>\n",
       "      <td>In this video I talk about being an uber drive...</td>\n",
       "      <td>2015-05-31 18:31:25+00:00</td>\n",
       "      <td>youtube#video</td>\n",
       "      <td>304</td>\n",
       "      <td>18773.0</td>\n",
       "      <td>370.0</td>\n",
       "      <td>59.0</td>\n",
       "      <td>https://i.ytimg.com/vi/zi7tZ-2PhLk/default.jpg</td>\n",
       "      <td>120.0</td>\n",
       "      <td>...</td>\n",
       "      <td>480.0</td>\n",
       "      <td>360.0</td>\n",
       "      <td>PT5M4S</td>\n",
       "      <td>2d</td>\n",
       "      <td>['https://en.wikipedia.org/wiki/Action-adventu...</td>\n",
       "      <td>NaN</td>\n",
       "      <td>NaN</td>\n",
       "      <td>NaN</td>\n",
       "      <td>['How', 'much', 'money', 'does', 'make', 'blac...</td>\n",
       "      <td>NaN</td>\n",
       "    </tr>\n",
       "  </tbody>\n",
       "</table>\n",
       "<p>247 rows × 25 columns</p>\n",
       "</div>"
      ],
      "text/plain": [
       "                                                         title  \\\n",
       "id                                                               \n",
       "TQHEJj68Jew               I Got Hunted By A Real Bounty Hunter   \n",
       "00NgUctWoLQ                   Extreme $1,000,000 Hide And Seek   \n",
       "NaN                                                    MrBeast   \n",
       "ayXxwJJId_c  I Bought The World&#39;s Largest Mystery Box! ...   \n",
       "cExLQ1o2pDw                    First To Rob Bank Wins $100,000   \n",
       "...                                                        ...   \n",
       "yeHjsYQ076A                         Remember When COD Was Fun?   \n",
       "X7doE4h6W64                  Insane Gun Sync - 7 Hours To Make   \n",
       "AIytwdufwW8   MY MESSAGE TO COD YOUTUBERS (Watch till end plz)   \n",
       "56OkH6ocYZU    L0114R - Biblical Creeper Post for Post @L0114R   \n",
       "zi7tZ-2PhLk  How Much Money Do You Make As An Uber Driver??...   \n",
       "\n",
       "                                                   description  \\\n",
       "id                                                               \n",
       "TQHEJj68Jew  Sign up for Current w/ my Creator Code \"BEAST\"...   \n",
       "00NgUctWoLQ  I didn't expect that to happen at the end I wa...   \n",
       "NaN          Accomplishments - Raised $20000000 To Plant 20...   \n",
       "ayXxwJJId_c  I cant believe I spent over $500000 on mystery...   \n",
       "cExLQ1o2pDw  I didnt think he would actually rob the bank.....   \n",
       "...                                                        ...   \n",
       "yeHjsYQ076A  Yup, another very pointless video ▻ Subscribe?...   \n",
       "X7doE4h6W64  Look at this - http://gyazo.com/8852509d2350db...   \n",
       "AIytwdufwW8  The beginning of the video is a little off top...   \n",
       "56OkH6ocYZU  His channel - https://www.youtube.com/user/the...   \n",
       "zi7tZ-2PhLk  In this video I talk about being an uber drive...   \n",
       "\n",
       "                           publishTime     kind_stats  duration_seconds  \\\n",
       "id                                                                        \n",
       "TQHEJj68Jew  2021-04-24 20:00:00+00:00  youtube#video               861   \n",
       "00NgUctWoLQ  2021-12-18 21:00:00+00:00  youtube#video               729   \n",
       "NaN          2012-02-20 00:43:50+00:00            NaN                 0   \n",
       "ayXxwJJId_c  2021-04-03 20:00:01+00:00  youtube#video               709   \n",
       "cExLQ1o2pDw  2021-09-26 20:00:06+00:00  youtube#video               482   \n",
       "...                                ...            ...               ...   \n",
       "yeHjsYQ076A  2015-04-26 21:26:36+00:00  youtube#video               216   \n",
       "X7doE4h6W64  2015-06-21 12:22:34+00:00  youtube#video               134   \n",
       "AIytwdufwW8  2015-05-29 20:07:48+00:00  youtube#video               292   \n",
       "56OkH6ocYZU  2015-05-15 16:48:54+00:00  youtube#video               109   \n",
       "zi7tZ-2PhLk  2015-05-31 18:31:25+00:00  youtube#video               304   \n",
       "\n",
       "               viewCount  likeCount  commentCount  \\\n",
       "id                                                  \n",
       "TQHEJj68Jew   84717282.0  2876493.0      128922.0   \n",
       "00NgUctWoLQ   32090178.0  2125183.0       73593.0   \n",
       "NaN                  NaN        NaN           NaN   \n",
       "ayXxwJJId_c  101745632.0  3110824.0      162796.0   \n",
       "cExLQ1o2pDw   50008942.0  2359606.0      120621.0   \n",
       "...                  ...        ...           ...   \n",
       "yeHjsYQ076A      16312.0      574.0         145.0   \n",
       "X7doE4h6W64      15740.0      637.0         105.0   \n",
       "AIytwdufwW8      18502.0      508.0         117.0   \n",
       "56OkH6ocYZU      16627.0      430.0         134.0   \n",
       "zi7tZ-2PhLk      18773.0      370.0          59.0   \n",
       "\n",
       "                                        thumbnails.default.url  \\\n",
       "id                                                               \n",
       "TQHEJj68Jew     https://i.ytimg.com/vi/TQHEJj68Jew/default.jpg   \n",
       "00NgUctWoLQ     https://i.ytimg.com/vi/00NgUctWoLQ/default.jpg   \n",
       "NaN          https://yt3.ggpht.com/ytc/AKedOLTctGKJ32CdDLiS...   \n",
       "ayXxwJJId_c     https://i.ytimg.com/vi/ayXxwJJId_c/default.jpg   \n",
       "cExLQ1o2pDw     https://i.ytimg.com/vi/cExLQ1o2pDw/default.jpg   \n",
       "...                                                        ...   \n",
       "yeHjsYQ076A     https://i.ytimg.com/vi/yeHjsYQ076A/default.jpg   \n",
       "X7doE4h6W64     https://i.ytimg.com/vi/X7doE4h6W64/default.jpg   \n",
       "AIytwdufwW8     https://i.ytimg.com/vi/AIytwdufwW8/default.jpg   \n",
       "56OkH6ocYZU     https://i.ytimg.com/vi/56OkH6ocYZU/default.jpg   \n",
       "zi7tZ-2PhLk     https://i.ytimg.com/vi/zi7tZ-2PhLk/default.jpg   \n",
       "\n",
       "             thumbnails.default.width  ...  thumbnails.high.width  \\\n",
       "id                                     ...                          \n",
       "TQHEJj68Jew                     120.0  ...                  480.0   \n",
       "00NgUctWoLQ                     120.0  ...                  480.0   \n",
       "NaN                               NaN  ...                    NaN   \n",
       "ayXxwJJId_c                     120.0  ...                  480.0   \n",
       "cExLQ1o2pDw                     120.0  ...                  480.0   \n",
       "...                               ...  ...                    ...   \n",
       "yeHjsYQ076A                     120.0  ...                  480.0   \n",
       "X7doE4h6W64                     120.0  ...                  480.0   \n",
       "AIytwdufwW8                     120.0  ...                  480.0   \n",
       "56OkH6ocYZU                     120.0  ...                  480.0   \n",
       "zi7tZ-2PhLk                     120.0  ...                  480.0   \n",
       "\n",
       "            thumbnails.high.height  contentDetails.duration  \\\n",
       "id                                                            \n",
       "TQHEJj68Jew                  360.0                 PT14M21S   \n",
       "00NgUctWoLQ                  360.0                  PT12M9S   \n",
       "NaN                            NaN                      NaN   \n",
       "ayXxwJJId_c                  360.0                 PT11M49S   \n",
       "cExLQ1o2pDw                  360.0                   PT8M2S   \n",
       "...                            ...                      ...   \n",
       "yeHjsYQ076A                  360.0                  PT3M36S   \n",
       "X7doE4h6W64                  360.0                  PT2M14S   \n",
       "AIytwdufwW8                  360.0                  PT4M52S   \n",
       "56OkH6ocYZU                  360.0                  PT1M49S   \n",
       "zi7tZ-2PhLk                  360.0                   PT5M4S   \n",
       "\n",
       "             contentDetails.dimension  \\\n",
       "id                                      \n",
       "TQHEJj68Jew                        2d   \n",
       "00NgUctWoLQ                        2d   \n",
       "NaN                               NaN   \n",
       "ayXxwJJId_c                        2d   \n",
       "cExLQ1o2pDw                        2d   \n",
       "...                               ...   \n",
       "yeHjsYQ076A                        2d   \n",
       "X7doE4h6W64                        2d   \n",
       "AIytwdufwW8                        2d   \n",
       "56OkH6ocYZU                        2d   \n",
       "zi7tZ-2PhLk                        2d   \n",
       "\n",
       "                                  topicDetails.topicCategories  \\\n",
       "id                                                               \n",
       "TQHEJj68Jew  ['https://en.wikipedia.org/wiki/Lifestyle_(soc...   \n",
       "00NgUctWoLQ  ['https://en.wikipedia.org/wiki/Lifestyle_(soc...   \n",
       "NaN                                                        NaN   \n",
       "ayXxwJJId_c  ['https://en.wikipedia.org/wiki/Lifestyle_(soc...   \n",
       "cExLQ1o2pDw  ['https://en.wikipedia.org/wiki/Lifestyle_(soc...   \n",
       "...                                                        ...   \n",
       "yeHjsYQ076A  ['https://en.wikipedia.org/wiki/Action-adventu...   \n",
       "X7doE4h6W64  ['https://en.wikipedia.org/wiki/Action-adventu...   \n",
       "AIytwdufwW8  ['https://en.wikipedia.org/wiki/Action-adventu...   \n",
       "56OkH6ocYZU  ['https://en.wikipedia.org/wiki/Action-adventu...   \n",
       "zi7tZ-2PhLk  ['https://en.wikipedia.org/wiki/Action-adventu...   \n",
       "\n",
       "             snippet.defaultLanguage            localizations.en.title  \\\n",
       "id                                                                       \n",
       "TQHEJj68Jew                      NaN                               NaN   \n",
       "00NgUctWoLQ                       en  Extreme $1,000,000 Hide And Seek   \n",
       "NaN                              NaN                               NaN   \n",
       "ayXxwJJId_c                      NaN                               NaN   \n",
       "cExLQ1o2pDw                      NaN                               NaN   \n",
       "...                              ...                               ...   \n",
       "yeHjsYQ076A                      NaN                               NaN   \n",
       "X7doE4h6W64                      NaN                               NaN   \n",
       "AIytwdufwW8                      NaN                               NaN   \n",
       "56OkH6ocYZU                      NaN                               NaN   \n",
       "zi7tZ-2PhLk                      NaN                               NaN   \n",
       "\n",
       "                                  localizations.en.description  \\\n",
       "id                                                               \n",
       "TQHEJj68Jew                                                NaN   \n",
       "00NgUctWoLQ  I didn't expect that to happen at the end I wa...   \n",
       "NaN                                                        NaN   \n",
       "ayXxwJJId_c                                                NaN   \n",
       "cExLQ1o2pDw                                                NaN   \n",
       "...                                                        ...   \n",
       "yeHjsYQ076A                                                NaN   \n",
       "X7doE4h6W64                                                NaN   \n",
       "AIytwdufwW8                                                NaN   \n",
       "56OkH6ocYZU                                                NaN   \n",
       "zi7tZ-2PhLk                                                NaN   \n",
       "\n",
       "                                                  snippet.tags  \\\n",
       "id                                                               \n",
       "TQHEJj68Jew                                                NaN   \n",
       "00NgUctWoLQ                                                NaN   \n",
       "NaN                                                        NaN   \n",
       "ayXxwJJId_c                                                NaN   \n",
       "cExLQ1o2pDw                                                NaN   \n",
       "...                                                        ...   \n",
       "yeHjsYQ076A  ['How', 'much', 'money', 'does', 'make', 'blac...   \n",
       "X7doE4h6W64  ['How', 'much', 'money', 'does', 'make', 'blac...   \n",
       "AIytwdufwW8  ['How', 'much', 'money', 'does', 'make', 'blac...   \n",
       "56OkH6ocYZU  ['How', 'much', 'money', 'does', 'make', 'blac...   \n",
       "zi7tZ-2PhLk  ['How', 'much', 'money', 'does', 'make', 'blac...   \n",
       "\n",
       "            contentDetails.contentRating.ytRating  \n",
       "id                                                 \n",
       "TQHEJj68Jew                                   NaN  \n",
       "00NgUctWoLQ                                   NaN  \n",
       "NaN                                           NaN  \n",
       "ayXxwJJId_c                                   NaN  \n",
       "cExLQ1o2pDw                                   NaN  \n",
       "...                                           ...  \n",
       "yeHjsYQ076A                                   NaN  \n",
       "X7doE4h6W64                                   NaN  \n",
       "AIytwdufwW8                                   NaN  \n",
       "56OkH6ocYZU                                   NaN  \n",
       "zi7tZ-2PhLk                                   NaN  \n",
       "\n",
       "[247 rows x 25 columns]"
      ]
     },
     "execution_count": 14,
     "metadata": {},
     "output_type": "execute_result"
    }
   ],
   "source": [
    "df.set_index('id')"
   ]
  },
  {
   "cell_type": "code",
   "execution_count": 15,
   "id": "da7b9836",
   "metadata": {
    "execution": {
     "iopub.execute_input": "2023-02-22T16:27:17.683295Z",
     "iopub.status.busy": "2023-02-22T16:27:17.682913Z",
     "iopub.status.idle": "2023-02-22T16:27:17.688118Z",
     "shell.execute_reply": "2023-02-22T16:27:17.687316Z"
    },
    "papermill": {
     "duration": 0.02154,
     "end_time": "2023-02-22T16:27:17.690061",
     "exception": false,
     "start_time": "2023-02-22T16:27:17.668521",
     "status": "completed"
    },
    "tags": []
   },
   "outputs": [],
   "source": [
    "df = df.set_index('id')"
   ]
  },
  {
   "cell_type": "markdown",
   "id": "e5d75934",
   "metadata": {
    "papermill": {
     "duration": 0.013354,
     "end_time": "2023-02-22T16:27:17.716608",
     "exception": false,
     "start_time": "2023-02-22T16:27:17.703254",
     "status": "completed"
    },
    "tags": []
   },
   "source": [
    "# Subsetting Data"
   ]
  },
  {
   "cell_type": "code",
   "execution_count": 16,
   "id": "26cef916",
   "metadata": {
    "execution": {
     "iopub.execute_input": "2023-02-22T16:27:17.744706Z",
     "iopub.status.busy": "2023-02-22T16:27:17.744011Z",
     "iopub.status.idle": "2023-02-22T16:27:17.749723Z",
     "shell.execute_reply": "2023-02-22T16:27:17.748969Z"
    },
    "papermill": {
     "duration": 0.021973,
     "end_time": "2023-02-22T16:27:17.751678",
     "exception": false,
     "start_time": "2023-02-22T16:27:17.729705",
     "status": "completed"
    },
    "tags": []
   },
   "outputs": [],
   "source": [
    "df= df[['title', 'description', 'publishTime', 'kind_stats', 'duration_seconds',\n",
    "       'viewCount', 'likeCount', 'commentCount']]"
   ]
  },
  {
   "cell_type": "code",
   "execution_count": 17,
   "id": "f2061020",
   "metadata": {
    "execution": {
     "iopub.execute_input": "2023-02-22T16:27:17.780767Z",
     "iopub.status.busy": "2023-02-22T16:27:17.780055Z",
     "iopub.status.idle": "2023-02-22T16:27:17.795370Z",
     "shell.execute_reply": "2023-02-22T16:27:17.794489Z"
    },
    "papermill": {
     "duration": 0.032258,
     "end_time": "2023-02-22T16:27:17.797396",
     "exception": false,
     "start_time": "2023-02-22T16:27:17.765138",
     "status": "completed"
    },
    "tags": []
   },
   "outputs": [
    {
     "data": {
      "text/html": [
       "<div>\n",
       "<style scoped>\n",
       "    .dataframe tbody tr th:only-of-type {\n",
       "        vertical-align: middle;\n",
       "    }\n",
       "\n",
       "    .dataframe tbody tr th {\n",
       "        vertical-align: top;\n",
       "    }\n",
       "\n",
       "    .dataframe thead th {\n",
       "        text-align: right;\n",
       "    }\n",
       "</style>\n",
       "<table border=\"1\" class=\"dataframe\">\n",
       "  <thead>\n",
       "    <tr style=\"text-align: right;\">\n",
       "      <th></th>\n",
       "      <th>title</th>\n",
       "      <th>description</th>\n",
       "      <th>publishTime</th>\n",
       "      <th>kind_stats</th>\n",
       "      <th>duration_seconds</th>\n",
       "      <th>viewCount</th>\n",
       "      <th>likeCount</th>\n",
       "      <th>commentCount</th>\n",
       "    </tr>\n",
       "    <tr>\n",
       "      <th>id</th>\n",
       "      <th></th>\n",
       "      <th></th>\n",
       "      <th></th>\n",
       "      <th></th>\n",
       "      <th></th>\n",
       "      <th></th>\n",
       "      <th></th>\n",
       "      <th></th>\n",
       "    </tr>\n",
       "  </thead>\n",
       "  <tbody>\n",
       "    <tr>\n",
       "      <th>TQHEJj68Jew</th>\n",
       "      <td>I Got Hunted By A Real Bounty Hunter</td>\n",
       "      <td>Sign up for Current w/ my Creator Code \"BEAST\"...</td>\n",
       "      <td>2021-04-24 20:00:00+00:00</td>\n",
       "      <td>youtube#video</td>\n",
       "      <td>861</td>\n",
       "      <td>84717282.0</td>\n",
       "      <td>2876493.0</td>\n",
       "      <td>128922.0</td>\n",
       "    </tr>\n",
       "    <tr>\n",
       "      <th>00NgUctWoLQ</th>\n",
       "      <td>Extreme $1,000,000 Hide And Seek</td>\n",
       "      <td>I didn't expect that to happen at the end I wa...</td>\n",
       "      <td>2021-12-18 21:00:00+00:00</td>\n",
       "      <td>youtube#video</td>\n",
       "      <td>729</td>\n",
       "      <td>32090178.0</td>\n",
       "      <td>2125183.0</td>\n",
       "      <td>73593.0</td>\n",
       "    </tr>\n",
       "    <tr>\n",
       "      <th>NaN</th>\n",
       "      <td>MrBeast</td>\n",
       "      <td>Accomplishments - Raised $20000000 To Plant 20...</td>\n",
       "      <td>2012-02-20 00:43:50+00:00</td>\n",
       "      <td>NaN</td>\n",
       "      <td>0</td>\n",
       "      <td>NaN</td>\n",
       "      <td>NaN</td>\n",
       "      <td>NaN</td>\n",
       "    </tr>\n",
       "    <tr>\n",
       "      <th>ayXxwJJId_c</th>\n",
       "      <td>I Bought The World&amp;#39;s Largest Mystery Box! ...</td>\n",
       "      <td>I cant believe I spent over $500000 on mystery...</td>\n",
       "      <td>2021-04-03 20:00:01+00:00</td>\n",
       "      <td>youtube#video</td>\n",
       "      <td>709</td>\n",
       "      <td>101745632.0</td>\n",
       "      <td>3110824.0</td>\n",
       "      <td>162796.0</td>\n",
       "    </tr>\n",
       "    <tr>\n",
       "      <th>cExLQ1o2pDw</th>\n",
       "      <td>First To Rob Bank Wins $100,000</td>\n",
       "      <td>I didnt think he would actually rob the bank.....</td>\n",
       "      <td>2021-09-26 20:00:06+00:00</td>\n",
       "      <td>youtube#video</td>\n",
       "      <td>482</td>\n",
       "      <td>50008942.0</td>\n",
       "      <td>2359606.0</td>\n",
       "      <td>120621.0</td>\n",
       "    </tr>\n",
       "  </tbody>\n",
       "</table>\n",
       "</div>"
      ],
      "text/plain": [
       "                                                         title  \\\n",
       "id                                                               \n",
       "TQHEJj68Jew               I Got Hunted By A Real Bounty Hunter   \n",
       "00NgUctWoLQ                   Extreme $1,000,000 Hide And Seek   \n",
       "NaN                                                    MrBeast   \n",
       "ayXxwJJId_c  I Bought The World&#39;s Largest Mystery Box! ...   \n",
       "cExLQ1o2pDw                    First To Rob Bank Wins $100,000   \n",
       "\n",
       "                                                   description  \\\n",
       "id                                                               \n",
       "TQHEJj68Jew  Sign up for Current w/ my Creator Code \"BEAST\"...   \n",
       "00NgUctWoLQ  I didn't expect that to happen at the end I wa...   \n",
       "NaN          Accomplishments - Raised $20000000 To Plant 20...   \n",
       "ayXxwJJId_c  I cant believe I spent over $500000 on mystery...   \n",
       "cExLQ1o2pDw  I didnt think he would actually rob the bank.....   \n",
       "\n",
       "                           publishTime     kind_stats  duration_seconds  \\\n",
       "id                                                                        \n",
       "TQHEJj68Jew  2021-04-24 20:00:00+00:00  youtube#video               861   \n",
       "00NgUctWoLQ  2021-12-18 21:00:00+00:00  youtube#video               729   \n",
       "NaN          2012-02-20 00:43:50+00:00            NaN                 0   \n",
       "ayXxwJJId_c  2021-04-03 20:00:01+00:00  youtube#video               709   \n",
       "cExLQ1o2pDw  2021-09-26 20:00:06+00:00  youtube#video               482   \n",
       "\n",
       "               viewCount  likeCount  commentCount  \n",
       "id                                                 \n",
       "TQHEJj68Jew   84717282.0  2876493.0      128922.0  \n",
       "00NgUctWoLQ   32090178.0  2125183.0       73593.0  \n",
       "NaN                  NaN        NaN           NaN  \n",
       "ayXxwJJId_c  101745632.0  3110824.0      162796.0  \n",
       "cExLQ1o2pDw   50008942.0  2359606.0      120621.0  "
      ]
     },
     "execution_count": 17,
     "metadata": {},
     "output_type": "execute_result"
    }
   ],
   "source": [
    "df.head()"
   ]
  },
  {
   "cell_type": "code",
   "execution_count": 18,
   "id": "e9da19e7",
   "metadata": {
    "execution": {
     "iopub.execute_input": "2023-02-22T16:27:17.827491Z",
     "iopub.status.busy": "2023-02-22T16:27:17.826689Z",
     "iopub.status.idle": "2023-02-22T16:27:17.833029Z",
     "shell.execute_reply": "2023-02-22T16:27:17.831884Z"
    },
    "papermill": {
     "duration": 0.023144,
     "end_time": "2023-02-22T16:27:17.835155",
     "exception": false,
     "start_time": "2023-02-22T16:27:17.812011",
     "status": "completed"
    },
    "tags": []
   },
   "outputs": [
    {
     "data": {
      "text/plain": [
       "(247, 8)"
      ]
     },
     "execution_count": 18,
     "metadata": {},
     "output_type": "execute_result"
    }
   ],
   "source": [
    "df.shape\n",
    "#247 rows, 8 columns"
   ]
  },
  {
   "cell_type": "code",
   "execution_count": 19,
   "id": "f591d55a",
   "metadata": {
    "execution": {
     "iopub.execute_input": "2023-02-22T16:27:17.863942Z",
     "iopub.status.busy": "2023-02-22T16:27:17.863507Z",
     "iopub.status.idle": "2023-02-22T16:27:17.872682Z",
     "shell.execute_reply": "2023-02-22T16:27:17.871526Z"
    },
    "papermill": {
     "duration": 0.026225,
     "end_time": "2023-02-22T16:27:17.874914",
     "exception": false,
     "start_time": "2023-02-22T16:27:17.848689",
     "status": "completed"
    },
    "tags": []
   },
   "outputs": [
    {
     "data": {
      "text/plain": [
       "id\n",
       "TQHEJj68Jew     True\n",
       "00NgUctWoLQ     True\n",
       "NaN            False\n",
       "ayXxwJJId_c     True\n",
       "cExLQ1o2pDw     True\n",
       "               ...  \n",
       "yeHjsYQ076A    False\n",
       "X7doE4h6W64    False\n",
       "AIytwdufwW8    False\n",
       "56OkH6ocYZU    False\n",
       "zi7tZ-2PhLk    False\n",
       "Name: viewCount, Length: 247, dtype: bool"
      ]
     },
     "execution_count": 19,
     "metadata": {},
     "output_type": "execute_result"
    }
   ],
   "source": [
    "# Subsetting Rows\n",
    "\n",
    "df['viewCount'] > 1000000"
   ]
  },
  {
   "cell_type": "code",
   "execution_count": 20,
   "id": "c197784f",
   "metadata": {
    "execution": {
     "iopub.execute_input": "2023-02-22T16:27:17.904013Z",
     "iopub.status.busy": "2023-02-22T16:27:17.903597Z",
     "iopub.status.idle": "2023-02-22T16:27:17.909426Z",
     "shell.execute_reply": "2023-02-22T16:27:17.908379Z"
    },
    "papermill": {
     "duration": 0.022629,
     "end_time": "2023-02-22T16:27:17.911549",
     "exception": false,
     "start_time": "2023-02-22T16:27:17.888920",
     "status": "completed"
    },
    "tags": []
   },
   "outputs": [],
   "source": [
    "# Subsetting Rows using loc\n",
    "\n",
    "df_subset1 = df.loc[df['viewCount'] > 1000000]"
   ]
  },
  {
   "cell_type": "code",
   "execution_count": 21,
   "id": "c190b52f",
   "metadata": {
    "execution": {
     "iopub.execute_input": "2023-02-22T16:27:17.940119Z",
     "iopub.status.busy": "2023-02-22T16:27:17.939715Z",
     "iopub.status.idle": "2023-02-22T16:27:17.948488Z",
     "shell.execute_reply": "2023-02-22T16:27:17.947438Z"
    },
    "papermill": {
     "duration": 0.025681,
     "end_time": "2023-02-22T16:27:17.950705",
     "exception": false,
     "start_time": "2023-02-22T16:27:17.925024",
     "status": "completed"
    },
    "tags": []
   },
   "outputs": [],
   "source": [
    "#Subsetting rows using query\n",
    "df_subset2 = df.query('viewCount > 1000000')"
   ]
  },
  {
   "cell_type": "code",
   "execution_count": 22,
   "id": "87bc2bc1",
   "metadata": {
    "execution": {
     "iopub.execute_input": "2023-02-22T16:27:17.979901Z",
     "iopub.status.busy": "2023-02-22T16:27:17.979309Z",
     "iopub.status.idle": "2023-02-22T16:27:17.986400Z",
     "shell.execute_reply": "2023-02-22T16:27:17.985333Z"
    },
    "papermill": {
     "duration": 0.02414,
     "end_time": "2023-02-22T16:27:17.988444",
     "exception": false,
     "start_time": "2023-02-22T16:27:17.964304",
     "status": "completed"
    },
    "tags": []
   },
   "outputs": [],
   "source": [
    "#finding if the column is null\n",
    "df.loc[df['viewCount'].isna()] #true for all values we want to keep\n",
    "\n",
    "df = df.loc[~df['viewCount'].isna()] #true for all values we want to keep\n"
   ]
  },
  {
   "cell_type": "markdown",
   "id": "2425f763",
   "metadata": {
    "papermill": {
     "duration": 0.013597,
     "end_time": "2023-02-22T16:27:18.015745",
     "exception": false,
     "start_time": "2023-02-22T16:27:18.002148",
     "status": "completed"
    },
    "tags": []
   },
   "source": [
    "# Casting dtypes"
   ]
  },
  {
   "cell_type": "code",
   "execution_count": 23,
   "id": "2cac0701",
   "metadata": {
    "execution": {
     "iopub.execute_input": "2023-02-22T16:27:18.044435Z",
     "iopub.status.busy": "2023-02-22T16:27:18.044063Z",
     "iopub.status.idle": "2023-02-22T16:27:18.052704Z",
     "shell.execute_reply": "2023-02-22T16:27:18.051795Z"
    },
    "papermill": {
     "duration": 0.025492,
     "end_time": "2023-02-22T16:27:18.054791",
     "exception": false,
     "start_time": "2023-02-22T16:27:18.029299",
     "status": "completed"
    },
    "tags": []
   },
   "outputs": [
    {
     "data": {
      "text/plain": [
       "id\n",
       "TQHEJj68Jew     84717282\n",
       "00NgUctWoLQ     32090178\n",
       "ayXxwJJId_c    101745632\n",
       "cExLQ1o2pDw     50008942\n",
       "GLoeAJUcz38    145527042\n",
       "                 ...    \n",
       "yeHjsYQ076A        16312\n",
       "X7doE4h6W64        15740\n",
       "AIytwdufwW8        18502\n",
       "56OkH6ocYZU        16627\n",
       "zi7tZ-2PhLk        18773\n",
       "Name: viewCount, Length: 246, dtype: int64"
      ]
     },
     "execution_count": 23,
     "metadata": {},
     "output_type": "execute_result"
    }
   ],
   "source": [
    "df['viewCount'].astype('int')"
   ]
  },
  {
   "cell_type": "code",
   "execution_count": 24,
   "id": "eb1dc563",
   "metadata": {
    "execution": {
     "iopub.execute_input": "2023-02-22T16:27:18.084185Z",
     "iopub.status.busy": "2023-02-22T16:27:18.083795Z",
     "iopub.status.idle": "2023-02-22T16:27:18.094340Z",
     "shell.execute_reply": "2023-02-22T16:27:18.093359Z"
    },
    "papermill": {
     "duration": 0.027811,
     "end_time": "2023-02-22T16:27:18.096438",
     "exception": false,
     "start_time": "2023-02-22T16:27:18.068627",
     "status": "completed"
    },
    "tags": []
   },
   "outputs": [
    {
     "data": {
      "text/plain": [
       "id\n",
       "TQHEJj68Jew   2021-04-24 20:00:00+00:00\n",
       "00NgUctWoLQ   2021-12-18 21:00:00+00:00\n",
       "ayXxwJJId_c   2021-04-03 20:00:01+00:00\n",
       "cExLQ1o2pDw   2021-09-26 20:00:06+00:00\n",
       "GLoeAJUcz38   2020-11-14 21:00:02+00:00\n",
       "                         ...           \n",
       "yeHjsYQ076A   2015-04-26 21:26:36+00:00\n",
       "X7doE4h6W64   2015-06-21 12:22:34+00:00\n",
       "AIytwdufwW8   2015-05-29 20:07:48+00:00\n",
       "56OkH6ocYZU   2015-05-15 16:48:54+00:00\n",
       "zi7tZ-2PhLk   2015-05-31 18:31:25+00:00\n",
       "Name: publishTime, Length: 246, dtype: datetime64[ns, UTC]"
      ]
     },
     "execution_count": 24,
     "metadata": {},
     "output_type": "execute_result"
    }
   ],
   "source": [
    "pd.to_datetime(df['publishTime'])"
   ]
  },
  {
   "cell_type": "code",
   "execution_count": 25,
   "id": "588d5ef5",
   "metadata": {
    "execution": {
     "iopub.execute_input": "2023-02-22T16:27:18.125196Z",
     "iopub.status.busy": "2023-02-22T16:27:18.124779Z",
     "iopub.status.idle": "2023-02-22T16:27:18.132570Z",
     "shell.execute_reply": "2023-02-22T16:27:18.131518Z"
    },
    "papermill": {
     "duration": 0.024912,
     "end_time": "2023-02-22T16:27:18.135019",
     "exception": false,
     "start_time": "2023-02-22T16:27:18.110107",
     "status": "completed"
    },
    "tags": []
   },
   "outputs": [
    {
     "data": {
      "text/plain": [
       "id\n",
       "TQHEJj68Jew    2021-04-24 20:00:00+00:00\n",
       "00NgUctWoLQ    2021-12-18 21:00:00+00:00\n",
       "ayXxwJJId_c    2021-04-03 20:00:01+00:00\n",
       "cExLQ1o2pDw    2021-09-26 20:00:06+00:00\n",
       "GLoeAJUcz38    2020-11-14 21:00:02+00:00\n",
       "                         ...            \n",
       "yeHjsYQ076A    2015-04-26 21:26:36+00:00\n",
       "X7doE4h6W64    2015-06-21 12:22:34+00:00\n",
       "AIytwdufwW8    2015-05-29 20:07:48+00:00\n",
       "56OkH6ocYZU    2015-05-15 16:48:54+00:00\n",
       "zi7tZ-2PhLk    2015-05-31 18:31:25+00:00\n",
       "Name: publishTime, Length: 246, dtype: object"
      ]
     },
     "execution_count": 25,
     "metadata": {},
     "output_type": "execute_result"
    }
   ],
   "source": [
    "df['publishTime']"
   ]
  },
  {
   "cell_type": "code",
   "execution_count": 26,
   "id": "82b453dd",
   "metadata": {
    "execution": {
     "iopub.execute_input": "2023-02-22T16:27:18.164706Z",
     "iopub.status.busy": "2023-02-22T16:27:18.163969Z",
     "iopub.status.idle": "2023-02-22T16:27:18.174939Z",
     "shell.execute_reply": "2023-02-22T16:27:18.174071Z"
    },
    "papermill": {
     "duration": 0.028209,
     "end_time": "2023-02-22T16:27:18.177118",
     "exception": false,
     "start_time": "2023-02-22T16:27:18.148909",
     "status": "completed"
    },
    "tags": []
   },
   "outputs": [
    {
     "data": {
      "text/plain": [
       "id\n",
       "TQHEJj68Jew    2876493.0\n",
       "00NgUctWoLQ    2125183.0\n",
       "ayXxwJJId_c    3110824.0\n",
       "cExLQ1o2pDw    2359606.0\n",
       "GLoeAJUcz38    2762425.0\n",
       "                 ...    \n",
       "yeHjsYQ076A        574.0\n",
       "X7doE4h6W64        637.0\n",
       "AIytwdufwW8        508.0\n",
       "56OkH6ocYZU        430.0\n",
       "zi7tZ-2PhLk        370.0\n",
       "Name: likeCount, Length: 244, dtype: float64"
      ]
     },
     "execution_count": 26,
     "metadata": {},
     "output_type": "execute_result"
    }
   ],
   "source": [
    "#df.loc[df['viewCount'].isna()] #true for all values we want to keep\n",
    "df = df.loc[~df['likeCount'].isna()]\n",
    "#df.loc[df['likeCount'].isna()]\n",
    "\n",
    "pd.to_numeric(df['likeCount'].astype('str'))"
   ]
  },
  {
   "cell_type": "markdown",
   "id": "a5172fab",
   "metadata": {
    "papermill": {
     "duration": 0.013466,
     "end_time": "2023-02-22T16:27:18.204416",
     "exception": false,
     "start_time": "2023-02-22T16:27:18.190950",
     "status": "completed"
    },
    "tags": []
   },
   "source": [
    "# Creating new column"
   ]
  },
  {
   "cell_type": "code",
   "execution_count": 27,
   "id": "29293497",
   "metadata": {
    "execution": {
     "iopub.execute_input": "2023-02-22T16:27:18.233759Z",
     "iopub.status.busy": "2023-02-22T16:27:18.233046Z",
     "iopub.status.idle": "2023-02-22T16:27:18.248581Z",
     "shell.execute_reply": "2023-02-22T16:27:18.247492Z"
    },
    "papermill": {
     "duration": 0.032688,
     "end_time": "2023-02-22T16:27:18.250866",
     "exception": false,
     "start_time": "2023-02-22T16:27:18.218178",
     "status": "completed"
    },
    "tags": []
   },
   "outputs": [
    {
     "data": {
      "text/html": [
       "<div>\n",
       "<style scoped>\n",
       "    .dataframe tbody tr th:only-of-type {\n",
       "        vertical-align: middle;\n",
       "    }\n",
       "\n",
       "    .dataframe tbody tr th {\n",
       "        vertical-align: top;\n",
       "    }\n",
       "\n",
       "    .dataframe thead th {\n",
       "        text-align: right;\n",
       "    }\n",
       "</style>\n",
       "<table border=\"1\" class=\"dataframe\">\n",
       "  <thead>\n",
       "    <tr style=\"text-align: right;\">\n",
       "      <th></th>\n",
       "      <th>title</th>\n",
       "      <th>description</th>\n",
       "      <th>publishTime</th>\n",
       "      <th>kind_stats</th>\n",
       "      <th>duration_seconds</th>\n",
       "      <th>viewCount</th>\n",
       "      <th>likeCount</th>\n",
       "      <th>commentCount</th>\n",
       "    </tr>\n",
       "    <tr>\n",
       "      <th>id</th>\n",
       "      <th></th>\n",
       "      <th></th>\n",
       "      <th></th>\n",
       "      <th></th>\n",
       "      <th></th>\n",
       "      <th></th>\n",
       "      <th></th>\n",
       "      <th></th>\n",
       "    </tr>\n",
       "  </thead>\n",
       "  <tbody>\n",
       "    <tr>\n",
       "      <th>TQHEJj68Jew</th>\n",
       "      <td>I Got Hunted By A Real Bounty Hunter</td>\n",
       "      <td>Sign up for Current w/ my Creator Code \"BEAST\"...</td>\n",
       "      <td>2021-04-24 20:00:00+00:00</td>\n",
       "      <td>youtube#video</td>\n",
       "      <td>861</td>\n",
       "      <td>84717282.0</td>\n",
       "      <td>2876493.0</td>\n",
       "      <td>128922.0</td>\n",
       "    </tr>\n",
       "    <tr>\n",
       "      <th>00NgUctWoLQ</th>\n",
       "      <td>Extreme $1,000,000 Hide And Seek</td>\n",
       "      <td>I didn't expect that to happen at the end I wa...</td>\n",
       "      <td>2021-12-18 21:00:00+00:00</td>\n",
       "      <td>youtube#video</td>\n",
       "      <td>729</td>\n",
       "      <td>32090178.0</td>\n",
       "      <td>2125183.0</td>\n",
       "      <td>73593.0</td>\n",
       "    </tr>\n",
       "    <tr>\n",
       "      <th>ayXxwJJId_c</th>\n",
       "      <td>I Bought The World&amp;#39;s Largest Mystery Box! ...</td>\n",
       "      <td>I cant believe I spent over $500000 on mystery...</td>\n",
       "      <td>2021-04-03 20:00:01+00:00</td>\n",
       "      <td>youtube#video</td>\n",
       "      <td>709</td>\n",
       "      <td>101745632.0</td>\n",
       "      <td>3110824.0</td>\n",
       "      <td>162796.0</td>\n",
       "    </tr>\n",
       "    <tr>\n",
       "      <th>cExLQ1o2pDw</th>\n",
       "      <td>First To Rob Bank Wins $100,000</td>\n",
       "      <td>I didnt think he would actually rob the bank.....</td>\n",
       "      <td>2021-09-26 20:00:06+00:00</td>\n",
       "      <td>youtube#video</td>\n",
       "      <td>482</td>\n",
       "      <td>50008942.0</td>\n",
       "      <td>2359606.0</td>\n",
       "      <td>120621.0</td>\n",
       "    </tr>\n",
       "    <tr>\n",
       "      <th>GLoeAJUcz38</th>\n",
       "      <td>Press This Button To Win $100,000!</td>\n",
       "      <td>Push the red subscribe button and you could al...</td>\n",
       "      <td>2020-11-14 21:00:02+00:00</td>\n",
       "      <td>youtube#video</td>\n",
       "      <td>911</td>\n",
       "      <td>145527042.0</td>\n",
       "      <td>2762425.0</td>\n",
       "      <td>83853.0</td>\n",
       "    </tr>\n",
       "  </tbody>\n",
       "</table>\n",
       "</div>"
      ],
      "text/plain": [
       "                                                         title  \\\n",
       "id                                                               \n",
       "TQHEJj68Jew               I Got Hunted By A Real Bounty Hunter   \n",
       "00NgUctWoLQ                   Extreme $1,000,000 Hide And Seek   \n",
       "ayXxwJJId_c  I Bought The World&#39;s Largest Mystery Box! ...   \n",
       "cExLQ1o2pDw                    First To Rob Bank Wins $100,000   \n",
       "GLoeAJUcz38                 Press This Button To Win $100,000!   \n",
       "\n",
       "                                                   description  \\\n",
       "id                                                               \n",
       "TQHEJj68Jew  Sign up for Current w/ my Creator Code \"BEAST\"...   \n",
       "00NgUctWoLQ  I didn't expect that to happen at the end I wa...   \n",
       "ayXxwJJId_c  I cant believe I spent over $500000 on mystery...   \n",
       "cExLQ1o2pDw  I didnt think he would actually rob the bank.....   \n",
       "GLoeAJUcz38  Push the red subscribe button and you could al...   \n",
       "\n",
       "                           publishTime     kind_stats  duration_seconds  \\\n",
       "id                                                                        \n",
       "TQHEJj68Jew  2021-04-24 20:00:00+00:00  youtube#video               861   \n",
       "00NgUctWoLQ  2021-12-18 21:00:00+00:00  youtube#video               729   \n",
       "ayXxwJJId_c  2021-04-03 20:00:01+00:00  youtube#video               709   \n",
       "cExLQ1o2pDw  2021-09-26 20:00:06+00:00  youtube#video               482   \n",
       "GLoeAJUcz38  2020-11-14 21:00:02+00:00  youtube#video               911   \n",
       "\n",
       "               viewCount  likeCount  commentCount  \n",
       "id                                                 \n",
       "TQHEJj68Jew   84717282.0  2876493.0      128922.0  \n",
       "00NgUctWoLQ   32090178.0  2125183.0       73593.0  \n",
       "ayXxwJJId_c  101745632.0  3110824.0      162796.0  \n",
       "cExLQ1o2pDw   50008942.0  2359606.0      120621.0  \n",
       "GLoeAJUcz38  145527042.0  2762425.0       83853.0  "
      ]
     },
     "execution_count": 27,
     "metadata": {},
     "output_type": "execute_result"
    }
   ],
   "source": [
    "df.head()"
   ]
  },
  {
   "cell_type": "code",
   "execution_count": 28,
   "id": "d131e3a6",
   "metadata": {
    "execution": {
     "iopub.execute_input": "2023-02-22T16:27:18.281437Z",
     "iopub.status.busy": "2023-02-22T16:27:18.280423Z",
     "iopub.status.idle": "2023-02-22T16:27:18.285741Z",
     "shell.execute_reply": "2023-02-22T16:27:18.285013Z"
    },
    "papermill": {
     "duration": 0.022397,
     "end_time": "2023-02-22T16:27:18.287697",
     "exception": false,
     "start_time": "2023-02-22T16:27:18.265300",
     "status": "completed"
    },
    "tags": []
   },
   "outputs": [],
   "source": [
    "#find ratio of like count to view count\n",
    "\n",
    "df['like_to_view_ratio']=df['likeCount']/df['viewCount']"
   ]
  },
  {
   "cell_type": "code",
   "execution_count": 29,
   "id": "422f518a",
   "metadata": {
    "execution": {
     "iopub.execute_input": "2023-02-22T16:27:18.317700Z",
     "iopub.status.busy": "2023-02-22T16:27:18.316713Z",
     "iopub.status.idle": "2023-02-22T16:27:18.332117Z",
     "shell.execute_reply": "2023-02-22T16:27:18.331172Z"
    },
    "papermill": {
     "duration": 0.032801,
     "end_time": "2023-02-22T16:27:18.334455",
     "exception": false,
     "start_time": "2023-02-22T16:27:18.301654",
     "status": "completed"
    },
    "tags": []
   },
   "outputs": [
    {
     "data": {
      "text/html": [
       "<div>\n",
       "<style scoped>\n",
       "    .dataframe tbody tr th:only-of-type {\n",
       "        vertical-align: middle;\n",
       "    }\n",
       "\n",
       "    .dataframe tbody tr th {\n",
       "        vertical-align: top;\n",
       "    }\n",
       "\n",
       "    .dataframe thead th {\n",
       "        text-align: right;\n",
       "    }\n",
       "</style>\n",
       "<table border=\"1\" class=\"dataframe\">\n",
       "  <thead>\n",
       "    <tr style=\"text-align: right;\">\n",
       "      <th></th>\n",
       "      <th>title</th>\n",
       "      <th>description</th>\n",
       "      <th>publishTime</th>\n",
       "      <th>kind_stats</th>\n",
       "      <th>duration_seconds</th>\n",
       "      <th>viewCount</th>\n",
       "      <th>likeCount</th>\n",
       "      <th>commentCount</th>\n",
       "      <th>like_to_view_ratio</th>\n",
       "    </tr>\n",
       "    <tr>\n",
       "      <th>id</th>\n",
       "      <th></th>\n",
       "      <th></th>\n",
       "      <th></th>\n",
       "      <th></th>\n",
       "      <th></th>\n",
       "      <th></th>\n",
       "      <th></th>\n",
       "      <th></th>\n",
       "      <th></th>\n",
       "    </tr>\n",
       "  </thead>\n",
       "  <tbody>\n",
       "    <tr>\n",
       "      <th>TQHEJj68Jew</th>\n",
       "      <td>I Got Hunted By A Real Bounty Hunter</td>\n",
       "      <td>Sign up for Current w/ my Creator Code \"BEAST\"...</td>\n",
       "      <td>2021-04-24 20:00:00+00:00</td>\n",
       "      <td>youtube#video</td>\n",
       "      <td>861</td>\n",
       "      <td>84717282.0</td>\n",
       "      <td>2876493.0</td>\n",
       "      <td>128922.0</td>\n",
       "      <td>0.033954</td>\n",
       "    </tr>\n",
       "    <tr>\n",
       "      <th>00NgUctWoLQ</th>\n",
       "      <td>Extreme $1,000,000 Hide And Seek</td>\n",
       "      <td>I didn't expect that to happen at the end I wa...</td>\n",
       "      <td>2021-12-18 21:00:00+00:00</td>\n",
       "      <td>youtube#video</td>\n",
       "      <td>729</td>\n",
       "      <td>32090178.0</td>\n",
       "      <td>2125183.0</td>\n",
       "      <td>73593.0</td>\n",
       "      <td>0.066225</td>\n",
       "    </tr>\n",
       "    <tr>\n",
       "      <th>ayXxwJJId_c</th>\n",
       "      <td>I Bought The World&amp;#39;s Largest Mystery Box! ...</td>\n",
       "      <td>I cant believe I spent over $500000 on mystery...</td>\n",
       "      <td>2021-04-03 20:00:01+00:00</td>\n",
       "      <td>youtube#video</td>\n",
       "      <td>709</td>\n",
       "      <td>101745632.0</td>\n",
       "      <td>3110824.0</td>\n",
       "      <td>162796.0</td>\n",
       "      <td>0.030575</td>\n",
       "    </tr>\n",
       "    <tr>\n",
       "      <th>cExLQ1o2pDw</th>\n",
       "      <td>First To Rob Bank Wins $100,000</td>\n",
       "      <td>I didnt think he would actually rob the bank.....</td>\n",
       "      <td>2021-09-26 20:00:06+00:00</td>\n",
       "      <td>youtube#video</td>\n",
       "      <td>482</td>\n",
       "      <td>50008942.0</td>\n",
       "      <td>2359606.0</td>\n",
       "      <td>120621.0</td>\n",
       "      <td>0.047184</td>\n",
       "    </tr>\n",
       "    <tr>\n",
       "      <th>GLoeAJUcz38</th>\n",
       "      <td>Press This Button To Win $100,000!</td>\n",
       "      <td>Push the red subscribe button and you could al...</td>\n",
       "      <td>2020-11-14 21:00:02+00:00</td>\n",
       "      <td>youtube#video</td>\n",
       "      <td>911</td>\n",
       "      <td>145527042.0</td>\n",
       "      <td>2762425.0</td>\n",
       "      <td>83853.0</td>\n",
       "      <td>0.018982</td>\n",
       "    </tr>\n",
       "  </tbody>\n",
       "</table>\n",
       "</div>"
      ],
      "text/plain": [
       "                                                         title  \\\n",
       "id                                                               \n",
       "TQHEJj68Jew               I Got Hunted By A Real Bounty Hunter   \n",
       "00NgUctWoLQ                   Extreme $1,000,000 Hide And Seek   \n",
       "ayXxwJJId_c  I Bought The World&#39;s Largest Mystery Box! ...   \n",
       "cExLQ1o2pDw                    First To Rob Bank Wins $100,000   \n",
       "GLoeAJUcz38                 Press This Button To Win $100,000!   \n",
       "\n",
       "                                                   description  \\\n",
       "id                                                               \n",
       "TQHEJj68Jew  Sign up for Current w/ my Creator Code \"BEAST\"...   \n",
       "00NgUctWoLQ  I didn't expect that to happen at the end I wa...   \n",
       "ayXxwJJId_c  I cant believe I spent over $500000 on mystery...   \n",
       "cExLQ1o2pDw  I didnt think he would actually rob the bank.....   \n",
       "GLoeAJUcz38  Push the red subscribe button and you could al...   \n",
       "\n",
       "                           publishTime     kind_stats  duration_seconds  \\\n",
       "id                                                                        \n",
       "TQHEJj68Jew  2021-04-24 20:00:00+00:00  youtube#video               861   \n",
       "00NgUctWoLQ  2021-12-18 21:00:00+00:00  youtube#video               729   \n",
       "ayXxwJJId_c  2021-04-03 20:00:01+00:00  youtube#video               709   \n",
       "cExLQ1o2pDw  2021-09-26 20:00:06+00:00  youtube#video               482   \n",
       "GLoeAJUcz38  2020-11-14 21:00:02+00:00  youtube#video               911   \n",
       "\n",
       "               viewCount  likeCount  commentCount  like_to_view_ratio  \n",
       "id                                                                     \n",
       "TQHEJj68Jew   84717282.0  2876493.0      128922.0            0.033954  \n",
       "00NgUctWoLQ   32090178.0  2125183.0       73593.0            0.066225  \n",
       "ayXxwJJId_c  101745632.0  3110824.0      162796.0            0.030575  \n",
       "cExLQ1o2pDw   50008942.0  2359606.0      120621.0            0.047184  \n",
       "GLoeAJUcz38  145527042.0  2762425.0       83853.0            0.018982  "
      ]
     },
     "execution_count": 29,
     "metadata": {},
     "output_type": "execute_result"
    }
   ],
   "source": [
    "df.head()"
   ]
  },
  {
   "cell_type": "markdown",
   "id": "47337561",
   "metadata": {
    "papermill": {
     "duration": 0.014158,
     "end_time": "2023-02-22T16:27:18.363197",
     "exception": false,
     "start_time": "2023-02-22T16:27:18.349039",
     "status": "completed"
    },
    "tags": []
   },
   "source": [
    "# Adding New Row"
   ]
  },
  {
   "cell_type": "code",
   "execution_count": 30,
   "id": "eb543de1",
   "metadata": {
    "execution": {
     "iopub.execute_input": "2023-02-22T16:27:18.394140Z",
     "iopub.status.busy": "2023-02-22T16:27:18.393049Z",
     "iopub.status.idle": "2023-02-22T16:27:18.397685Z",
     "shell.execute_reply": "2023-02-22T16:27:18.396936Z"
    },
    "papermill": {
     "duration": 0.022176,
     "end_time": "2023-02-22T16:27:18.399694",
     "exception": false,
     "start_time": "2023-02-22T16:27:18.377518",
     "status": "completed"
    },
    "tags": []
   },
   "outputs": [],
   "source": [
    "df_to_append = df.tail(1)"
   ]
  },
  {
   "cell_type": "code",
   "execution_count": 31,
   "id": "7607a82d",
   "metadata": {
    "execution": {
     "iopub.execute_input": "2023-02-22T16:27:18.430062Z",
     "iopub.status.busy": "2023-02-22T16:27:18.429667Z",
     "iopub.status.idle": "2023-02-22T16:27:18.435694Z",
     "shell.execute_reply": "2023-02-22T16:27:18.434697Z"
    },
    "papermill": {
     "duration": 0.023925,
     "end_time": "2023-02-22T16:27:18.438082",
     "exception": false,
     "start_time": "2023-02-22T16:27:18.414157",
     "status": "completed"
    },
    "tags": []
   },
   "outputs": [],
   "source": [
    "df_concat = pd.concat([df,df_to_append])"
   ]
  },
  {
   "cell_type": "markdown",
   "id": "c5e7cce6",
   "metadata": {
    "papermill": {
     "duration": 0.014069,
     "end_time": "2023-02-22T16:27:18.466595",
     "exception": false,
     "start_time": "2023-02-22T16:27:18.452526",
     "status": "completed"
    },
    "tags": []
   },
   "source": [
    "# Plot Examples"
   ]
  },
  {
   "cell_type": "code",
   "execution_count": 32,
   "id": "4c914a6e",
   "metadata": {
    "execution": {
     "iopub.execute_input": "2023-02-22T16:27:18.497052Z",
     "iopub.status.busy": "2023-02-22T16:27:18.496649Z",
     "iopub.status.idle": "2023-02-22T16:27:18.880723Z",
     "shell.execute_reply": "2023-02-22T16:27:18.879511Z"
    },
    "papermill": {
     "duration": 0.401919,
     "end_time": "2023-02-22T16:27:18.882945",
     "exception": false,
     "start_time": "2023-02-22T16:27:18.481026",
     "status": "completed"
    },
    "tags": []
   },
   "outputs": [
    {
     "data": {
      "text/plain": [
       "<AxesSubplot:title={'center':'Distribution of View Count'}, ylabel='Frequency'>"
      ]
     },
     "execution_count": 32,
     "metadata": {},
     "output_type": "execute_result"
    },
    {
     "data": {
      "image/png": "[encoded data removed]",
      "text/plain": [
       "<Figure size 1500x500 with 1 Axes>"
      ]
     },
     "metadata": {},
     "output_type": "display_data"
    }
   ],
   "source": [
    "df['viewCount'].plot(kind='hist',bins=50,title='Distribution of View Count',figsize=(15,5))\n",
    "#histogram of all the view counts we have and the frequencies "
   ]
  },
  {
   "cell_type": "code",
   "execution_count": 33,
   "id": "e6a24edc",
   "metadata": {
    "execution": {
     "iopub.execute_input": "2023-02-22T16:27:18.914936Z",
     "iopub.status.busy": "2023-02-22T16:27:18.914178Z",
     "iopub.status.idle": "2023-02-22T16:27:19.169905Z",
     "shell.execute_reply": "2023-02-22T16:27:19.168855Z"
    },
    "papermill": {
     "duration": 0.274457,
     "end_time": "2023-02-22T16:27:19.172588",
     "exception": false,
     "start_time": "2023-02-22T16:27:18.898131",
     "status": "completed"
    },
    "tags": []
   },
   "outputs": [
    {
     "data": {
      "text/plain": [
       "<AxesSubplot:title={'center':'View vs Like Count'}, xlabel='viewCount', ylabel='likeCount'>"
      ]
     },
     "execution_count": 33,
     "metadata": {},
     "output_type": "execute_result"
    },
    {
     "data": {
      "image/png": "[encoded data removed]",
      "text/plain": [
       "<Figure size 640x480 with 1 Axes>"
      ]
     },
     "metadata": {},
     "output_type": "display_data"
    }
   ],
   "source": [
    "#see relationships between 2 variables in the data frame\n",
    "\n",
    "df.plot(kind='scatter',x='viewCount',y='likeCount',title='View vs Like Count')"
   ]
  },
  {
   "cell_type": "code",
   "execution_count": 34,
   "id": "16de1b8c",
   "metadata": {
    "execution": {
     "iopub.execute_input": "2023-02-22T16:27:19.206407Z",
     "iopub.status.busy": "2023-02-22T16:27:19.205707Z",
     "iopub.status.idle": "2023-02-22T16:27:19.223037Z",
     "shell.execute_reply": "2023-02-22T16:27:19.222144Z"
    },
    "papermill": {
     "duration": 0.036683,
     "end_time": "2023-02-22T16:27:19.225358",
     "exception": false,
     "start_time": "2023-02-22T16:27:19.188675",
     "status": "completed"
    },
    "tags": []
   },
   "outputs": [
    {
     "data": {
      "text/html": [
       "<div>\n",
       "<style scoped>\n",
       "    .dataframe tbody tr th:only-of-type {\n",
       "        vertical-align: middle;\n",
       "    }\n",
       "\n",
       "    .dataframe tbody tr th {\n",
       "        vertical-align: top;\n",
       "    }\n",
       "\n",
       "    .dataframe thead th {\n",
       "        text-align: right;\n",
       "    }\n",
       "</style>\n",
       "<table border=\"1\" class=\"dataframe\">\n",
       "  <thead>\n",
       "    <tr style=\"text-align: right;\">\n",
       "      <th></th>\n",
       "      <th>title</th>\n",
       "      <th>description</th>\n",
       "      <th>publishTime</th>\n",
       "      <th>kind_stats</th>\n",
       "      <th>duration_seconds</th>\n",
       "      <th>viewCount</th>\n",
       "      <th>likeCount</th>\n",
       "      <th>commentCount</th>\n",
       "      <th>like_to_view_ratio</th>\n",
       "    </tr>\n",
       "    <tr>\n",
       "      <th>id</th>\n",
       "      <th></th>\n",
       "      <th></th>\n",
       "      <th></th>\n",
       "      <th></th>\n",
       "      <th></th>\n",
       "      <th></th>\n",
       "      <th></th>\n",
       "      <th></th>\n",
       "      <th></th>\n",
       "    </tr>\n",
       "  </thead>\n",
       "  <tbody>\n",
       "    <tr>\n",
       "      <th>TQHEJj68Jew</th>\n",
       "      <td>I Got Hunted By A Real Bounty Hunter</td>\n",
       "      <td>Sign up for Current w/ my Creator Code \"BEAST\"...</td>\n",
       "      <td>2021-04-24 20:00:00+00:00</td>\n",
       "      <td>youtube#video</td>\n",
       "      <td>861</td>\n",
       "      <td>84717282.0</td>\n",
       "      <td>2876493.0</td>\n",
       "      <td>128922.0</td>\n",
       "      <td>0.033954</td>\n",
       "    </tr>\n",
       "    <tr>\n",
       "      <th>00NgUctWoLQ</th>\n",
       "      <td>Extreme $1,000,000 Hide And Seek</td>\n",
       "      <td>I didn't expect that to happen at the end I wa...</td>\n",
       "      <td>2021-12-18 21:00:00+00:00</td>\n",
       "      <td>youtube#video</td>\n",
       "      <td>729</td>\n",
       "      <td>32090178.0</td>\n",
       "      <td>2125183.0</td>\n",
       "      <td>73593.0</td>\n",
       "      <td>0.066225</td>\n",
       "    </tr>\n",
       "    <tr>\n",
       "      <th>ayXxwJJId_c</th>\n",
       "      <td>I Bought The World&amp;#39;s Largest Mystery Box! ...</td>\n",
       "      <td>I cant believe I spent over $500000 on mystery...</td>\n",
       "      <td>2021-04-03 20:00:01+00:00</td>\n",
       "      <td>youtube#video</td>\n",
       "      <td>709</td>\n",
       "      <td>101745632.0</td>\n",
       "      <td>3110824.0</td>\n",
       "      <td>162796.0</td>\n",
       "      <td>0.030575</td>\n",
       "    </tr>\n",
       "    <tr>\n",
       "      <th>cExLQ1o2pDw</th>\n",
       "      <td>First To Rob Bank Wins $100,000</td>\n",
       "      <td>I didnt think he would actually rob the bank.....</td>\n",
       "      <td>2021-09-26 20:00:06+00:00</td>\n",
       "      <td>youtube#video</td>\n",
       "      <td>482</td>\n",
       "      <td>50008942.0</td>\n",
       "      <td>2359606.0</td>\n",
       "      <td>120621.0</td>\n",
       "      <td>0.047184</td>\n",
       "    </tr>\n",
       "    <tr>\n",
       "      <th>GLoeAJUcz38</th>\n",
       "      <td>Press This Button To Win $100,000!</td>\n",
       "      <td>Push the red subscribe button and you could al...</td>\n",
       "      <td>2020-11-14 21:00:02+00:00</td>\n",
       "      <td>youtube#video</td>\n",
       "      <td>911</td>\n",
       "      <td>145527042.0</td>\n",
       "      <td>2762425.0</td>\n",
       "      <td>83853.0</td>\n",
       "      <td>0.018982</td>\n",
       "    </tr>\n",
       "  </tbody>\n",
       "</table>\n",
       "</div>"
      ],
      "text/plain": [
       "                                                         title  \\\n",
       "id                                                               \n",
       "TQHEJj68Jew               I Got Hunted By A Real Bounty Hunter   \n",
       "00NgUctWoLQ                   Extreme $1,000,000 Hide And Seek   \n",
       "ayXxwJJId_c  I Bought The World&#39;s Largest Mystery Box! ...   \n",
       "cExLQ1o2pDw                    First To Rob Bank Wins $100,000   \n",
       "GLoeAJUcz38                 Press This Button To Win $100,000!   \n",
       "\n",
       "                                                   description  \\\n",
       "id                                                               \n",
       "TQHEJj68Jew  Sign up for Current w/ my Creator Code \"BEAST\"...   \n",
       "00NgUctWoLQ  I didn't expect that to happen at the end I wa...   \n",
       "ayXxwJJId_c  I cant believe I spent over $500000 on mystery...   \n",
       "cExLQ1o2pDw  I didnt think he would actually rob the bank.....   \n",
       "GLoeAJUcz38  Push the red subscribe button and you could al...   \n",
       "\n",
       "                           publishTime     kind_stats  duration_seconds  \\\n",
       "id                                                                        \n",
       "TQHEJj68Jew  2021-04-24 20:00:00+00:00  youtube#video               861   \n",
       "00NgUctWoLQ  2021-12-18 21:00:00+00:00  youtube#video               729   \n",
       "ayXxwJJId_c  2021-04-03 20:00:01+00:00  youtube#video               709   \n",
       "cExLQ1o2pDw  2021-09-26 20:00:06+00:00  youtube#video               482   \n",
       "GLoeAJUcz38  2020-11-14 21:00:02+00:00  youtube#video               911   \n",
       "\n",
       "               viewCount  likeCount  commentCount  like_to_view_ratio  \n",
       "id                                                                     \n",
       "TQHEJj68Jew   84717282.0  2876493.0      128922.0            0.033954  \n",
       "00NgUctWoLQ   32090178.0  2125183.0       73593.0            0.066225  \n",
       "ayXxwJJId_c  101745632.0  3110824.0      162796.0            0.030575  \n",
       "cExLQ1o2pDw   50008942.0  2359606.0      120621.0            0.047184  \n",
       "GLoeAJUcz38  145527042.0  2762425.0       83853.0            0.018982  "
      ]
     },
     "execution_count": 34,
     "metadata": {},
     "output_type": "execute_result"
    }
   ],
   "source": [
    "df.head()"
   ]
  },
  {
   "cell_type": "code",
   "execution_count": 35,
   "id": "e11ada5a",
   "metadata": {
    "execution": {
     "iopub.execute_input": "2023-02-22T16:27:19.260379Z",
     "iopub.status.busy": "2023-02-22T16:27:19.259254Z",
     "iopub.status.idle": "2023-02-22T16:27:19.267877Z",
     "shell.execute_reply": "2023-02-22T16:27:19.266571Z"
    },
    "papermill": {
     "duration": 0.029103,
     "end_time": "2023-02-22T16:27:19.270683",
     "exception": false,
     "start_time": "2023-02-22T16:27:19.241580",
     "status": "completed"
    },
    "tags": []
   },
   "outputs": [],
   "source": [
    "df = df.loc[~df['likeCount'].isna()]"
   ]
  },
  {
   "cell_type": "code",
   "execution_count": 36,
   "id": "901aa98e",
   "metadata": {
    "execution": {
     "iopub.execute_input": "2023-02-22T16:27:19.309052Z",
     "iopub.status.busy": "2023-02-22T16:27:19.308353Z",
     "iopub.status.idle": "2023-02-22T16:27:19.560096Z",
     "shell.execute_reply": "2023-02-22T16:27:19.558997Z"
    },
    "papermill": {
     "duration": 0.272253,
     "end_time": "2023-02-22T16:27:19.562523",
     "exception": false,
     "start_time": "2023-02-22T16:27:19.290270",
     "status": "completed"
    },
    "tags": []
   },
   "outputs": [
    {
     "data": {
      "text/plain": [
       "<AxesSubplot:title={'center':'View vs Like Count'}, xlabel='viewCount', ylabel='likeCount'>"
      ]
     },
     "execution_count": 36,
     "metadata": {},
     "output_type": "execute_result"
    },
    {
     "data": {
      "image/png": "[encoded data removed]",
      "text/plain": [
       "<Figure size 640x480 with 1 Axes>"
      ]
     },
     "metadata": {},
     "output_type": "display_data"
    }
   ],
   "source": [
    "df.plot(kind='scatter',x='viewCount',y='likeCount',title='View vs Like Count')"
   ]
  },
  {
   "cell_type": "code",
   "execution_count": 37,
   "id": "efe09fab",
   "metadata": {
    "execution": {
     "iopub.execute_input": "2023-02-22T16:27:19.598095Z",
     "iopub.status.busy": "2023-02-22T16:27:19.597275Z",
     "iopub.status.idle": "2023-02-22T16:27:19.618920Z",
     "shell.execute_reply": "2023-02-22T16:27:19.617167Z"
    },
    "papermill": {
     "duration": 0.042559,
     "end_time": "2023-02-22T16:27:19.621953",
     "exception": false,
     "start_time": "2023-02-22T16:27:19.579394",
     "status": "completed"
    },
    "tags": []
   },
   "outputs": [
    {
     "data": {
      "text/html": [
       "<div>\n",
       "<style scoped>\n",
       "    .dataframe tbody tr th:only-of-type {\n",
       "        vertical-align: middle;\n",
       "    }\n",
       "\n",
       "    .dataframe tbody tr th {\n",
       "        vertical-align: top;\n",
       "    }\n",
       "\n",
       "    .dataframe thead th {\n",
       "        text-align: right;\n",
       "    }\n",
       "</style>\n",
       "<table border=\"1\" class=\"dataframe\">\n",
       "  <thead>\n",
       "    <tr style=\"text-align: right;\">\n",
       "      <th></th>\n",
       "      <th>title</th>\n",
       "      <th>description</th>\n",
       "      <th>publishTime</th>\n",
       "      <th>kind_stats</th>\n",
       "      <th>duration_seconds</th>\n",
       "      <th>viewCount</th>\n",
       "      <th>likeCount</th>\n",
       "      <th>commentCount</th>\n",
       "      <th>like_to_view_ratio</th>\n",
       "    </tr>\n",
       "    <tr>\n",
       "      <th>id</th>\n",
       "      <th></th>\n",
       "      <th></th>\n",
       "      <th></th>\n",
       "      <th></th>\n",
       "      <th></th>\n",
       "      <th></th>\n",
       "      <th></th>\n",
       "      <th></th>\n",
       "      <th></th>\n",
       "    </tr>\n",
       "  </thead>\n",
       "  <tbody>\n",
       "    <tr>\n",
       "      <th>0e3GPea1Tyg</th>\n",
       "      <td>$456,000 Squid Game In Real Life!</td>\n",
       "      <td>MAKE SURE YOU WATCH UNTIL GLASS BRIDGE IT'S IN...</td>\n",
       "      <td>2021-11-24 21:00:01+00:00</td>\n",
       "      <td>youtube#video</td>\n",
       "      <td>1542</td>\n",
       "      <td>178763228.0</td>\n",
       "      <td>12250732.0</td>\n",
       "      <td>571946.0</td>\n",
       "      <td>0.068530</td>\n",
       "    </tr>\n",
       "    <tr>\n",
       "      <th>0e3GPea1Tyg</th>\n",
       "      <td>$456,000 Squid Game In Real Life!</td>\n",
       "      <td>MAKE SURE YOU WATCH UNTIL GLASS BRIDGE IT'S IN...</td>\n",
       "      <td>2021-11-24 21:00:01+00:00</td>\n",
       "      <td>youtube#video</td>\n",
       "      <td>1542</td>\n",
       "      <td>178763228.0</td>\n",
       "      <td>12250732.0</td>\n",
       "      <td>571946.0</td>\n",
       "      <td>0.068530</td>\n",
       "    </tr>\n",
       "    <tr>\n",
       "      <th>dBxOYE2j55U</th>\n",
       "      <td>Make This Video The Most Liked Video On Youtube</td>\n",
       "      <td>WHAT IS UP LOGANG, MAKE SURE YOU LIKE THE VIDE...</td>\n",
       "      <td>2019-01-16 22:05:01+00:00</td>\n",
       "      <td>youtube#video</td>\n",
       "      <td>791</td>\n",
       "      <td>96523287.0</td>\n",
       "      <td>19049431.0</td>\n",
       "      <td>277088.0</td>\n",
       "      <td>0.197356</td>\n",
       "    </tr>\n",
       "  </tbody>\n",
       "</table>\n",
       "</div>"
      ],
      "text/plain": [
       "                                                       title  \\\n",
       "id                                                             \n",
       "0e3GPea1Tyg                $456,000 Squid Game In Real Life!   \n",
       "0e3GPea1Tyg                $456,000 Squid Game In Real Life!   \n",
       "dBxOYE2j55U  Make This Video The Most Liked Video On Youtube   \n",
       "\n",
       "                                                   description  \\\n",
       "id                                                               \n",
       "0e3GPea1Tyg  MAKE SURE YOU WATCH UNTIL GLASS BRIDGE IT'S IN...   \n",
       "0e3GPea1Tyg  MAKE SURE YOU WATCH UNTIL GLASS BRIDGE IT'S IN...   \n",
       "dBxOYE2j55U  WHAT IS UP LOGANG, MAKE SURE YOU LIKE THE VIDE...   \n",
       "\n",
       "                           publishTime     kind_stats  duration_seconds  \\\n",
       "id                                                                        \n",
       "0e3GPea1Tyg  2021-11-24 21:00:01+00:00  youtube#video              1542   \n",
       "0e3GPea1Tyg  2021-11-24 21:00:01+00:00  youtube#video              1542   \n",
       "dBxOYE2j55U  2019-01-16 22:05:01+00:00  youtube#video               791   \n",
       "\n",
       "               viewCount   likeCount  commentCount  like_to_view_ratio  \n",
       "id                                                                      \n",
       "0e3GPea1Tyg  178763228.0  12250732.0      571946.0            0.068530  \n",
       "0e3GPea1Tyg  178763228.0  12250732.0      571946.0            0.068530  \n",
       "dBxOYE2j55U   96523287.0  19049431.0      277088.0            0.197356  "
      ]
     },
     "execution_count": 37,
     "metadata": {},
     "output_type": "execute_result"
    }
   ],
   "source": [
    "df.query('likeCount > 10000000')"
   ]
  },
  {
   "cell_type": "code",
   "execution_count": 38,
   "id": "c469c7f7",
   "metadata": {
    "execution": {
     "iopub.execute_input": "2023-02-22T16:27:19.668202Z",
     "iopub.status.busy": "2023-02-22T16:27:19.667072Z",
     "iopub.status.idle": "2023-02-22T16:27:19.677316Z",
     "shell.execute_reply": "2023-02-22T16:27:19.675982Z"
    },
    "papermill": {
     "duration": 0.036624,
     "end_time": "2023-02-22T16:27:19.680134",
     "exception": false,
     "start_time": "2023-02-22T16:27:19.643510",
     "status": "completed"
    },
    "tags": []
   },
   "outputs": [],
   "source": [
    "df.to_csv('processed_data2.csv')"
   ]
  }
 ],
 "metadata": {
  "kernelspec": {
   "display_name": "Python 3",
   "language": "python",
   "name": "python3"
  },
  "language_info": {
   "codemirror_mode": {
    "name": "ipython",
    "version": 3
   },
   "file_extension": ".py",
   "mimetype": "text/x-python",
   "name": "python",
   "nbconvert_exporter": "python",
   "pygments_lexer": "ipython3",
   "version": "3.7.12"
  },
  "papermill": {
   "default_parameters": {},
   "duration": 11.344398,
   "end_time": "2023-02-22T16:27:20.325459",
   "environment_variables": {},
   "exception": null,
   "input_path": "__notebook__.ipynb",
   "output_path": "__notebook__.ipynb",
   "parameters": {},
   "start_time": "2023-02-22T16:27:08.981061",
   "version": "2.3.4"
  }
 },
 "nbformat": 4,
 "nbformat_minor": 5
}
