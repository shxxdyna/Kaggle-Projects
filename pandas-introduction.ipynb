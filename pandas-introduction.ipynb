{
 "cells": [
  {
   "cell_type": "code",
   "execution_count": 1,
   "id": "0ed69174",
   "metadata": {
    "_cell_guid": "b1076dfc-b9ad-4769-8c92-a6c4dae69d19",
    "_uuid": "8f2839f25d086af736a60e9eeb907d3b93b6e0e5",
    "execution": {
     "iopub.execute_input": "2023-02-22T16:06:45.194369Z",
     "iopub.status.busy": "2023-02-22T16:06:45.193562Z",
     "iopub.status.idle": "2023-02-22T16:06:45.283593Z",
     "shell.execute_reply": "2023-02-22T16:06:45.282691Z"
    },
    "papermill": {
     "duration": 0.103342,
     "end_time": "2023-02-22T16:06:45.285915",
     "exception": false,
     "start_time": "2023-02-22T16:06:45.182573",
     "status": "completed"
    },
    "tags": []
   },
   "outputs": [
    {
     "name": "stdout",
     "output_type": "stream",
     "text": [
      "/kaggle/input/mr-beast-youtube-video-statistics/MrBeast_youtube_stats.csv\n",
      "/kaggle/input/mr-beast-youtube-video-statistics/thumbnails/HBMmK1c44sE.jpg\n",
      "/kaggle/input/mr-beast-youtube-video-statistics/thumbnails/Ims5p6wjW9s.jpg\n",
      "/kaggle/input/mr-beast-youtube-video-statistics/thumbnails/vp5sSqyZ5Go.jpg\n",
      "/kaggle/input/mr-beast-youtube-video-statistics/thumbnails/Pe3pGsCeYXg.jpg\n",
      "/kaggle/input/mr-beast-youtube-video-statistics/thumbnails/3ix_gbcubTo.jpg\n",
      "/kaggle/input/mr-beast-youtube-video-statistics/thumbnails/nM89Wl03Q4g.jpg\n",
      "/kaggle/input/mr-beast-youtube-video-statistics/thumbnails/0e3GPea1Tyg.jpg\n",
      "/kaggle/input/mr-beast-youtube-video-statistics/thumbnails/wDqJZ_2ZA3A.jpg\n",
      "/kaggle/input/mr-beast-youtube-video-statistics/thumbnails/t8aM4HuVLrQ.jpg\n",
      "/kaggle/input/mr-beast-youtube-video-statistics/thumbnails/oI6aXhowFDY.jpg\n",
      "/kaggle/input/mr-beast-youtube-video-statistics/thumbnails/Lx9fRu5ehFo.jpg\n",
      "/kaggle/input/mr-beast-youtube-video-statistics/thumbnails/RCvnytndd9c.jpg\n",
      "/kaggle/input/mr-beast-youtube-video-statistics/thumbnails/TDiXxsQ0w2Q.jpg\n",
      "/kaggle/input/mr-beast-youtube-video-statistics/thumbnails/D9lVNzyhYnc.jpg\n",
      "/kaggle/input/mr-beast-youtube-video-statistics/thumbnails/A-vX1AGBGsc.jpg\n",
      "/kaggle/input/mr-beast-youtube-video-statistics/thumbnails/ha4tRQwKIUg.jpg\n",
      "/kaggle/input/mr-beast-youtube-video-statistics/thumbnails/yeqARWqjkps.jpg\n",
      "/kaggle/input/mr-beast-youtube-video-statistics/thumbnails/0hVZOJCYBBM.jpg\n",
      "/kaggle/input/mr-beast-youtube-video-statistics/thumbnails/3TflpIllQHY.jpg\n",
      "/kaggle/input/mr-beast-youtube-video-statistics/thumbnails/yUXIx2l8kko.jpg\n",
      "/kaggle/input/mr-beast-youtube-video-statistics/thumbnails/9-HphHIJS9c.jpg\n",
      "/kaggle/input/mr-beast-youtube-video-statistics/thumbnails/LeYsRMZFUq0.jpg\n",
      "/kaggle/input/mr-beast-youtube-video-statistics/thumbnails/ORUX1lHbOa8.jpg\n",
      "/kaggle/input/mr-beast-youtube-video-statistics/thumbnails/d1010B3sKNQ.jpg\n",
      "/kaggle/input/mr-beast-youtube-video-statistics/thumbnails/r7zJ8srwwjk.jpg\n",
      "/kaggle/input/mr-beast-youtube-video-statistics/thumbnails/YQDDm9HLkV4.jpg\n",
      "/kaggle/input/mr-beast-youtube-video-statistics/thumbnails/XE9pUM9MEFA.jpg\n",
      "/kaggle/input/mr-beast-youtube-video-statistics/thumbnails/9zFfp3gzZ88.jpg\n",
      "/kaggle/input/mr-beast-youtube-video-statistics/thumbnails/anZbhN0Wh_4.jpg\n",
      "/kaggle/input/mr-beast-youtube-video-statistics/thumbnails/moMJjt5KECc.jpg\n",
      "/kaggle/input/mr-beast-youtube-video-statistics/thumbnails/tYHTVjfShOA.jpg\n",
      "/kaggle/input/mr-beast-youtube-video-statistics/thumbnails/DoIQMkoYSzw.jpg\n",
      "/kaggle/input/mr-beast-youtube-video-statistics/thumbnails/cExLQ1o2pDw.jpg\n",
      "/kaggle/input/mr-beast-youtube-video-statistics/thumbnails/urtFrxDUV6c.jpg\n",
      "/kaggle/input/mr-beast-youtube-video-statistics/thumbnails/IoZri9hq7z4.jpg\n",
      "/kaggle/input/mr-beast-youtube-video-statistics/thumbnails/PJyWmlWNor8.jpg\n",
      "/kaggle/input/mr-beast-youtube-video-statistics/thumbnails/9yrdFAJUSaU.jpg\n",
      "/kaggle/input/mr-beast-youtube-video-statistics/thumbnails/gKVZz4kcuns.jpg\n",
      "/kaggle/input/mr-beast-youtube-video-statistics/thumbnails/qZNxvnQv0h4.jpg\n",
      "/kaggle/input/mr-beast-youtube-video-statistics/thumbnails/dBxOYE2j55U.jpg\n",
      "/kaggle/input/mr-beast-youtube-video-statistics/thumbnails/AKJfakEsgy0.jpg\n",
      "/kaggle/input/mr-beast-youtube-video-statistics/thumbnails/NkE0AMGzpJY.jpg\n",
      "/kaggle/input/mr-beast-youtube-video-statistics/thumbnails/zxYjTTXc-J8.jpg\n",
      "/kaggle/input/mr-beast-youtube-video-statistics/thumbnails/Y74b7WlcEpk.jpg\n",
      "/kaggle/input/mr-beast-youtube-video-statistics/thumbnails/i2O6GMpNWGo.jpg\n",
      "/kaggle/input/mr-beast-youtube-video-statistics/thumbnails/8D3vI1615K4.jpg\n",
      "/kaggle/input/mr-beast-youtube-video-statistics/thumbnails/6_im_hGxGRk.jpg\n",
      "/kaggle/input/mr-beast-youtube-video-statistics/thumbnails/59AYXzCa-Cs.jpg\n",
      "/kaggle/input/mr-beast-youtube-video-statistics/thumbnails/_uwNDiU04zE.jpg\n",
      "/kaggle/input/mr-beast-youtube-video-statistics/thumbnails/yeHjsYQ076A.jpg\n",
      "/kaggle/input/mr-beast-youtube-video-statistics/thumbnails/q0OK-zHnvnA.jpg\n",
      "/kaggle/input/mr-beast-youtube-video-statistics/thumbnails/WcwGleN38zE.jpg\n",
      "/kaggle/input/mr-beast-youtube-video-statistics/thumbnails/DuQbOQwVaNE.jpg\n",
      "/kaggle/input/mr-beast-youtube-video-statistics/thumbnails/5PCxQSMOl3o.jpg\n",
      "/kaggle/input/mr-beast-youtube-video-statistics/thumbnails/BMZP4CtphaU.jpg\n",
      "/kaggle/input/mr-beast-youtube-video-statistics/thumbnails/dFr5YQaQQdo.jpg\n",
      "/kaggle/input/mr-beast-youtube-video-statistics/thumbnails/TZPlDuYrcDQ.jpg\n",
      "/kaggle/input/mr-beast-youtube-video-statistics/thumbnails/TOcGSwJBPMQ.jpg\n",
      "/kaggle/input/mr-beast-youtube-video-statistics/thumbnails/rqUvnLPvbrM.jpg\n",
      "/kaggle/input/mr-beast-youtube-video-statistics/thumbnails/tQ4m4zD7BBA.jpg\n",
      "/kaggle/input/mr-beast-youtube-video-statistics/thumbnails/rPXmbM2UEbU.jpg\n",
      "/kaggle/input/mr-beast-youtube-video-statistics/thumbnails/IAbX0FwX-GY.jpg\n",
      "/kaggle/input/mr-beast-youtube-video-statistics/thumbnails/vETSAZgfDP4.jpg\n",
      "/kaggle/input/mr-beast-youtube-video-statistics/thumbnails/uUIlb2rpIuY.jpg\n",
      "/kaggle/input/mr-beast-youtube-video-statistics/thumbnails/GLoeAJUcz38.jpg\n",
      "/kaggle/input/mr-beast-youtube-video-statistics/thumbnails/fMfipiV_17o.jpg\n",
      "/kaggle/input/mr-beast-youtube-video-statistics/thumbnails/nuM0Z4a7kMs.jpg\n",
      "/kaggle/input/mr-beast-youtube-video-statistics/thumbnails/X7doE4h6W64.jpg\n",
      "/kaggle/input/mr-beast-youtube-video-statistics/thumbnails/w40Z8aT5fpQ.jpg\n",
      "/kaggle/input/mr-beast-youtube-video-statistics/thumbnails/OAbP-V6fEVc.jpg\n",
      "/kaggle/input/mr-beast-youtube-video-statistics/thumbnails/XKSJRulqDNA.jpg\n",
      "/kaggle/input/mr-beast-youtube-video-statistics/thumbnails/-0zoWMSEOGg.jpg\n",
      "/kaggle/input/mr-beast-youtube-video-statistics/thumbnails/52ubXjlVzUY.jpg\n",
      "/kaggle/input/mr-beast-youtube-video-statistics/thumbnails/_mdKvblL_8s.jpg\n",
      "/kaggle/input/mr-beast-youtube-video-statistics/thumbnails/hxwpkM5w3Cc.jpg\n",
      "/kaggle/input/mr-beast-youtube-video-statistics/thumbnails/ep7S1XnuQLU.jpg\n",
      "/kaggle/input/mr-beast-youtube-video-statistics/thumbnails/lfD7kMZKuNg.jpg\n",
      "/kaggle/input/mr-beast-youtube-video-statistics/thumbnails/Ih2WTyY62J4.jpg\n",
      "/kaggle/input/mr-beast-youtube-video-statistics/thumbnails/Izmibu7dxcs.jpg\n",
      "/kaggle/input/mr-beast-youtube-video-statistics/thumbnails/gL6iSCSHjco.jpg\n",
      "/kaggle/input/mr-beast-youtube-video-statistics/thumbnails/op0N7axawJA.jpg\n",
      "/kaggle/input/mr-beast-youtube-video-statistics/thumbnails/wMuYiLby3-s.jpg\n",
      "/kaggle/input/mr-beast-youtube-video-statistics/thumbnails/9cCpZl8euLI.jpg\n",
      "/kaggle/input/mr-beast-youtube-video-statistics/thumbnails/ZQZzR0DUujc.jpg\n",
      "/kaggle/input/mr-beast-youtube-video-statistics/thumbnails/9vB-48kHbBU.jpg\n",
      "/kaggle/input/mr-beast-youtube-video-statistics/thumbnails/9bqk6ZUsKyA.jpg\n",
      "/kaggle/input/mr-beast-youtube-video-statistics/thumbnails/RwnN2FVaHmw.jpg\n",
      "/kaggle/input/mr-beast-youtube-video-statistics/thumbnails/sfv1QaRzJg8.jpg\n",
      "/kaggle/input/mr-beast-youtube-video-statistics/thumbnails/00NgUctWoLQ.jpg\n",
      "/kaggle/input/mr-beast-youtube-video-statistics/thumbnails/p6bzNpgbX8Y.jpg\n",
      "/kaggle/input/mr-beast-youtube-video-statistics/thumbnails/Dc2ZRmuH5OM.jpg\n",
      "/kaggle/input/mr-beast-youtube-video-statistics/thumbnails/SZQhgExjBvQ.jpg\n",
      "/kaggle/input/mr-beast-youtube-video-statistics/thumbnails/XaxhLbxZ13k.jpg\n",
      "/kaggle/input/mr-beast-youtube-video-statistics/thumbnails/t4OumncEiKo.jpg\n",
      "/kaggle/input/mr-beast-youtube-video-statistics/thumbnails/NbaWrbJDr48.jpg\n",
      "/kaggle/input/mr-beast-youtube-video-statistics/thumbnails/NS3hse9ezik.jpg\n",
      "/kaggle/input/mr-beast-youtube-video-statistics/thumbnails/rH1D_3G56DY.jpg\n",
      "/kaggle/input/mr-beast-youtube-video-statistics/thumbnails/foLlul8Tl3E.jpg\n",
      "/kaggle/input/mr-beast-youtube-video-statistics/thumbnails/sirrTXiPFmw.jpg\n",
      "/kaggle/input/mr-beast-youtube-video-statistics/thumbnails/fG1N5kzeAhM.jpg\n",
      "/kaggle/input/mr-beast-youtube-video-statistics/thumbnails/koRKIlRQj4g.jpg\n",
      "/kaggle/input/mr-beast-youtube-video-statistics/thumbnails/xWcldHxHFpo.jpg\n",
      "/kaggle/input/mr-beast-youtube-video-statistics/thumbnails/fWcSBWadolA.jpg\n",
      "/kaggle/input/mr-beast-youtube-video-statistics/thumbnails/g2rbhIB-ITM.jpg\n",
      "/kaggle/input/mr-beast-youtube-video-statistics/thumbnails/0DaMUhgcAqo.jpg\n",
      "/kaggle/input/mr-beast-youtube-video-statistics/thumbnails/2eFSU7TFOnk.jpg\n",
      "/kaggle/input/mr-beast-youtube-video-statistics/thumbnails/qPBtTPJHS0Q.jpg\n",
      "/kaggle/input/mr-beast-youtube-video-statistics/thumbnails/b91vrgVY-ZQ.jpg\n",
      "/kaggle/input/mr-beast-youtube-video-statistics/thumbnails/vJH28ICkCdU.jpg\n",
      "/kaggle/input/mr-beast-youtube-video-statistics/thumbnails/f0c7pSCoZqE.jpg\n",
      "/kaggle/input/mr-beast-youtube-video-statistics/thumbnails/YyhKdOCwD7s.jpg\n",
      "/kaggle/input/mr-beast-youtube-video-statistics/thumbnails/ZJwX2jTXWwQ.jpg\n",
      "/kaggle/input/mr-beast-youtube-video-statistics/thumbnails/BqS4iVHa-LU.jpg\n",
      "/kaggle/input/mr-beast-youtube-video-statistics/thumbnails/H1WBdh56Vq4.jpg\n",
      "/kaggle/input/mr-beast-youtube-video-statistics/thumbnails/UE5AHE2Ypr8.jpg\n",
      "/kaggle/input/mr-beast-youtube-video-statistics/thumbnails/6wsFjjhZPJI.jpg\n",
      "/kaggle/input/mr-beast-youtube-video-statistics/thumbnails/3LLnjRLrvLU.jpg\n",
      "/kaggle/input/mr-beast-youtube-video-statistics/thumbnails/LU_xVr4b2qM.jpg\n",
      "/kaggle/input/mr-beast-youtube-video-statistics/thumbnails/X1jMMFOqxEw.jpg\n",
      "/kaggle/input/mr-beast-youtube-video-statistics/thumbnails/AS5CxLCWq-Q.jpg\n",
      "/kaggle/input/mr-beast-youtube-video-statistics/thumbnails/lBYC4_Lccjw.jpg\n",
      "/kaggle/input/mr-beast-youtube-video-statistics/thumbnails/RywkkwO78m8.jpg\n",
      "/kaggle/input/mr-beast-youtube-video-statistics/thumbnails/uotb9ZHnI2g.jpg\n",
      "/kaggle/input/mr-beast-youtube-video-statistics/thumbnails/AA-VpIj8F5Y.jpg\n",
      "/kaggle/input/mr-beast-youtube-video-statistics/thumbnails/PKtnafFtfEo.jpg\n",
      "/kaggle/input/mr-beast-youtube-video-statistics/thumbnails/uocETPj4Jx4.jpg\n",
      "/kaggle/input/mr-beast-youtube-video-statistics/thumbnails/5Fg9oZk-5uA.jpg\n",
      "/kaggle/input/mr-beast-youtube-video-statistics/thumbnails/e5DqdX-7_g4.jpg\n",
      "/kaggle/input/mr-beast-youtube-video-statistics/thumbnails/bIZ5_L1ru2w.jpg\n",
      "/kaggle/input/mr-beast-youtube-video-statistics/thumbnails/gsWPpE4Rid0.jpg\n",
      "/kaggle/input/mr-beast-youtube-video-statistics/thumbnails/Vl3swga-Xrk.jpg\n",
      "/kaggle/input/mr-beast-youtube-video-statistics/thumbnails/GxTVDClFXuc.jpg\n",
      "/kaggle/input/mr-beast-youtube-video-statistics/thumbnails/P4qWhSZ7_WA.jpg\n",
      "/kaggle/input/mr-beast-youtube-video-statistics/thumbnails/5Hg_QSIJm8I.jpg\n",
      "/kaggle/input/mr-beast-youtube-video-statistics/thumbnails/xRwy_rKc7gI.jpg\n",
      "/kaggle/input/mr-beast-youtube-video-statistics/thumbnails/C680oxL__ck.jpg\n",
      "/kaggle/input/mr-beast-youtube-video-statistics/thumbnails/GUWGsIVEMSQ.jpg\n",
      "/kaggle/input/mr-beast-youtube-video-statistics/thumbnails/vZrL_FFITgs.jpg\n",
      "/kaggle/input/mr-beast-youtube-video-statistics/thumbnails/mGIpOtncmSM.jpg\n",
      "/kaggle/input/mr-beast-youtube-video-statistics/thumbnails/erQ_9yEz0ls.jpg\n",
      "/kaggle/input/mr-beast-youtube-video-statistics/thumbnails/d7QmQtNwhcU.jpg\n",
      "/kaggle/input/mr-beast-youtube-video-statistics/thumbnails/sg_XFT4K3N4.jpg\n",
      "/kaggle/input/mr-beast-youtube-video-statistics/thumbnails/56OkH6ocYZU.jpg\n",
      "/kaggle/input/mr-beast-youtube-video-statistics/thumbnails/ktyJIj6i4Qw.jpg\n",
      "/kaggle/input/mr-beast-youtube-video-statistics/thumbnails/dPxAFqs2eYE.jpg\n",
      "/kaggle/input/mr-beast-youtube-video-statistics/thumbnails/bEIK5ni_Pzs.jpg\n",
      "/kaggle/input/mr-beast-youtube-video-statistics/thumbnails/bFZdU9dr4OM.jpg\n",
      "/kaggle/input/mr-beast-youtube-video-statistics/thumbnails/TQHEJj68Jew.jpg\n",
      "/kaggle/input/mr-beast-youtube-video-statistics/thumbnails/x9TQ6culXIA.jpg\n",
      "/kaggle/input/mr-beast-youtube-video-statistics/thumbnails/Su34c5Z8DW4.jpg\n",
      "/kaggle/input/mr-beast-youtube-video-statistics/thumbnails/anFxsa5jXrE.jpg\n",
      "/kaggle/input/mr-beast-youtube-video-statistics/thumbnails/Kgu2ApayYvI.jpg\n",
      "/kaggle/input/mr-beast-youtube-video-statistics/thumbnails/8TFq_vvO_Wg.jpg\n",
      "/kaggle/input/mr-beast-youtube-video-statistics/thumbnails/5V2B28OqfqM.jpg\n",
      "/kaggle/input/mr-beast-youtube-video-statistics/thumbnails/v3tbnlc5cfo.jpg\n",
      "/kaggle/input/mr-beast-youtube-video-statistics/thumbnails/iUzi5JmJNWc.jpg\n",
      "/kaggle/input/mr-beast-youtube-video-statistics/thumbnails/QapO3maXd9k.jpg\n",
      "/kaggle/input/mr-beast-youtube-video-statistics/thumbnails/NZR4WEjpOQg.jpg\n",
      "/kaggle/input/mr-beast-youtube-video-statistics/thumbnails/nd-bwvNB7YA.jpg\n",
      "/kaggle/input/mr-beast-youtube-video-statistics/thumbnails/QxGVgXf_LNk.jpg\n",
      "/kaggle/input/mr-beast-youtube-video-statistics/thumbnails/tBEBc4KQVsU.jpg\n",
      "/kaggle/input/mr-beast-youtube-video-statistics/thumbnails/NZlClr_ivb4.jpg\n",
      "/kaggle/input/mr-beast-youtube-video-statistics/thumbnails/cRPldarzw-M.jpg\n",
      "/kaggle/input/mr-beast-youtube-video-statistics/thumbnails/FbM1yi4mMMc.jpg\n",
      "/kaggle/input/mr-beast-youtube-video-statistics/thumbnails/9GD6hbqu2oM.jpg\n",
      "/kaggle/input/mr-beast-youtube-video-statistics/thumbnails/E6E22XQPhhg.jpg\n",
      "/kaggle/input/mr-beast-youtube-video-statistics/thumbnails/HPJKxAhLw5I.jpg\n",
      "/kaggle/input/mr-beast-youtube-video-statistics/thumbnails/cV2gBU6hKfY.jpg\n",
      "/kaggle/input/mr-beast-youtube-video-statistics/thumbnails/ZV7rU6lnAKQ.jpg\n",
      "/kaggle/input/mr-beast-youtube-video-statistics/thumbnails/UlUcwJc5nBs.jpg\n",
      "/kaggle/input/mr-beast-youtube-video-statistics/thumbnails/97Gh93Daio0.jpg\n",
      "/kaggle/input/mr-beast-youtube-video-statistics/thumbnails/qIsgdOVGA04.jpg\n",
      "/kaggle/input/mr-beast-youtube-video-statistics/thumbnails/NiqkH7qVW0U.jpg\n",
      "/kaggle/input/mr-beast-youtube-video-statistics/thumbnails/QbJJwaVdgIs.jpg\n",
      "/kaggle/input/mr-beast-youtube-video-statistics/thumbnails/KSKJKLmAqpI.jpg\n",
      "/kaggle/input/mr-beast-youtube-video-statistics/thumbnails/nywT2SenPIo.jpg\n",
      "/kaggle/input/mr-beast-youtube-video-statistics/thumbnails/KzwTYZ2W3ZA.jpg\n",
      "/kaggle/input/mr-beast-youtube-video-statistics/thumbnails/9CVwXBYVqVk.jpg\n",
      "/kaggle/input/mr-beast-youtube-video-statistics/thumbnails/xpNeg0hPZIs.jpg\n",
      "/kaggle/input/mr-beast-youtube-video-statistics/thumbnails/HfJMs4mrSJM.jpg\n",
      "/kaggle/input/mr-beast-youtube-video-statistics/thumbnails/nan.jpg\n",
      "/kaggle/input/mr-beast-youtube-video-statistics/thumbnails/dg2Ag3e8W-Q.jpg\n",
      "/kaggle/input/mr-beast-youtube-video-statistics/thumbnails/L8nh1wuXTbI.jpg\n",
      "/kaggle/input/mr-beast-youtube-video-statistics/thumbnails/UQtltNZ_pjs.jpg\n",
      "/kaggle/input/mr-beast-youtube-video-statistics/thumbnails/G7Y9ban7b0U.jpg\n",
      "/kaggle/input/mr-beast-youtube-video-statistics/thumbnails/Rj_vssRaZlQ.jpg\n",
      "/kaggle/input/mr-beast-youtube-video-statistics/thumbnails/uE6gud1voDs.jpg\n",
      "/kaggle/input/mr-beast-youtube-video-statistics/thumbnails/zi7tZ-2PhLk.jpg\n",
      "/kaggle/input/mr-beast-youtube-video-statistics/thumbnails/IYVjOfoU3uI.jpg\n",
      "/kaggle/input/mr-beast-youtube-video-statistics/thumbnails/9Ax56oRhcZc.jpg\n",
      "/kaggle/input/mr-beast-youtube-video-statistics/thumbnails/yyJ7xEcENNI.jpg\n",
      "/kaggle/input/mr-beast-youtube-video-statistics/thumbnails/UtnsWzaoRtg.jpg\n",
      "/kaggle/input/mr-beast-youtube-video-statistics/thumbnails/AS6WMS_Bemg.jpg\n",
      "/kaggle/input/mr-beast-youtube-video-statistics/thumbnails/mpZWt5pGKZ8.jpg\n",
      "/kaggle/input/mr-beast-youtube-video-statistics/thumbnails/2O8wta4FsD4.jpg\n",
      "/kaggle/input/mr-beast-youtube-video-statistics/thumbnails/pzlPJmNyepA.jpg\n",
      "/kaggle/input/mr-beast-youtube-video-statistics/thumbnails/AiGKBNGlzHo.jpg\n",
      "/kaggle/input/mr-beast-youtube-video-statistics/thumbnails/x4IXCimma-s.jpg\n",
      "/kaggle/input/mr-beast-youtube-video-statistics/thumbnails/uBC7805Smsg.jpg\n",
      "/kaggle/input/mr-beast-youtube-video-statistics/thumbnails/ayXxwJJId_c.jpg\n",
      "/kaggle/input/mr-beast-youtube-video-statistics/thumbnails/Ooke4YZv8Ts.jpg\n",
      "/kaggle/input/mr-beast-youtube-video-statistics/thumbnails/bs0SWXbty18.jpg\n",
      "/kaggle/input/mr-beast-youtube-video-statistics/thumbnails/F4Y3Pkn95GI.jpg\n",
      "/kaggle/input/mr-beast-youtube-video-statistics/thumbnails/HuLAAXZXIy0.jpg\n",
      "/kaggle/input/mr-beast-youtube-video-statistics/thumbnails/q6Qw8mUVTrE.jpg\n",
      "/kaggle/input/mr-beast-youtube-video-statistics/thumbnails/LdMx2U5tby0.jpg\n",
      "/kaggle/input/mr-beast-youtube-video-statistics/thumbnails/MC5h-ShR-S8.jpg\n",
      "/kaggle/input/mr-beast-youtube-video-statistics/thumbnails/2IGxSOfsBok.jpg\n",
      "/kaggle/input/mr-beast-youtube-video-statistics/thumbnails/AIytwdufwW8.jpg\n",
      "/kaggle/input/mr-beast-youtube-video-statistics/thumbnails/1UygJmcHUdQ.jpg\n",
      "/kaggle/input/mr-beast-youtube-video-statistics/thumbnails/gYaxI_allkQ.jpg\n",
      "/kaggle/input/mr-beast-youtube-video-statistics/thumbnails/XKFKPQHdWRI.jpg\n"
     ]
    }
   ],
   "source": [
    "# This Python 3 environment comes with many helpful analytics libraries installed\n",
    "# It is defined by the kaggle/python Docker image: https://github.com/kaggle/docker-python\n",
    "# For example, here's several helpful packages to load\n",
    "\n",
    "import numpy as np # linear algebra\n",
    "import pandas as pd # data processing, CSV file I/O (e.g. pd.read_csv)\n",
    "\n",
    "# Input data files are available in the read-only \"../input/\" directory\n",
    "# For example, running this (by clicking run or pressing Shift+Enter) will list all files under the input directory\n",
    "\n",
    "import os\n",
    "for dirname, _, filenames in os.walk('/kaggle/input'):\n",
    "    for filename in filenames:\n",
    "        print(os.path.join(dirname, filename))\n",
    "\n",
    "# You can write up to 20GB to the current directory (/kaggle/working/) that gets preserved as output when you create a version using \"Save & Run All\" \n",
    "# You can also write temporary files to /kaggle/temp/, but they won't be saved outside of the current session"
   ]
  },
  {
   "cell_type": "code",
   "execution_count": 2,
   "id": "b1ac05c0",
   "metadata": {
    "execution": {
     "iopub.execute_input": "2023-02-22T16:06:45.307744Z",
     "iopub.status.busy": "2023-02-22T16:06:45.306730Z",
     "iopub.status.idle": "2023-02-22T16:06:45.311263Z",
     "shell.execute_reply": "2023-02-22T16:06:45.310560Z"
    },
    "papermill": {
     "duration": 0.016396,
     "end_time": "2023-02-22T16:06:45.312795",
     "exception": false,
     "start_time": "2023-02-22T16:06:45.296399",
     "status": "completed"
    },
    "tags": []
   },
   "outputs": [],
   "source": [
    "import pandas as pd\n",
    "#always the way how this is done, importing pandas as pd\n",
    "import numpy as np "
   ]
  },
  {
   "cell_type": "markdown",
   "id": "b02fa99b",
   "metadata": {
    "papermill": {
     "duration": 0.008812,
     "end_time": "2023-02-22T16:06:45.330650",
     "exception": false,
     "start_time": "2023-02-22T16:06:45.321838",
     "status": "completed"
    },
    "tags": []
   },
   "source": [
    "# Series"
   ]
  },
  {
   "cell_type": "code",
   "execution_count": 3,
   "id": "713ca2fc",
   "metadata": {
    "execution": {
     "iopub.execute_input": "2023-02-22T16:06:45.350929Z",
     "iopub.status.busy": "2023-02-22T16:06:45.349752Z",
     "iopub.status.idle": "2023-02-22T16:06:45.359468Z",
     "shell.execute_reply": "2023-02-22T16:06:45.358038Z"
    },
    "papermill": {
     "duration": 0.022354,
     "end_time": "2023-02-22T16:06:45.361929",
     "exception": false,
     "start_time": "2023-02-22T16:06:45.339575",
     "status": "completed"
    },
    "tags": []
   },
   "outputs": [],
   "source": [
    "#create fake data\n",
    "#crate a python list\n",
    "mydata = ['Boat','Car','Bike','Truck']\n",
    "#create a pandas series from this list\n",
    "myseries1 = pd.Series(mydata)"
   ]
  },
  {
   "cell_type": "code",
   "execution_count": 4,
   "id": "3dd63a64",
   "metadata": {
    "execution": {
     "iopub.execute_input": "2023-02-22T16:06:45.381625Z",
     "iopub.status.busy": "2023-02-22T16:06:45.381302Z",
     "iopub.status.idle": "2023-02-22T16:06:45.386591Z",
     "shell.execute_reply": "2023-02-22T16:06:45.385416Z"
    },
    "papermill": {
     "duration": 0.017503,
     "end_time": "2023-02-22T16:06:45.388594",
     "exception": false,
     "start_time": "2023-02-22T16:06:45.371091",
     "status": "completed"
    },
    "tags": []
   },
   "outputs": [
    {
     "name": "stdout",
     "output_type": "stream",
     "text": [
      "0     Boat\n",
      "1      Car\n",
      "2     Bike\n",
      "3    Truck\n",
      "dtype: object\n"
     ]
    }
   ],
   "source": [
    "print(myseries1)\n",
    "#when we feed words in a string, the dtype is object"
   ]
  },
  {
   "cell_type": "code",
   "execution_count": 5,
   "id": "62db5ca2",
   "metadata": {
    "execution": {
     "iopub.execute_input": "2023-02-22T16:06:45.410083Z",
     "iopub.status.busy": "2023-02-22T16:06:45.409729Z",
     "iopub.status.idle": "2023-02-22T16:06:45.416427Z",
     "shell.execute_reply": "2023-02-22T16:06:45.414824Z"
    },
    "papermill": {
     "duration": 0.019941,
     "end_time": "2023-02-22T16:06:45.419352",
     "exception": false,
     "start_time": "2023-02-22T16:06:45.399411",
     "status": "completed"
    },
    "tags": []
   },
   "outputs": [
    {
     "name": "stdout",
     "output_type": "stream",
     "text": [
      "0     1\n",
      "1    55\n",
      "2    99\n",
      "3    43\n",
      "dtype: int64\n"
     ]
    }
   ],
   "source": [
    "mydata = [1,55,99,43]\n",
    "#create a pandas series from this list\n",
    "myseries2 = pd.Series(mydata)\n",
    "print(myseries2)\n",
    "#hence, a series is basically a list of data that have index and ada type"
   ]
  },
  {
   "cell_type": "markdown",
   "id": "d4409566",
   "metadata": {
    "papermill": {
     "duration": 0.008875,
     "end_time": "2023-02-22T16:06:45.438679",
     "exception": false,
     "start_time": "2023-02-22T16:06:45.429804",
     "status": "completed"
    },
    "tags": []
   },
   "source": [
    "# DataFrame"
   ]
  },
  {
   "cell_type": "code",
   "execution_count": 6,
   "id": "cbbc1122",
   "metadata": {
    "execution": {
     "iopub.execute_input": "2023-02-22T16:06:45.458465Z",
     "iopub.status.busy": "2023-02-22T16:06:45.458157Z",
     "iopub.status.idle": "2023-02-22T16:06:45.478822Z",
     "shell.execute_reply": "2023-02-22T16:06:45.477719Z"
    },
    "papermill": {
     "duration": 0.033298,
     "end_time": "2023-02-22T16:06:45.481111",
     "exception": false,
     "start_time": "2023-02-22T16:06:45.447813",
     "status": "completed"
    },
    "tags": []
   },
   "outputs": [
    {
     "data": {
      "text/html": [
       "<div>\n",
       "<style scoped>\n",
       "    .dataframe tbody tr th:only-of-type {\n",
       "        vertical-align: middle;\n",
       "    }\n",
       "\n",
       "    .dataframe tbody tr th {\n",
       "        vertical-align: top;\n",
       "    }\n",
       "\n",
       "    .dataframe thead th {\n",
       "        text-align: right;\n",
       "    }\n",
       "</style>\n",
       "<table border=\"1\" class=\"dataframe\">\n",
       "  <thead>\n",
       "    <tr style=\"text-align: right;\">\n",
       "      <th></th>\n",
       "      <th>thing</th>\n",
       "      <th>count</th>\n",
       "    </tr>\n",
       "  </thead>\n",
       "  <tbody>\n",
       "    <tr>\n",
       "      <th>0</th>\n",
       "      <td>Boat</td>\n",
       "      <td>1</td>\n",
       "    </tr>\n",
       "    <tr>\n",
       "      <th>1</th>\n",
       "      <td>Car</td>\n",
       "      <td>55</td>\n",
       "    </tr>\n",
       "    <tr>\n",
       "      <th>2</th>\n",
       "      <td>Bike</td>\n",
       "      <td>99</td>\n",
       "    </tr>\n",
       "    <tr>\n",
       "      <th>3</th>\n",
       "      <td>Truck</td>\n",
       "      <td>43</td>\n",
       "    </tr>\n",
       "  </tbody>\n",
       "</table>\n",
       "</div>"
      ],
      "text/plain": [
       "   thing  count\n",
       "0   Boat      1\n",
       "1    Car     55\n",
       "2   Bike     99\n",
       "3  Truck     43"
      ]
     },
     "execution_count": 6,
     "metadata": {},
     "output_type": "execute_result"
    }
   ],
   "source": [
    "mydfdata = [('Boat',1),('Car',55),('Bike',99),('Truck',43)]\n",
    "mydf = pd.DataFrame(mydfdata, columns=['thing','count'])\n",
    "mydf"
   ]
  },
  {
   "cell_type": "code",
   "execution_count": 7,
   "id": "64a1d26e",
   "metadata": {
    "execution": {
     "iopub.execute_input": "2023-02-22T16:06:45.502421Z",
     "iopub.status.busy": "2023-02-22T16:06:45.502119Z",
     "iopub.status.idle": "2023-02-22T16:06:45.512986Z",
     "shell.execute_reply": "2023-02-22T16:06:45.511471Z"
    },
    "papermill": {
     "duration": 0.023982,
     "end_time": "2023-02-22T16:06:45.515321",
     "exception": false,
     "start_time": "2023-02-22T16:06:45.491339",
     "status": "completed"
    },
    "tags": []
   },
   "outputs": [
    {
     "data": {
      "text/plain": [
       "thing    object\n",
       "count     int64\n",
       "dtype: object"
      ]
     },
     "execution_count": 7,
     "metadata": {},
     "output_type": "execute_result"
    }
   ],
   "source": [
    "type(mydf['thing'])\n",
    "mydf['count']\n",
    "mydf['thing']\n",
    "\n",
    "#inspect whats in a data frame\n",
    "#find type of variables in the data frame\n",
    "mydf.dtypes"
   ]
  },
  {
   "cell_type": "markdown",
   "id": "fe7e6bca",
   "metadata": {
    "papermill": {
     "duration": 0.009459,
     "end_time": "2023-02-22T16:06:45.534597",
     "exception": false,
     "start_time": "2023-02-22T16:06:45.525138",
     "status": "completed"
    },
    "tags": []
   },
   "source": [
    "# Reading in Data"
   ]
  },
  {
   "cell_type": "code",
   "execution_count": 8,
   "id": "f27ff777",
   "metadata": {
    "execution": {
     "iopub.execute_input": "2023-02-22T16:06:45.555833Z",
     "iopub.status.busy": "2023-02-22T16:06:45.555487Z",
     "iopub.status.idle": "2023-02-22T16:06:45.575054Z",
     "shell.execute_reply": "2023-02-22T16:06:45.574029Z"
    },
    "papermill": {
     "duration": 0.03282,
     "end_time": "2023-02-22T16:06:45.577122",
     "exception": false,
     "start_time": "2023-02-22T16:06:45.544302",
     "status": "completed"
    },
    "tags": []
   },
   "outputs": [],
   "source": [
    "df = pd.read_csv('/kaggle/input/mr-beast-youtube-video-statistics/MrBeast_youtube_stats.csv')"
   ]
  },
  {
   "cell_type": "code",
   "execution_count": 9,
   "id": "069cc045",
   "metadata": {
    "execution": {
     "iopub.execute_input": "2023-02-22T16:06:45.597881Z",
     "iopub.status.busy": "2023-02-22T16:06:45.597581Z",
     "iopub.status.idle": "2023-02-22T16:06:45.622657Z",
     "shell.execute_reply": "2023-02-22T16:06:45.621728Z"
    },
    "papermill": {
     "duration": 0.03754,
     "end_time": "2023-02-22T16:06:45.624272",
     "exception": false,
     "start_time": "2023-02-22T16:06:45.586732",
     "status": "completed"
    },
    "tags": []
   },
   "outputs": [
    {
     "data": {
      "text/html": [
       "<div>\n",
       "<style scoped>\n",
       "    .dataframe tbody tr th:only-of-type {\n",
       "        vertical-align: middle;\n",
       "    }\n",
       "\n",
       "    .dataframe tbody tr th {\n",
       "        vertical-align: top;\n",
       "    }\n",
       "\n",
       "    .dataframe thead th {\n",
       "        text-align: right;\n",
       "    }\n",
       "</style>\n",
       "<table border=\"1\" class=\"dataframe\">\n",
       "  <thead>\n",
       "    <tr style=\"text-align: right;\">\n",
       "      <th></th>\n",
       "      <th>id</th>\n",
       "      <th>title</th>\n",
       "      <th>description</th>\n",
       "      <th>publishTime</th>\n",
       "      <th>kind_stats</th>\n",
       "      <th>duration_seconds</th>\n",
       "      <th>viewCount</th>\n",
       "      <th>likeCount</th>\n",
       "      <th>commentCount</th>\n",
       "      <th>thumbnails.default.url</th>\n",
       "      <th>...</th>\n",
       "      <th>thumbnails.high.width</th>\n",
       "      <th>thumbnails.high.height</th>\n",
       "      <th>contentDetails.duration</th>\n",
       "      <th>contentDetails.dimension</th>\n",
       "      <th>topicDetails.topicCategories</th>\n",
       "      <th>snippet.defaultLanguage</th>\n",
       "      <th>localizations.en.title</th>\n",
       "      <th>localizations.en.description</th>\n",
       "      <th>snippet.tags</th>\n",
       "      <th>contentDetails.contentRating.ytRating</th>\n",
       "    </tr>\n",
       "  </thead>\n",
       "  <tbody>\n",
       "    <tr>\n",
       "      <th>0</th>\n",
       "      <td>TQHEJj68Jew</td>\n",
       "      <td>I Got Hunted By A Real Bounty Hunter</td>\n",
       "      <td>Sign up for Current w/ my Creator Code \"BEAST\"...</td>\n",
       "      <td>2021-04-24 20:00:00+00:00</td>\n",
       "      <td>youtube#video</td>\n",
       "      <td>861</td>\n",
       "      <td>84717282.0</td>\n",
       "      <td>2876493.0</td>\n",
       "      <td>128922.0</td>\n",
       "      <td>https://i.ytimg.com/vi/TQHEJj68Jew/default.jpg</td>\n",
       "      <td>...</td>\n",
       "      <td>480.0</td>\n",
       "      <td>360.0</td>\n",
       "      <td>PT14M21S</td>\n",
       "      <td>2d</td>\n",
       "      <td>['https://en.wikipedia.org/wiki/Lifestyle_(soc...</td>\n",
       "      <td>NaN</td>\n",
       "      <td>NaN</td>\n",
       "      <td>NaN</td>\n",
       "      <td>NaN</td>\n",
       "      <td>NaN</td>\n",
       "    </tr>\n",
       "    <tr>\n",
       "      <th>1</th>\n",
       "      <td>00NgUctWoLQ</td>\n",
       "      <td>Extreme $1,000,000 Hide And Seek</td>\n",
       "      <td>I didn't expect that to happen at the end I wa...</td>\n",
       "      <td>2021-12-18 21:00:00+00:00</td>\n",
       "      <td>youtube#video</td>\n",
       "      <td>729</td>\n",
       "      <td>32090178.0</td>\n",
       "      <td>2125183.0</td>\n",
       "      <td>73593.0</td>\n",
       "      <td>https://i.ytimg.com/vi/00NgUctWoLQ/default.jpg</td>\n",
       "      <td>...</td>\n",
       "      <td>480.0</td>\n",
       "      <td>360.0</td>\n",
       "      <td>PT12M9S</td>\n",
       "      <td>2d</td>\n",
       "      <td>['https://en.wikipedia.org/wiki/Lifestyle_(soc...</td>\n",
       "      <td>en</td>\n",
       "      <td>Extreme $1,000,000 Hide And Seek</td>\n",
       "      <td>I didn't expect that to happen at the end I wa...</td>\n",
       "      <td>NaN</td>\n",
       "      <td>NaN</td>\n",
       "    </tr>\n",
       "    <tr>\n",
       "      <th>2</th>\n",
       "      <td>NaN</td>\n",
       "      <td>MrBeast</td>\n",
       "      <td>Accomplishments - Raised $20000000 To Plant 20...</td>\n",
       "      <td>2012-02-20 00:43:50+00:00</td>\n",
       "      <td>NaN</td>\n",
       "      <td>0</td>\n",
       "      <td>NaN</td>\n",
       "      <td>NaN</td>\n",
       "      <td>NaN</td>\n",
       "      <td>https://yt3.ggpht.com/ytc/AKedOLTctGKJ32CdDLiS...</td>\n",
       "      <td>...</td>\n",
       "      <td>NaN</td>\n",
       "      <td>NaN</td>\n",
       "      <td>NaN</td>\n",
       "      <td>NaN</td>\n",
       "      <td>NaN</td>\n",
       "      <td>NaN</td>\n",
       "      <td>NaN</td>\n",
       "      <td>NaN</td>\n",
       "      <td>NaN</td>\n",
       "      <td>NaN</td>\n",
       "    </tr>\n",
       "    <tr>\n",
       "      <th>3</th>\n",
       "      <td>ayXxwJJId_c</td>\n",
       "      <td>I Bought The World&amp;#39;s Largest Mystery Box! ...</td>\n",
       "      <td>I cant believe I spent over $500000 on mystery...</td>\n",
       "      <td>2021-04-03 20:00:01+00:00</td>\n",
       "      <td>youtube#video</td>\n",
       "      <td>709</td>\n",
       "      <td>101745632.0</td>\n",
       "      <td>3110824.0</td>\n",
       "      <td>162796.0</td>\n",
       "      <td>https://i.ytimg.com/vi/ayXxwJJId_c/default.jpg</td>\n",
       "      <td>...</td>\n",
       "      <td>480.0</td>\n",
       "      <td>360.0</td>\n",
       "      <td>PT11M49S</td>\n",
       "      <td>2d</td>\n",
       "      <td>['https://en.wikipedia.org/wiki/Lifestyle_(soc...</td>\n",
       "      <td>NaN</td>\n",
       "      <td>NaN</td>\n",
       "      <td>NaN</td>\n",
       "      <td>NaN</td>\n",
       "      <td>NaN</td>\n",
       "    </tr>\n",
       "    <tr>\n",
       "      <th>4</th>\n",
       "      <td>cExLQ1o2pDw</td>\n",
       "      <td>First To Rob Bank Wins $100,000</td>\n",
       "      <td>I didnt think he would actually rob the bank.....</td>\n",
       "      <td>2021-09-26 20:00:06+00:00</td>\n",
       "      <td>youtube#video</td>\n",
       "      <td>482</td>\n",
       "      <td>50008942.0</td>\n",
       "      <td>2359606.0</td>\n",
       "      <td>120621.0</td>\n",
       "      <td>https://i.ytimg.com/vi/cExLQ1o2pDw/default.jpg</td>\n",
       "      <td>...</td>\n",
       "      <td>480.0</td>\n",
       "      <td>360.0</td>\n",
       "      <td>PT8M2S</td>\n",
       "      <td>2d</td>\n",
       "      <td>['https://en.wikipedia.org/wiki/Lifestyle_(soc...</td>\n",
       "      <td>NaN</td>\n",
       "      <td>NaN</td>\n",
       "      <td>NaN</td>\n",
       "      <td>NaN</td>\n",
       "      <td>NaN</td>\n",
       "    </tr>\n",
       "  </tbody>\n",
       "</table>\n",
       "<p>5 rows × 26 columns</p>\n",
       "</div>"
      ],
      "text/plain": [
       "            id                                              title  \\\n",
       "0  TQHEJj68Jew               I Got Hunted By A Real Bounty Hunter   \n",
       "1  00NgUctWoLQ                   Extreme $1,000,000 Hide And Seek   \n",
       "2          NaN                                            MrBeast   \n",
       "3  ayXxwJJId_c  I Bought The World&#39;s Largest Mystery Box! ...   \n",
       "4  cExLQ1o2pDw                    First To Rob Bank Wins $100,000   \n",
       "\n",
       "                                         description  \\\n",
       "0  Sign up for Current w/ my Creator Code \"BEAST\"...   \n",
       "1  I didn't expect that to happen at the end I wa...   \n",
       "2  Accomplishments - Raised $20000000 To Plant 20...   \n",
       "3  I cant believe I spent over $500000 on mystery...   \n",
       "4  I didnt think he would actually rob the bank.....   \n",
       "\n",
       "                 publishTime     kind_stats  duration_seconds    viewCount  \\\n",
       "0  2021-04-24 20:00:00+00:00  youtube#video               861   84717282.0   \n",
       "1  2021-12-18 21:00:00+00:00  youtube#video               729   32090178.0   \n",
       "2  2012-02-20 00:43:50+00:00            NaN                 0          NaN   \n",
       "3  2021-04-03 20:00:01+00:00  youtube#video               709  101745632.0   \n",
       "4  2021-09-26 20:00:06+00:00  youtube#video               482   50008942.0   \n",
       "\n",
       "   likeCount  commentCount                             thumbnails.default.url  \\\n",
       "0  2876493.0      128922.0     https://i.ytimg.com/vi/TQHEJj68Jew/default.jpg   \n",
       "1  2125183.0       73593.0     https://i.ytimg.com/vi/00NgUctWoLQ/default.jpg   \n",
       "2        NaN           NaN  https://yt3.ggpht.com/ytc/AKedOLTctGKJ32CdDLiS...   \n",
       "3  3110824.0      162796.0     https://i.ytimg.com/vi/ayXxwJJId_c/default.jpg   \n",
       "4  2359606.0      120621.0     https://i.ytimg.com/vi/cExLQ1o2pDw/default.jpg   \n",
       "\n",
       "   ...  thumbnails.high.width  thumbnails.high.height contentDetails.duration  \\\n",
       "0  ...                  480.0                   360.0                PT14M21S   \n",
       "1  ...                  480.0                   360.0                 PT12M9S   \n",
       "2  ...                    NaN                     NaN                     NaN   \n",
       "3  ...                  480.0                   360.0                PT11M49S   \n",
       "4  ...                  480.0                   360.0                  PT8M2S   \n",
       "\n",
       "   contentDetails.dimension  \\\n",
       "0                        2d   \n",
       "1                        2d   \n",
       "2                       NaN   \n",
       "3                        2d   \n",
       "4                        2d   \n",
       "\n",
       "                        topicDetails.topicCategories snippet.defaultLanguage  \\\n",
       "0  ['https://en.wikipedia.org/wiki/Lifestyle_(soc...                     NaN   \n",
       "1  ['https://en.wikipedia.org/wiki/Lifestyle_(soc...                      en   \n",
       "2                                                NaN                     NaN   \n",
       "3  ['https://en.wikipedia.org/wiki/Lifestyle_(soc...                     NaN   \n",
       "4  ['https://en.wikipedia.org/wiki/Lifestyle_(soc...                     NaN   \n",
       "\n",
       "             localizations.en.title  \\\n",
       "0                               NaN   \n",
       "1  Extreme $1,000,000 Hide And Seek   \n",
       "2                               NaN   \n",
       "3                               NaN   \n",
       "4                               NaN   \n",
       "\n",
       "                        localizations.en.description snippet.tags  \\\n",
       "0                                                NaN          NaN   \n",
       "1  I didn't expect that to happen at the end I wa...          NaN   \n",
       "2                                                NaN          NaN   \n",
       "3                                                NaN          NaN   \n",
       "4                                                NaN          NaN   \n",
       "\n",
       "  contentDetails.contentRating.ytRating  \n",
       "0                                   NaN  \n",
       "1                                   NaN  \n",
       "2                                   NaN  \n",
       "3                                   NaN  \n",
       "4                                   NaN  \n",
       "\n",
       "[5 rows x 26 columns]"
      ]
     },
     "execution_count": 9,
     "metadata": {},
     "output_type": "execute_result"
    }
   ],
   "source": [
    "df.head()"
   ]
  },
  {
   "cell_type": "code",
   "execution_count": 10,
   "id": "b211d9b6",
   "metadata": {
    "execution": {
     "iopub.execute_input": "2023-02-22T16:06:45.645263Z",
     "iopub.status.busy": "2023-02-22T16:06:45.644777Z",
     "iopub.status.idle": "2023-02-22T16:06:45.664218Z",
     "shell.execute_reply": "2023-02-22T16:06:45.663568Z"
    },
    "papermill": {
     "duration": 0.031633,
     "end_time": "2023-02-22T16:06:45.665676",
     "exception": false,
     "start_time": "2023-02-22T16:06:45.634043",
     "status": "completed"
    },
    "tags": []
   },
   "outputs": [
    {
     "data": {
      "text/html": [
       "<div>\n",
       "<style scoped>\n",
       "    .dataframe tbody tr th:only-of-type {\n",
       "        vertical-align: middle;\n",
       "    }\n",
       "\n",
       "    .dataframe tbody tr th {\n",
       "        vertical-align: top;\n",
       "    }\n",
       "\n",
       "    .dataframe thead th {\n",
       "        text-align: right;\n",
       "    }\n",
       "</style>\n",
       "<table border=\"1\" class=\"dataframe\">\n",
       "  <thead>\n",
       "    <tr style=\"text-align: right;\">\n",
       "      <th></th>\n",
       "      <th>id</th>\n",
       "      <th>title</th>\n",
       "      <th>description</th>\n",
       "      <th>publishTime</th>\n",
       "      <th>kind_stats</th>\n",
       "      <th>duration_seconds</th>\n",
       "      <th>viewCount</th>\n",
       "      <th>likeCount</th>\n",
       "      <th>commentCount</th>\n",
       "      <th>thumbnails.default.url</th>\n",
       "      <th>...</th>\n",
       "      <th>thumbnails.high.width</th>\n",
       "      <th>thumbnails.high.height</th>\n",
       "      <th>contentDetails.duration</th>\n",
       "      <th>contentDetails.dimension</th>\n",
       "      <th>topicDetails.topicCategories</th>\n",
       "      <th>snippet.defaultLanguage</th>\n",
       "      <th>localizations.en.title</th>\n",
       "      <th>localizations.en.description</th>\n",
       "      <th>snippet.tags</th>\n",
       "      <th>contentDetails.contentRating.ytRating</th>\n",
       "    </tr>\n",
       "  </thead>\n",
       "  <tbody>\n",
       "    <tr>\n",
       "      <th>242</th>\n",
       "      <td>yeHjsYQ076A</td>\n",
       "      <td>Remember When COD Was Fun?</td>\n",
       "      <td>Yup, another very pointless video ▻ Subscribe?...</td>\n",
       "      <td>2015-04-26 21:26:36+00:00</td>\n",
       "      <td>youtube#video</td>\n",
       "      <td>216</td>\n",
       "      <td>16312.0</td>\n",
       "      <td>574.0</td>\n",
       "      <td>145.0</td>\n",
       "      <td>https://i.ytimg.com/vi/yeHjsYQ076A/default.jpg</td>\n",
       "      <td>...</td>\n",
       "      <td>480.0</td>\n",
       "      <td>360.0</td>\n",
       "      <td>PT3M36S</td>\n",
       "      <td>2d</td>\n",
       "      <td>['https://en.wikipedia.org/wiki/Action-adventu...</td>\n",
       "      <td>NaN</td>\n",
       "      <td>NaN</td>\n",
       "      <td>NaN</td>\n",
       "      <td>['How', 'much', 'money', 'does', 'make', 'blac...</td>\n",
       "      <td>NaN</td>\n",
       "    </tr>\n",
       "    <tr>\n",
       "      <th>243</th>\n",
       "      <td>X7doE4h6W64</td>\n",
       "      <td>Insane Gun Sync - 7 Hours To Make</td>\n",
       "      <td>Look at this - http://gyazo.com/8852509d2350db...</td>\n",
       "      <td>2015-06-21 12:22:34+00:00</td>\n",
       "      <td>youtube#video</td>\n",
       "      <td>134</td>\n",
       "      <td>15740.0</td>\n",
       "      <td>637.0</td>\n",
       "      <td>105.0</td>\n",
       "      <td>https://i.ytimg.com/vi/X7doE4h6W64/default.jpg</td>\n",
       "      <td>...</td>\n",
       "      <td>480.0</td>\n",
       "      <td>360.0</td>\n",
       "      <td>PT2M14S</td>\n",
       "      <td>2d</td>\n",
       "      <td>['https://en.wikipedia.org/wiki/Action-adventu...</td>\n",
       "      <td>NaN</td>\n",
       "      <td>NaN</td>\n",
       "      <td>NaN</td>\n",
       "      <td>['How', 'much', 'money', 'does', 'make', 'blac...</td>\n",
       "      <td>NaN</td>\n",
       "    </tr>\n",
       "    <tr>\n",
       "      <th>244</th>\n",
       "      <td>AIytwdufwW8</td>\n",
       "      <td>MY MESSAGE TO COD YOUTUBERS (Watch till end plz)</td>\n",
       "      <td>The beginning of the video is a little off top...</td>\n",
       "      <td>2015-05-29 20:07:48+00:00</td>\n",
       "      <td>youtube#video</td>\n",
       "      <td>292</td>\n",
       "      <td>18502.0</td>\n",
       "      <td>508.0</td>\n",
       "      <td>117.0</td>\n",
       "      <td>https://i.ytimg.com/vi/AIytwdufwW8/default.jpg</td>\n",
       "      <td>...</td>\n",
       "      <td>480.0</td>\n",
       "      <td>360.0</td>\n",
       "      <td>PT4M52S</td>\n",
       "      <td>2d</td>\n",
       "      <td>['https://en.wikipedia.org/wiki/Action-adventu...</td>\n",
       "      <td>NaN</td>\n",
       "      <td>NaN</td>\n",
       "      <td>NaN</td>\n",
       "      <td>['How', 'much', 'money', 'does', 'make', 'blac...</td>\n",
       "      <td>NaN</td>\n",
       "    </tr>\n",
       "    <tr>\n",
       "      <th>245</th>\n",
       "      <td>56OkH6ocYZU</td>\n",
       "      <td>L0114R - Biblical Creeper Post for Post @L0114R</td>\n",
       "      <td>His channel - https://www.youtube.com/user/the...</td>\n",
       "      <td>2015-05-15 16:48:54+00:00</td>\n",
       "      <td>youtube#video</td>\n",
       "      <td>109</td>\n",
       "      <td>16627.0</td>\n",
       "      <td>430.0</td>\n",
       "      <td>134.0</td>\n",
       "      <td>https://i.ytimg.com/vi/56OkH6ocYZU/default.jpg</td>\n",
       "      <td>...</td>\n",
       "      <td>480.0</td>\n",
       "      <td>360.0</td>\n",
       "      <td>PT1M49S</td>\n",
       "      <td>2d</td>\n",
       "      <td>['https://en.wikipedia.org/wiki/Action-adventu...</td>\n",
       "      <td>NaN</td>\n",
       "      <td>NaN</td>\n",
       "      <td>NaN</td>\n",
       "      <td>['How', 'much', 'money', 'does', 'make', 'blac...</td>\n",
       "      <td>NaN</td>\n",
       "    </tr>\n",
       "    <tr>\n",
       "      <th>246</th>\n",
       "      <td>zi7tZ-2PhLk</td>\n",
       "      <td>How Much Money Do You Make As An Uber Driver??...</td>\n",
       "      <td>In this video I talk about being an uber drive...</td>\n",
       "      <td>2015-05-31 18:31:25+00:00</td>\n",
       "      <td>youtube#video</td>\n",
       "      <td>304</td>\n",
       "      <td>18773.0</td>\n",
       "      <td>370.0</td>\n",
       "      <td>59.0</td>\n",
       "      <td>https://i.ytimg.com/vi/zi7tZ-2PhLk/default.jpg</td>\n",
       "      <td>...</td>\n",
       "      <td>480.0</td>\n",
       "      <td>360.0</td>\n",
       "      <td>PT5M4S</td>\n",
       "      <td>2d</td>\n",
       "      <td>['https://en.wikipedia.org/wiki/Action-adventu...</td>\n",
       "      <td>NaN</td>\n",
       "      <td>NaN</td>\n",
       "      <td>NaN</td>\n",
       "      <td>['How', 'much', 'money', 'does', 'make', 'blac...</td>\n",
       "      <td>NaN</td>\n",
       "    </tr>\n",
       "  </tbody>\n",
       "</table>\n",
       "<p>5 rows × 26 columns</p>\n",
       "</div>"
      ],
      "text/plain": [
       "              id                                              title  \\\n",
       "242  yeHjsYQ076A                         Remember When COD Was Fun?   \n",
       "243  X7doE4h6W64                  Insane Gun Sync - 7 Hours To Make   \n",
       "244  AIytwdufwW8   MY MESSAGE TO COD YOUTUBERS (Watch till end plz)   \n",
       "245  56OkH6ocYZU    L0114R - Biblical Creeper Post for Post @L0114R   \n",
       "246  zi7tZ-2PhLk  How Much Money Do You Make As An Uber Driver??...   \n",
       "\n",
       "                                           description  \\\n",
       "242  Yup, another very pointless video ▻ Subscribe?...   \n",
       "243  Look at this - http://gyazo.com/8852509d2350db...   \n",
       "244  The beginning of the video is a little off top...   \n",
       "245  His channel - https://www.youtube.com/user/the...   \n",
       "246  In this video I talk about being an uber drive...   \n",
       "\n",
       "                   publishTime     kind_stats  duration_seconds  viewCount  \\\n",
       "242  2015-04-26 21:26:36+00:00  youtube#video               216    16312.0   \n",
       "243  2015-06-21 12:22:34+00:00  youtube#video               134    15740.0   \n",
       "244  2015-05-29 20:07:48+00:00  youtube#video               292    18502.0   \n",
       "245  2015-05-15 16:48:54+00:00  youtube#video               109    16627.0   \n",
       "246  2015-05-31 18:31:25+00:00  youtube#video               304    18773.0   \n",
       "\n",
       "     likeCount  commentCount                          thumbnails.default.url  \\\n",
       "242      574.0         145.0  https://i.ytimg.com/vi/yeHjsYQ076A/default.jpg   \n",
       "243      637.0         105.0  https://i.ytimg.com/vi/X7doE4h6W64/default.jpg   \n",
       "244      508.0         117.0  https://i.ytimg.com/vi/AIytwdufwW8/default.jpg   \n",
       "245      430.0         134.0  https://i.ytimg.com/vi/56OkH6ocYZU/default.jpg   \n",
       "246      370.0          59.0  https://i.ytimg.com/vi/zi7tZ-2PhLk/default.jpg   \n",
       "\n",
       "     ...  thumbnails.high.width  thumbnails.high.height  \\\n",
       "242  ...                  480.0                   360.0   \n",
       "243  ...                  480.0                   360.0   \n",
       "244  ...                  480.0                   360.0   \n",
       "245  ...                  480.0                   360.0   \n",
       "246  ...                  480.0                   360.0   \n",
       "\n",
       "    contentDetails.duration  contentDetails.dimension  \\\n",
       "242                 PT3M36S                        2d   \n",
       "243                 PT2M14S                        2d   \n",
       "244                 PT4M52S                        2d   \n",
       "245                 PT1M49S                        2d   \n",
       "246                  PT5M4S                        2d   \n",
       "\n",
       "                          topicDetails.topicCategories  \\\n",
       "242  ['https://en.wikipedia.org/wiki/Action-adventu...   \n",
       "243  ['https://en.wikipedia.org/wiki/Action-adventu...   \n",
       "244  ['https://en.wikipedia.org/wiki/Action-adventu...   \n",
       "245  ['https://en.wikipedia.org/wiki/Action-adventu...   \n",
       "246  ['https://en.wikipedia.org/wiki/Action-adventu...   \n",
       "\n",
       "    snippet.defaultLanguage  localizations.en.title  \\\n",
       "242                     NaN                     NaN   \n",
       "243                     NaN                     NaN   \n",
       "244                     NaN                     NaN   \n",
       "245                     NaN                     NaN   \n",
       "246                     NaN                     NaN   \n",
       "\n",
       "     localizations.en.description  \\\n",
       "242                           NaN   \n",
       "243                           NaN   \n",
       "244                           NaN   \n",
       "245                           NaN   \n",
       "246                           NaN   \n",
       "\n",
       "                                          snippet.tags  \\\n",
       "242  ['How', 'much', 'money', 'does', 'make', 'blac...   \n",
       "243  ['How', 'much', 'money', 'does', 'make', 'blac...   \n",
       "244  ['How', 'much', 'money', 'does', 'make', 'blac...   \n",
       "245  ['How', 'much', 'money', 'does', 'make', 'blac...   \n",
       "246  ['How', 'much', 'money', 'does', 'make', 'blac...   \n",
       "\n",
       "    contentDetails.contentRating.ytRating  \n",
       "242                                   NaN  \n",
       "243                                   NaN  \n",
       "244                                   NaN  \n",
       "245                                   NaN  \n",
       "246                                   NaN  \n",
       "\n",
       "[5 rows x 26 columns]"
      ]
     },
     "execution_count": 10,
     "metadata": {},
     "output_type": "execute_result"
    }
   ],
   "source": [
    "df.tail()"
   ]
  },
  {
   "cell_type": "code",
   "execution_count": 11,
   "id": "7786127f",
   "metadata": {
    "execution": {
     "iopub.execute_input": "2023-02-22T16:06:45.688012Z",
     "iopub.status.busy": "2023-02-22T16:06:45.687521Z",
     "iopub.status.idle": "2023-02-22T16:06:45.693302Z",
     "shell.execute_reply": "2023-02-22T16:06:45.692789Z"
    },
    "papermill": {
     "duration": 0.018783,
     "end_time": "2023-02-22T16:06:45.694788",
     "exception": false,
     "start_time": "2023-02-22T16:06:45.676005",
     "status": "completed"
    },
    "tags": []
   },
   "outputs": [
    {
     "data": {
      "text/plain": [
       "id                                        object\n",
       "title                                     object\n",
       "description                               object\n",
       "publishTime                               object\n",
       "kind_stats                                object\n",
       "duration_seconds                           int64\n",
       "viewCount                                float64\n",
       "likeCount                                float64\n",
       "commentCount                             float64\n",
       "thumbnails.default.url                    object\n",
       "thumbnails.default.width                 float64\n",
       "thumbnails.default.height                float64\n",
       "thumbnails.medium.url                     object\n",
       "thumbnails.medium.width                  float64\n",
       "thumbnails.medium.height                 float64\n",
       "thumbnails.high.url                       object\n",
       "thumbnails.high.width                    float64\n",
       "thumbnails.high.height                   float64\n",
       "contentDetails.duration                   object\n",
       "contentDetails.dimension                  object\n",
       "topicDetails.topicCategories              object\n",
       "snippet.defaultLanguage                   object\n",
       "localizations.en.title                    object\n",
       "localizations.en.description              object\n",
       "snippet.tags                              object\n",
       "contentDetails.contentRating.ytRating     object\n",
       "dtype: object"
      ]
     },
     "execution_count": 11,
     "metadata": {},
     "output_type": "execute_result"
    }
   ],
   "source": [
    "df.dtypes"
   ]
  },
  {
   "cell_type": "code",
   "execution_count": 12,
   "id": "c49849f1",
   "metadata": {
    "execution": {
     "iopub.execute_input": "2023-02-22T16:06:45.718716Z",
     "iopub.status.busy": "2023-02-22T16:06:45.717323Z",
     "iopub.status.idle": "2023-02-22T16:06:45.758203Z",
     "shell.execute_reply": "2023-02-22T16:06:45.757072Z"
    },
    "papermill": {
     "duration": 0.055167,
     "end_time": "2023-02-22T16:06:45.760234",
     "exception": false,
     "start_time": "2023-02-22T16:06:45.705067",
     "status": "completed"
    },
    "tags": []
   },
   "outputs": [
    {
     "data": {
      "text/html": [
       "<div>\n",
       "<style scoped>\n",
       "    .dataframe tbody tr th:only-of-type {\n",
       "        vertical-align: middle;\n",
       "    }\n",
       "\n",
       "    .dataframe tbody tr th {\n",
       "        vertical-align: top;\n",
       "    }\n",
       "\n",
       "    .dataframe thead th {\n",
       "        text-align: right;\n",
       "    }\n",
       "</style>\n",
       "<table border=\"1\" class=\"dataframe\">\n",
       "  <thead>\n",
       "    <tr style=\"text-align: right;\">\n",
       "      <th></th>\n",
       "      <th>duration_seconds</th>\n",
       "      <th>viewCount</th>\n",
       "      <th>likeCount</th>\n",
       "      <th>commentCount</th>\n",
       "      <th>thumbnails.default.width</th>\n",
       "      <th>thumbnails.default.height</th>\n",
       "      <th>thumbnails.medium.width</th>\n",
       "      <th>thumbnails.medium.height</th>\n",
       "      <th>thumbnails.high.width</th>\n",
       "      <th>thumbnails.high.height</th>\n",
       "    </tr>\n",
       "  </thead>\n",
       "  <tbody>\n",
       "    <tr>\n",
       "      <th>count</th>\n",
       "      <td>247.000000</td>\n",
       "      <td>2.460000e+02</td>\n",
       "      <td>2.440000e+02</td>\n",
       "      <td>245.000000</td>\n",
       "      <td>246.0</td>\n",
       "      <td>246.0</td>\n",
       "      <td>246.0</td>\n",
       "      <td>246.0</td>\n",
       "      <td>246.0</td>\n",
       "      <td>246.0</td>\n",
       "    </tr>\n",
       "    <tr>\n",
       "      <th>mean</th>\n",
       "      <td>1886.234818</td>\n",
       "      <td>5.084638e+07</td>\n",
       "      <td>1.610498e+06</td>\n",
       "      <td>75562.783673</td>\n",
       "      <td>120.0</td>\n",
       "      <td>90.0</td>\n",
       "      <td>320.0</td>\n",
       "      <td>180.0</td>\n",
       "      <td>480.0</td>\n",
       "      <td>360.0</td>\n",
       "    </tr>\n",
       "    <tr>\n",
       "      <th>std</th>\n",
       "      <td>8642.188728</td>\n",
       "      <td>4.062672e+07</td>\n",
       "      <td>1.879529e+06</td>\n",
       "      <td>85356.537127</td>\n",
       "      <td>0.0</td>\n",
       "      <td>0.0</td>\n",
       "      <td>0.0</td>\n",
       "      <td>0.0</td>\n",
       "      <td>0.0</td>\n",
       "      <td>0.0</td>\n",
       "    </tr>\n",
       "    <tr>\n",
       "      <th>min</th>\n",
       "      <td>0.000000</td>\n",
       "      <td>1.395400e+04</td>\n",
       "      <td>3.700000e+02</td>\n",
       "      <td>59.000000</td>\n",
       "      <td>120.0</td>\n",
       "      <td>90.0</td>\n",
       "      <td>320.0</td>\n",
       "      <td>180.0</td>\n",
       "      <td>480.0</td>\n",
       "      <td>360.0</td>\n",
       "    </tr>\n",
       "    <tr>\n",
       "      <th>25%</th>\n",
       "      <td>425.500000</td>\n",
       "      <td>1.406442e+07</td>\n",
       "      <td>4.348780e+05</td>\n",
       "      <td>21552.000000</td>\n",
       "      <td>120.0</td>\n",
       "      <td>90.0</td>\n",
       "      <td>320.0</td>\n",
       "      <td>180.0</td>\n",
       "      <td>480.0</td>\n",
       "      <td>360.0</td>\n",
       "    </tr>\n",
       "    <tr>\n",
       "      <th>50%</th>\n",
       "      <td>776.000000</td>\n",
       "      <td>4.904782e+07</td>\n",
       "      <td>1.358232e+06</td>\n",
       "      <td>60701.000000</td>\n",
       "      <td>120.0</td>\n",
       "      <td>90.0</td>\n",
       "      <td>320.0</td>\n",
       "      <td>180.0</td>\n",
       "      <td>480.0</td>\n",
       "      <td>360.0</td>\n",
       "    </tr>\n",
       "    <tr>\n",
       "      <th>75%</th>\n",
       "      <td>923.000000</td>\n",
       "      <td>8.125392e+07</td>\n",
       "      <td>2.294378e+06</td>\n",
       "      <td>99670.000000</td>\n",
       "      <td>120.0</td>\n",
       "      <td>90.0</td>\n",
       "      <td>320.0</td>\n",
       "      <td>180.0</td>\n",
       "      <td>480.0</td>\n",
       "      <td>360.0</td>\n",
       "    </tr>\n",
       "    <tr>\n",
       "      <th>max</th>\n",
       "      <td>85686.000000</td>\n",
       "      <td>1.787632e+08</td>\n",
       "      <td>1.904943e+07</td>\n",
       "      <td>726861.000000</td>\n",
       "      <td>120.0</td>\n",
       "      <td>90.0</td>\n",
       "      <td>320.0</td>\n",
       "      <td>180.0</td>\n",
       "      <td>480.0</td>\n",
       "      <td>360.0</td>\n",
       "    </tr>\n",
       "  </tbody>\n",
       "</table>\n",
       "</div>"
      ],
      "text/plain": [
       "       duration_seconds     viewCount     likeCount   commentCount  \\\n",
       "count        247.000000  2.460000e+02  2.440000e+02     245.000000   \n",
       "mean        1886.234818  5.084638e+07  1.610498e+06   75562.783673   \n",
       "std         8642.188728  4.062672e+07  1.879529e+06   85356.537127   \n",
       "min            0.000000  1.395400e+04  3.700000e+02      59.000000   \n",
       "25%          425.500000  1.406442e+07  4.348780e+05   21552.000000   \n",
       "50%          776.000000  4.904782e+07  1.358232e+06   60701.000000   \n",
       "75%          923.000000  8.125392e+07  2.294378e+06   99670.000000   \n",
       "max        85686.000000  1.787632e+08  1.904943e+07  726861.000000   \n",
       "\n",
       "       thumbnails.default.width  thumbnails.default.height  \\\n",
       "count                     246.0                      246.0   \n",
       "mean                      120.0                       90.0   \n",
       "std                         0.0                        0.0   \n",
       "min                       120.0                       90.0   \n",
       "25%                       120.0                       90.0   \n",
       "50%                       120.0                       90.0   \n",
       "75%                       120.0                       90.0   \n",
       "max                       120.0                       90.0   \n",
       "\n",
       "       thumbnails.medium.width  thumbnails.medium.height  \\\n",
       "count                    246.0                     246.0   \n",
       "mean                     320.0                     180.0   \n",
       "std                        0.0                       0.0   \n",
       "min                      320.0                     180.0   \n",
       "25%                      320.0                     180.0   \n",
       "50%                      320.0                     180.0   \n",
       "75%                      320.0                     180.0   \n",
       "max                      320.0                     180.0   \n",
       "\n",
       "       thumbnails.high.width  thumbnails.high.height  \n",
       "count                  246.0                   246.0  \n",
       "mean                   480.0                   360.0  \n",
       "std                      0.0                     0.0  \n",
       "min                    480.0                   360.0  \n",
       "25%                    480.0                   360.0  \n",
       "50%                    480.0                   360.0  \n",
       "75%                    480.0                   360.0  \n",
       "max                    480.0                   360.0  "
      ]
     },
     "execution_count": 12,
     "metadata": {},
     "output_type": "execute_result"
    }
   ],
   "source": [
    "df.describe()\n",
    "#only work for numeric columns"
   ]
  },
  {
   "cell_type": "markdown",
   "id": "f761c268",
   "metadata": {
    "papermill": {
     "duration": 0.011018,
     "end_time": "2023-02-22T16:06:45.782371",
     "exception": false,
     "start_time": "2023-02-22T16:06:45.771353",
     "status": "completed"
    },
    "tags": []
   },
   "source": [
    "# Columns and Rows"
   ]
  },
  {
   "cell_type": "code",
   "execution_count": 13,
   "id": "62aed89f",
   "metadata": {
    "execution": {
     "iopub.execute_input": "2023-02-22T16:06:45.805382Z",
     "iopub.status.busy": "2023-02-22T16:06:45.804835Z",
     "iopub.status.idle": "2023-02-22T16:06:45.811761Z",
     "shell.execute_reply": "2023-02-22T16:06:45.811139Z"
    },
    "papermill": {
     "duration": 0.020371,
     "end_time": "2023-02-22T16:06:45.813349",
     "exception": false,
     "start_time": "2023-02-22T16:06:45.792978",
     "status": "completed"
    },
    "tags": []
   },
   "outputs": [
    {
     "data": {
      "text/plain": [
       "0       84717282.0\n",
       "1       32090178.0\n",
       "2              NaN\n",
       "3      101745632.0\n",
       "4       50008942.0\n",
       "          ...     \n",
       "242        16312.0\n",
       "243        15740.0\n",
       "244        18502.0\n",
       "245        16627.0\n",
       "246        18773.0\n",
       "Name: viewCount, Length: 247, dtype: float64"
      ]
     },
     "execution_count": 13,
     "metadata": {},
     "output_type": "execute_result"
    }
   ],
   "source": [
    "df['viewCount']"
   ]
  },
  {
   "cell_type": "code",
   "execution_count": 14,
   "id": "95be0598",
   "metadata": {
    "execution": {
     "iopub.execute_input": "2023-02-22T16:06:45.836472Z",
     "iopub.status.busy": "2023-02-22T16:06:45.835937Z",
     "iopub.status.idle": "2023-02-22T16:06:45.842596Z",
     "shell.execute_reply": "2023-02-22T16:06:45.841918Z"
    },
    "papermill": {
     "duration": 0.020086,
     "end_time": "2023-02-22T16:06:45.844229",
     "exception": false,
     "start_time": "2023-02-22T16:06:45.824143",
     "status": "completed"
    },
    "tags": []
   },
   "outputs": [
    {
     "data": {
      "text/plain": [
       "id                                                                             cExLQ1o2pDw\n",
       "title                                                      First To Rob Bank Wins $100,000\n",
       "description                              I didnt think he would actually rob the bank.....\n",
       "publishTime                                                      2021-09-26 20:00:06+00:00\n",
       "kind_stats                                                                   youtube#video\n",
       "duration_seconds                                                                       482\n",
       "viewCount                                                                       50008942.0\n",
       "likeCount                                                                        2359606.0\n",
       "commentCount                                                                      120621.0\n",
       "thumbnails.default.url                      https://i.ytimg.com/vi/cExLQ1o2pDw/default.jpg\n",
       "thumbnails.default.width                                                             120.0\n",
       "thumbnails.default.height                                                             90.0\n",
       "thumbnails.medium.url                     https://i.ytimg.com/vi/cExLQ1o2pDw/mqdefault.jpg\n",
       "thumbnails.medium.width                                                              320.0\n",
       "thumbnails.medium.height                                                             180.0\n",
       "thumbnails.high.url                       https://i.ytimg.com/vi/cExLQ1o2pDw/hqdefault.jpg\n",
       "thumbnails.high.width                                                                480.0\n",
       "thumbnails.high.height                                                               360.0\n",
       "contentDetails.duration                                                             PT8M2S\n",
       "contentDetails.dimension                                                                2d\n",
       "topicDetails.topicCategories             ['https://en.wikipedia.org/wiki/Lifestyle_(soc...\n",
       "snippet.defaultLanguage                                                                NaN\n",
       "localizations.en.title                                                                 NaN\n",
       "localizations.en.description                                                           NaN\n",
       "snippet.tags                                                                           NaN\n",
       "contentDetails.contentRating.ytRating                                                  NaN\n",
       "Name: 4, dtype: object"
      ]
     },
     "execution_count": 14,
     "metadata": {},
     "output_type": "execute_result"
    }
   ],
   "source": [
    "df.loc[4]\n",
    "#to see index number 4\n",
    "#in pandas the index can be anything"
   ]
  },
  {
   "cell_type": "code",
   "execution_count": 15,
   "id": "ec193071",
   "metadata": {
    "execution": {
     "iopub.execute_input": "2023-02-22T16:06:45.868106Z",
     "iopub.status.busy": "2023-02-22T16:06:45.867815Z",
     "iopub.status.idle": "2023-02-22T16:06:45.895695Z",
     "shell.execute_reply": "2023-02-22T16:06:45.894910Z"
    },
    "papermill": {
     "duration": 0.042373,
     "end_time": "2023-02-22T16:06:45.897783",
     "exception": false,
     "start_time": "2023-02-22T16:06:45.855410",
     "status": "completed"
    },
    "tags": []
   },
   "outputs": [
    {
     "data": {
      "text/html": [
       "<div>\n",
       "<style scoped>\n",
       "    .dataframe tbody tr th:only-of-type {\n",
       "        vertical-align: middle;\n",
       "    }\n",
       "\n",
       "    .dataframe tbody tr th {\n",
       "        vertical-align: top;\n",
       "    }\n",
       "\n",
       "    .dataframe thead th {\n",
       "        text-align: right;\n",
       "    }\n",
       "</style>\n",
       "<table border=\"1\" class=\"dataframe\">\n",
       "  <thead>\n",
       "    <tr style=\"text-align: right;\">\n",
       "      <th></th>\n",
       "      <th>title</th>\n",
       "      <th>description</th>\n",
       "      <th>publishTime</th>\n",
       "      <th>kind_stats</th>\n",
       "      <th>duration_seconds</th>\n",
       "      <th>viewCount</th>\n",
       "      <th>likeCount</th>\n",
       "      <th>commentCount</th>\n",
       "      <th>thumbnails.default.url</th>\n",
       "      <th>thumbnails.default.width</th>\n",
       "      <th>...</th>\n",
       "      <th>thumbnails.high.width</th>\n",
       "      <th>thumbnails.high.height</th>\n",
       "      <th>contentDetails.duration</th>\n",
       "      <th>contentDetails.dimension</th>\n",
       "      <th>topicDetails.topicCategories</th>\n",
       "      <th>snippet.defaultLanguage</th>\n",
       "      <th>localizations.en.title</th>\n",
       "      <th>localizations.en.description</th>\n",
       "      <th>snippet.tags</th>\n",
       "      <th>contentDetails.contentRating.ytRating</th>\n",
       "    </tr>\n",
       "    <tr>\n",
       "      <th>id</th>\n",
       "      <th></th>\n",
       "      <th></th>\n",
       "      <th></th>\n",
       "      <th></th>\n",
       "      <th></th>\n",
       "      <th></th>\n",
       "      <th></th>\n",
       "      <th></th>\n",
       "      <th></th>\n",
       "      <th></th>\n",
       "      <th></th>\n",
       "      <th></th>\n",
       "      <th></th>\n",
       "      <th></th>\n",
       "      <th></th>\n",
       "      <th></th>\n",
       "      <th></th>\n",
       "      <th></th>\n",
       "      <th></th>\n",
       "      <th></th>\n",
       "      <th></th>\n",
       "    </tr>\n",
       "  </thead>\n",
       "  <tbody>\n",
       "    <tr>\n",
       "      <th>TQHEJj68Jew</th>\n",
       "      <td>I Got Hunted By A Real Bounty Hunter</td>\n",
       "      <td>Sign up for Current w/ my Creator Code \"BEAST\"...</td>\n",
       "      <td>2021-04-24 20:00:00+00:00</td>\n",
       "      <td>youtube#video</td>\n",
       "      <td>861</td>\n",
       "      <td>84717282.0</td>\n",
       "      <td>2876493.0</td>\n",
       "      <td>128922.0</td>\n",
       "      <td>https://i.ytimg.com/vi/TQHEJj68Jew/default.jpg</td>\n",
       "      <td>120.0</td>\n",
       "      <td>...</td>\n",
       "      <td>480.0</td>\n",
       "      <td>360.0</td>\n",
       "      <td>PT14M21S</td>\n",
       "      <td>2d</td>\n",
       "      <td>['https://en.wikipedia.org/wiki/Lifestyle_(soc...</td>\n",
       "      <td>NaN</td>\n",
       "      <td>NaN</td>\n",
       "      <td>NaN</td>\n",
       "      <td>NaN</td>\n",
       "      <td>NaN</td>\n",
       "    </tr>\n",
       "    <tr>\n",
       "      <th>00NgUctWoLQ</th>\n",
       "      <td>Extreme $1,000,000 Hide And Seek</td>\n",
       "      <td>I didn't expect that to happen at the end I wa...</td>\n",
       "      <td>2021-12-18 21:00:00+00:00</td>\n",
       "      <td>youtube#video</td>\n",
       "      <td>729</td>\n",
       "      <td>32090178.0</td>\n",
       "      <td>2125183.0</td>\n",
       "      <td>73593.0</td>\n",
       "      <td>https://i.ytimg.com/vi/00NgUctWoLQ/default.jpg</td>\n",
       "      <td>120.0</td>\n",
       "      <td>...</td>\n",
       "      <td>480.0</td>\n",
       "      <td>360.0</td>\n",
       "      <td>PT12M9S</td>\n",
       "      <td>2d</td>\n",
       "      <td>['https://en.wikipedia.org/wiki/Lifestyle_(soc...</td>\n",
       "      <td>en</td>\n",
       "      <td>Extreme $1,000,000 Hide And Seek</td>\n",
       "      <td>I didn't expect that to happen at the end I wa...</td>\n",
       "      <td>NaN</td>\n",
       "      <td>NaN</td>\n",
       "    </tr>\n",
       "    <tr>\n",
       "      <th>NaN</th>\n",
       "      <td>MrBeast</td>\n",
       "      <td>Accomplishments - Raised $20000000 To Plant 20...</td>\n",
       "      <td>2012-02-20 00:43:50+00:00</td>\n",
       "      <td>NaN</td>\n",
       "      <td>0</td>\n",
       "      <td>NaN</td>\n",
       "      <td>NaN</td>\n",
       "      <td>NaN</td>\n",
       "      <td>https://yt3.ggpht.com/ytc/AKedOLTctGKJ32CdDLiS...</td>\n",
       "      <td>NaN</td>\n",
       "      <td>...</td>\n",
       "      <td>NaN</td>\n",
       "      <td>NaN</td>\n",
       "      <td>NaN</td>\n",
       "      <td>NaN</td>\n",
       "      <td>NaN</td>\n",
       "      <td>NaN</td>\n",
       "      <td>NaN</td>\n",
       "      <td>NaN</td>\n",
       "      <td>NaN</td>\n",
       "      <td>NaN</td>\n",
       "    </tr>\n",
       "    <tr>\n",
       "      <th>ayXxwJJId_c</th>\n",
       "      <td>I Bought The World&amp;#39;s Largest Mystery Box! ...</td>\n",
       "      <td>I cant believe I spent over $500000 on mystery...</td>\n",
       "      <td>2021-04-03 20:00:01+00:00</td>\n",
       "      <td>youtube#video</td>\n",
       "      <td>709</td>\n",
       "      <td>101745632.0</td>\n",
       "      <td>3110824.0</td>\n",
       "      <td>162796.0</td>\n",
       "      <td>https://i.ytimg.com/vi/ayXxwJJId_c/default.jpg</td>\n",
       "      <td>120.0</td>\n",
       "      <td>...</td>\n",
       "      <td>480.0</td>\n",
       "      <td>360.0</td>\n",
       "      <td>PT11M49S</td>\n",
       "      <td>2d</td>\n",
       "      <td>['https://en.wikipedia.org/wiki/Lifestyle_(soc...</td>\n",
       "      <td>NaN</td>\n",
       "      <td>NaN</td>\n",
       "      <td>NaN</td>\n",
       "      <td>NaN</td>\n",
       "      <td>NaN</td>\n",
       "    </tr>\n",
       "    <tr>\n",
       "      <th>cExLQ1o2pDw</th>\n",
       "      <td>First To Rob Bank Wins $100,000</td>\n",
       "      <td>I didnt think he would actually rob the bank.....</td>\n",
       "      <td>2021-09-26 20:00:06+00:00</td>\n",
       "      <td>youtube#video</td>\n",
       "      <td>482</td>\n",
       "      <td>50008942.0</td>\n",
       "      <td>2359606.0</td>\n",
       "      <td>120621.0</td>\n",
       "      <td>https://i.ytimg.com/vi/cExLQ1o2pDw/default.jpg</td>\n",
       "      <td>120.0</td>\n",
       "      <td>...</td>\n",
       "      <td>480.0</td>\n",
       "      <td>360.0</td>\n",
       "      <td>PT8M2S</td>\n",
       "      <td>2d</td>\n",
       "      <td>['https://en.wikipedia.org/wiki/Lifestyle_(soc...</td>\n",
       "      <td>NaN</td>\n",
       "      <td>NaN</td>\n",
       "      <td>NaN</td>\n",
       "      <td>NaN</td>\n",
       "      <td>NaN</td>\n",
       "    </tr>\n",
       "    <tr>\n",
       "      <th>...</th>\n",
       "      <td>...</td>\n",
       "      <td>...</td>\n",
       "      <td>...</td>\n",
       "      <td>...</td>\n",
       "      <td>...</td>\n",
       "      <td>...</td>\n",
       "      <td>...</td>\n",
       "      <td>...</td>\n",
       "      <td>...</td>\n",
       "      <td>...</td>\n",
       "      <td>...</td>\n",
       "      <td>...</td>\n",
       "      <td>...</td>\n",
       "      <td>...</td>\n",
       "      <td>...</td>\n",
       "      <td>...</td>\n",
       "      <td>...</td>\n",
       "      <td>...</td>\n",
       "      <td>...</td>\n",
       "      <td>...</td>\n",
       "      <td>...</td>\n",
       "    </tr>\n",
       "    <tr>\n",
       "      <th>yeHjsYQ076A</th>\n",
       "      <td>Remember When COD Was Fun?</td>\n",
       "      <td>Yup, another very pointless video ▻ Subscribe?...</td>\n",
       "      <td>2015-04-26 21:26:36+00:00</td>\n",
       "      <td>youtube#video</td>\n",
       "      <td>216</td>\n",
       "      <td>16312.0</td>\n",
       "      <td>574.0</td>\n",
       "      <td>145.0</td>\n",
       "      <td>https://i.ytimg.com/vi/yeHjsYQ076A/default.jpg</td>\n",
       "      <td>120.0</td>\n",
       "      <td>...</td>\n",
       "      <td>480.0</td>\n",
       "      <td>360.0</td>\n",
       "      <td>PT3M36S</td>\n",
       "      <td>2d</td>\n",
       "      <td>['https://en.wikipedia.org/wiki/Action-adventu...</td>\n",
       "      <td>NaN</td>\n",
       "      <td>NaN</td>\n",
       "      <td>NaN</td>\n",
       "      <td>['How', 'much', 'money', 'does', 'make', 'blac...</td>\n",
       "      <td>NaN</td>\n",
       "    </tr>\n",
       "    <tr>\n",
       "      <th>X7doE4h6W64</th>\n",
       "      <td>Insane Gun Sync - 7 Hours To Make</td>\n",
       "      <td>Look at this - http://gyazo.com/8852509d2350db...</td>\n",
       "      <td>2015-06-21 12:22:34+00:00</td>\n",
       "      <td>youtube#video</td>\n",
       "      <td>134</td>\n",
       "      <td>15740.0</td>\n",
       "      <td>637.0</td>\n",
       "      <td>105.0</td>\n",
       "      <td>https://i.ytimg.com/vi/X7doE4h6W64/default.jpg</td>\n",
       "      <td>120.0</td>\n",
       "      <td>...</td>\n",
       "      <td>480.0</td>\n",
       "      <td>360.0</td>\n",
       "      <td>PT2M14S</td>\n",
       "      <td>2d</td>\n",
       "      <td>['https://en.wikipedia.org/wiki/Action-adventu...</td>\n",
       "      <td>NaN</td>\n",
       "      <td>NaN</td>\n",
       "      <td>NaN</td>\n",
       "      <td>['How', 'much', 'money', 'does', 'make', 'blac...</td>\n",
       "      <td>NaN</td>\n",
       "    </tr>\n",
       "    <tr>\n",
       "      <th>AIytwdufwW8</th>\n",
       "      <td>MY MESSAGE TO COD YOUTUBERS (Watch till end plz)</td>\n",
       "      <td>The beginning of the video is a little off top...</td>\n",
       "      <td>2015-05-29 20:07:48+00:00</td>\n",
       "      <td>youtube#video</td>\n",
       "      <td>292</td>\n",
       "      <td>18502.0</td>\n",
       "      <td>508.0</td>\n",
       "      <td>117.0</td>\n",
       "      <td>https://i.ytimg.com/vi/AIytwdufwW8/default.jpg</td>\n",
       "      <td>120.0</td>\n",
       "      <td>...</td>\n",
       "      <td>480.0</td>\n",
       "      <td>360.0</td>\n",
       "      <td>PT4M52S</td>\n",
       "      <td>2d</td>\n",
       "      <td>['https://en.wikipedia.org/wiki/Action-adventu...</td>\n",
       "      <td>NaN</td>\n",
       "      <td>NaN</td>\n",
       "      <td>NaN</td>\n",
       "      <td>['How', 'much', 'money', 'does', 'make', 'blac...</td>\n",
       "      <td>NaN</td>\n",
       "    </tr>\n",
       "    <tr>\n",
       "      <th>56OkH6ocYZU</th>\n",
       "      <td>L0114R - Biblical Creeper Post for Post @L0114R</td>\n",
       "      <td>His channel - https://www.youtube.com/user/the...</td>\n",
       "      <td>2015-05-15 16:48:54+00:00</td>\n",
       "      <td>youtube#video</td>\n",
       "      <td>109</td>\n",
       "      <td>16627.0</td>\n",
       "      <td>430.0</td>\n",
       "      <td>134.0</td>\n",
       "      <td>https://i.ytimg.com/vi/56OkH6ocYZU/default.jpg</td>\n",
       "      <td>120.0</td>\n",
       "      <td>...</td>\n",
       "      <td>480.0</td>\n",
       "      <td>360.0</td>\n",
       "      <td>PT1M49S</td>\n",
       "      <td>2d</td>\n",
       "      <td>['https://en.wikipedia.org/wiki/Action-adventu...</td>\n",
       "      <td>NaN</td>\n",
       "      <td>NaN</td>\n",
       "      <td>NaN</td>\n",
       "      <td>['How', 'much', 'money', 'does', 'make', 'blac...</td>\n",
       "      <td>NaN</td>\n",
       "    </tr>\n",
       "    <tr>\n",
       "      <th>zi7tZ-2PhLk</th>\n",
       "      <td>How Much Money Do You Make As An Uber Driver??...</td>\n",
       "      <td>In this video I talk about being an uber drive...</td>\n",
       "      <td>2015-05-31 18:31:25+00:00</td>\n",
       "      <td>youtube#video</td>\n",
       "      <td>304</td>\n",
       "      <td>18773.0</td>\n",
       "      <td>370.0</td>\n",
       "      <td>59.0</td>\n",
       "      <td>https://i.ytimg.com/vi/zi7tZ-2PhLk/default.jpg</td>\n",
       "      <td>120.0</td>\n",
       "      <td>...</td>\n",
       "      <td>480.0</td>\n",
       "      <td>360.0</td>\n",
       "      <td>PT5M4S</td>\n",
       "      <td>2d</td>\n",
       "      <td>['https://en.wikipedia.org/wiki/Action-adventu...</td>\n",
       "      <td>NaN</td>\n",
       "      <td>NaN</td>\n",
       "      <td>NaN</td>\n",
       "      <td>['How', 'much', 'money', 'does', 'make', 'blac...</td>\n",
       "      <td>NaN</td>\n",
       "    </tr>\n",
       "  </tbody>\n",
       "</table>\n",
       "<p>247 rows × 25 columns</p>\n",
       "</div>"
      ],
      "text/plain": [
       "                                                         title  \\\n",
       "id                                                               \n",
       "TQHEJj68Jew               I Got Hunted By A Real Bounty Hunter   \n",
       "00NgUctWoLQ                   Extreme $1,000,000 Hide And Seek   \n",
       "NaN                                                    MrBeast   \n",
       "ayXxwJJId_c  I Bought The World&#39;s Largest Mystery Box! ...   \n",
       "cExLQ1o2pDw                    First To Rob Bank Wins $100,000   \n",
       "...                                                        ...   \n",
       "yeHjsYQ076A                         Remember When COD Was Fun?   \n",
       "X7doE4h6W64                  Insane Gun Sync - 7 Hours To Make   \n",
       "AIytwdufwW8   MY MESSAGE TO COD YOUTUBERS (Watch till end plz)   \n",
       "56OkH6ocYZU    L0114R - Biblical Creeper Post for Post @L0114R   \n",
       "zi7tZ-2PhLk  How Much Money Do You Make As An Uber Driver??...   \n",
       "\n",
       "                                                   description  \\\n",
       "id                                                               \n",
       "TQHEJj68Jew  Sign up for Current w/ my Creator Code \"BEAST\"...   \n",
       "00NgUctWoLQ  I didn't expect that to happen at the end I wa...   \n",
       "NaN          Accomplishments - Raised $20000000 To Plant 20...   \n",
       "ayXxwJJId_c  I cant believe I spent over $500000 on mystery...   \n",
       "cExLQ1o2pDw  I didnt think he would actually rob the bank.....   \n",
       "...                                                        ...   \n",
       "yeHjsYQ076A  Yup, another very pointless video ▻ Subscribe?...   \n",
       "X7doE4h6W64  Look at this - http://gyazo.com/8852509d2350db...   \n",
       "AIytwdufwW8  The beginning of the video is a little off top...   \n",
       "56OkH6ocYZU  His channel - https://www.youtube.com/user/the...   \n",
       "zi7tZ-2PhLk  In this video I talk about being an uber drive...   \n",
       "\n",
       "                           publishTime     kind_stats  duration_seconds  \\\n",
       "id                                                                        \n",
       "TQHEJj68Jew  2021-04-24 20:00:00+00:00  youtube#video               861   \n",
       "00NgUctWoLQ  2021-12-18 21:00:00+00:00  youtube#video               729   \n",
       "NaN          2012-02-20 00:43:50+00:00            NaN                 0   \n",
       "ayXxwJJId_c  2021-04-03 20:00:01+00:00  youtube#video               709   \n",
       "cExLQ1o2pDw  2021-09-26 20:00:06+00:00  youtube#video               482   \n",
       "...                                ...            ...               ...   \n",
       "yeHjsYQ076A  2015-04-26 21:26:36+00:00  youtube#video               216   \n",
       "X7doE4h6W64  2015-06-21 12:22:34+00:00  youtube#video               134   \n",
       "AIytwdufwW8  2015-05-29 20:07:48+00:00  youtube#video               292   \n",
       "56OkH6ocYZU  2015-05-15 16:48:54+00:00  youtube#video               109   \n",
       "zi7tZ-2PhLk  2015-05-31 18:31:25+00:00  youtube#video               304   \n",
       "\n",
       "               viewCount  likeCount  commentCount  \\\n",
       "id                                                  \n",
       "TQHEJj68Jew   84717282.0  2876493.0      128922.0   \n",
       "00NgUctWoLQ   32090178.0  2125183.0       73593.0   \n",
       "NaN                  NaN        NaN           NaN   \n",
       "ayXxwJJId_c  101745632.0  3110824.0      162796.0   \n",
       "cExLQ1o2pDw   50008942.0  2359606.0      120621.0   \n",
       "...                  ...        ...           ...   \n",
       "yeHjsYQ076A      16312.0      574.0         145.0   \n",
       "X7doE4h6W64      15740.0      637.0         105.0   \n",
       "AIytwdufwW8      18502.0      508.0         117.0   \n",
       "56OkH6ocYZU      16627.0      430.0         134.0   \n",
       "zi7tZ-2PhLk      18773.0      370.0          59.0   \n",
       "\n",
       "                                        thumbnails.default.url  \\\n",
       "id                                                               \n",
       "TQHEJj68Jew     https://i.ytimg.com/vi/TQHEJj68Jew/default.jpg   \n",
       "00NgUctWoLQ     https://i.ytimg.com/vi/00NgUctWoLQ/default.jpg   \n",
       "NaN          https://yt3.ggpht.com/ytc/AKedOLTctGKJ32CdDLiS...   \n",
       "ayXxwJJId_c     https://i.ytimg.com/vi/ayXxwJJId_c/default.jpg   \n",
       "cExLQ1o2pDw     https://i.ytimg.com/vi/cExLQ1o2pDw/default.jpg   \n",
       "...                                                        ...   \n",
       "yeHjsYQ076A     https://i.ytimg.com/vi/yeHjsYQ076A/default.jpg   \n",
       "X7doE4h6W64     https://i.ytimg.com/vi/X7doE4h6W64/default.jpg   \n",
       "AIytwdufwW8     https://i.ytimg.com/vi/AIytwdufwW8/default.jpg   \n",
       "56OkH6ocYZU     https://i.ytimg.com/vi/56OkH6ocYZU/default.jpg   \n",
       "zi7tZ-2PhLk     https://i.ytimg.com/vi/zi7tZ-2PhLk/default.jpg   \n",
       "\n",
       "             thumbnails.default.width  ...  thumbnails.high.width  \\\n",
       "id                                     ...                          \n",
       "TQHEJj68Jew                     120.0  ...                  480.0   \n",
       "00NgUctWoLQ                     120.0  ...                  480.0   \n",
       "NaN                               NaN  ...                    NaN   \n",
       "ayXxwJJId_c                     120.0  ...                  480.0   \n",
       "cExLQ1o2pDw                     120.0  ...                  480.0   \n",
       "...                               ...  ...                    ...   \n",
       "yeHjsYQ076A                     120.0  ...                  480.0   \n",
       "X7doE4h6W64                     120.0  ...                  480.0   \n",
       "AIytwdufwW8                     120.0  ...                  480.0   \n",
       "56OkH6ocYZU                     120.0  ...                  480.0   \n",
       "zi7tZ-2PhLk                     120.0  ...                  480.0   \n",
       "\n",
       "            thumbnails.high.height  contentDetails.duration  \\\n",
       "id                                                            \n",
       "TQHEJj68Jew                  360.0                 PT14M21S   \n",
       "00NgUctWoLQ                  360.0                  PT12M9S   \n",
       "NaN                            NaN                      NaN   \n",
       "ayXxwJJId_c                  360.0                 PT11M49S   \n",
       "cExLQ1o2pDw                  360.0                   PT8M2S   \n",
       "...                            ...                      ...   \n",
       "yeHjsYQ076A                  360.0                  PT3M36S   \n",
       "X7doE4h6W64                  360.0                  PT2M14S   \n",
       "AIytwdufwW8                  360.0                  PT4M52S   \n",
       "56OkH6ocYZU                  360.0                  PT1M49S   \n",
       "zi7tZ-2PhLk                  360.0                   PT5M4S   \n",
       "\n",
       "             contentDetails.dimension  \\\n",
       "id                                      \n",
       "TQHEJj68Jew                        2d   \n",
       "00NgUctWoLQ                        2d   \n",
       "NaN                               NaN   \n",
       "ayXxwJJId_c                        2d   \n",
       "cExLQ1o2pDw                        2d   \n",
       "...                               ...   \n",
       "yeHjsYQ076A                        2d   \n",
       "X7doE4h6W64                        2d   \n",
       "AIytwdufwW8                        2d   \n",
       "56OkH6ocYZU                        2d   \n",
       "zi7tZ-2PhLk                        2d   \n",
       "\n",
       "                                  topicDetails.topicCategories  \\\n",
       "id                                                               \n",
       "TQHEJj68Jew  ['https://en.wikipedia.org/wiki/Lifestyle_(soc...   \n",
       "00NgUctWoLQ  ['https://en.wikipedia.org/wiki/Lifestyle_(soc...   \n",
       "NaN                                                        NaN   \n",
       "ayXxwJJId_c  ['https://en.wikipedia.org/wiki/Lifestyle_(soc...   \n",
       "cExLQ1o2pDw  ['https://en.wikipedia.org/wiki/Lifestyle_(soc...   \n",
       "...                                                        ...   \n",
       "yeHjsYQ076A  ['https://en.wikipedia.org/wiki/Action-adventu...   \n",
       "X7doE4h6W64  ['https://en.wikipedia.org/wiki/Action-adventu...   \n",
       "AIytwdufwW8  ['https://en.wikipedia.org/wiki/Action-adventu...   \n",
       "56OkH6ocYZU  ['https://en.wikipedia.org/wiki/Action-adventu...   \n",
       "zi7tZ-2PhLk  ['https://en.wikipedia.org/wiki/Action-adventu...   \n",
       "\n",
       "             snippet.defaultLanguage            localizations.en.title  \\\n",
       "id                                                                       \n",
       "TQHEJj68Jew                      NaN                               NaN   \n",
       "00NgUctWoLQ                       en  Extreme $1,000,000 Hide And Seek   \n",
       "NaN                              NaN                               NaN   \n",
       "ayXxwJJId_c                      NaN                               NaN   \n",
       "cExLQ1o2pDw                      NaN                               NaN   \n",
       "...                              ...                               ...   \n",
       "yeHjsYQ076A                      NaN                               NaN   \n",
       "X7doE4h6W64                      NaN                               NaN   \n",
       "AIytwdufwW8                      NaN                               NaN   \n",
       "56OkH6ocYZU                      NaN                               NaN   \n",
       "zi7tZ-2PhLk                      NaN                               NaN   \n",
       "\n",
       "                                  localizations.en.description  \\\n",
       "id                                                               \n",
       "TQHEJj68Jew                                                NaN   \n",
       "00NgUctWoLQ  I didn't expect that to happen at the end I wa...   \n",
       "NaN                                                        NaN   \n",
       "ayXxwJJId_c                                                NaN   \n",
       "cExLQ1o2pDw                                                NaN   \n",
       "...                                                        ...   \n",
       "yeHjsYQ076A                                                NaN   \n",
       "X7doE4h6W64                                                NaN   \n",
       "AIytwdufwW8                                                NaN   \n",
       "56OkH6ocYZU                                                NaN   \n",
       "zi7tZ-2PhLk                                                NaN   \n",
       "\n",
       "                                                  snippet.tags  \\\n",
       "id                                                               \n",
       "TQHEJj68Jew                                                NaN   \n",
       "00NgUctWoLQ                                                NaN   \n",
       "NaN                                                        NaN   \n",
       "ayXxwJJId_c                                                NaN   \n",
       "cExLQ1o2pDw                                                NaN   \n",
       "...                                                        ...   \n",
       "yeHjsYQ076A  ['How', 'much', 'money', 'does', 'make', 'blac...   \n",
       "X7doE4h6W64  ['How', 'much', 'money', 'does', 'make', 'blac...   \n",
       "AIytwdufwW8  ['How', 'much', 'money', 'does', 'make', 'blac...   \n",
       "56OkH6ocYZU  ['How', 'much', 'money', 'does', 'make', 'blac...   \n",
       "zi7tZ-2PhLk  ['How', 'much', 'money', 'does', 'make', 'blac...   \n",
       "\n",
       "            contentDetails.contentRating.ytRating  \n",
       "id                                                 \n",
       "TQHEJj68Jew                                   NaN  \n",
       "00NgUctWoLQ                                   NaN  \n",
       "NaN                                           NaN  \n",
       "ayXxwJJId_c                                   NaN  \n",
       "cExLQ1o2pDw                                   NaN  \n",
       "...                                           ...  \n",
       "yeHjsYQ076A                                   NaN  \n",
       "X7doE4h6W64                                   NaN  \n",
       "AIytwdufwW8                                   NaN  \n",
       "56OkH6ocYZU                                   NaN  \n",
       "zi7tZ-2PhLk                                   NaN  \n",
       "\n",
       "[247 rows x 25 columns]"
      ]
     },
     "execution_count": 15,
     "metadata": {},
     "output_type": "execute_result"
    }
   ],
   "source": [
    "df.set_index('id')"
   ]
  },
  {
   "cell_type": "code",
   "execution_count": 16,
   "id": "dfdb69e3",
   "metadata": {
    "execution": {
     "iopub.execute_input": "2023-02-22T16:06:45.922733Z",
     "iopub.status.busy": "2023-02-22T16:06:45.922351Z",
     "iopub.status.idle": "2023-02-22T16:06:45.927415Z",
     "shell.execute_reply": "2023-02-22T16:06:45.926484Z"
    },
    "papermill": {
     "duration": 0.0198,
     "end_time": "2023-02-22T16:06:45.929135",
     "exception": false,
     "start_time": "2023-02-22T16:06:45.909335",
     "status": "completed"
    },
    "tags": []
   },
   "outputs": [],
   "source": [
    "df = df.set_index('id')"
   ]
  },
  {
   "cell_type": "markdown",
   "id": "629c304c",
   "metadata": {
    "papermill": {
     "duration": 0.011598,
     "end_time": "2023-02-22T16:06:45.952667",
     "exception": false,
     "start_time": "2023-02-22T16:06:45.941069",
     "status": "completed"
    },
    "tags": []
   },
   "source": [
    "# Subsetting Data"
   ]
  },
  {
   "cell_type": "code",
   "execution_count": 17,
   "id": "e042c1b0",
   "metadata": {
    "execution": {
     "iopub.execute_input": "2023-02-22T16:06:45.977827Z",
     "iopub.status.busy": "2023-02-22T16:06:45.977347Z",
     "iopub.status.idle": "2023-02-22T16:06:45.982939Z",
     "shell.execute_reply": "2023-02-22T16:06:45.981995Z"
    },
    "papermill": {
     "duration": 0.02058,
     "end_time": "2023-02-22T16:06:45.984955",
     "exception": false,
     "start_time": "2023-02-22T16:06:45.964375",
     "status": "completed"
    },
    "tags": []
   },
   "outputs": [],
   "source": [
    "df= df[['title', 'description', 'publishTime', 'kind_stats', 'duration_seconds',\n",
    "       'viewCount', 'likeCount', 'commentCount']]"
   ]
  },
  {
   "cell_type": "code",
   "execution_count": 18,
   "id": "10dea52a",
   "metadata": {
    "execution": {
     "iopub.execute_input": "2023-02-22T16:06:46.010923Z",
     "iopub.status.busy": "2023-02-22T16:06:46.010435Z",
     "iopub.status.idle": "2023-02-22T16:06:46.023347Z",
     "shell.execute_reply": "2023-02-22T16:06:46.022060Z"
    },
    "papermill": {
     "duration": 0.028262,
     "end_time": "2023-02-22T16:06:46.025164",
     "exception": false,
     "start_time": "2023-02-22T16:06:45.996902",
     "status": "completed"
    },
    "tags": []
   },
   "outputs": [
    {
     "data": {
      "text/html": [
       "<div>\n",
       "<style scoped>\n",
       "    .dataframe tbody tr th:only-of-type {\n",
       "        vertical-align: middle;\n",
       "    }\n",
       "\n",
       "    .dataframe tbody tr th {\n",
       "        vertical-align: top;\n",
       "    }\n",
       "\n",
       "    .dataframe thead th {\n",
       "        text-align: right;\n",
       "    }\n",
       "</style>\n",
       "<table border=\"1\" class=\"dataframe\">\n",
       "  <thead>\n",
       "    <tr style=\"text-align: right;\">\n",
       "      <th></th>\n",
       "      <th>title</th>\n",
       "      <th>description</th>\n",
       "      <th>publishTime</th>\n",
       "      <th>kind_stats</th>\n",
       "      <th>duration_seconds</th>\n",
       "      <th>viewCount</th>\n",
       "      <th>likeCount</th>\n",
       "      <th>commentCount</th>\n",
       "    </tr>\n",
       "    <tr>\n",
       "      <th>id</th>\n",
       "      <th></th>\n",
       "      <th></th>\n",
       "      <th></th>\n",
       "      <th></th>\n",
       "      <th></th>\n",
       "      <th></th>\n",
       "      <th></th>\n",
       "      <th></th>\n",
       "    </tr>\n",
       "  </thead>\n",
       "  <tbody>\n",
       "    <tr>\n",
       "      <th>TQHEJj68Jew</th>\n",
       "      <td>I Got Hunted By A Real Bounty Hunter</td>\n",
       "      <td>Sign up for Current w/ my Creator Code \"BEAST\"...</td>\n",
       "      <td>2021-04-24 20:00:00+00:00</td>\n",
       "      <td>youtube#video</td>\n",
       "      <td>861</td>\n",
       "      <td>84717282.0</td>\n",
       "      <td>2876493.0</td>\n",
       "      <td>128922.0</td>\n",
       "    </tr>\n",
       "    <tr>\n",
       "      <th>00NgUctWoLQ</th>\n",
       "      <td>Extreme $1,000,000 Hide And Seek</td>\n",
       "      <td>I didn't expect that to happen at the end I wa...</td>\n",
       "      <td>2021-12-18 21:00:00+00:00</td>\n",
       "      <td>youtube#video</td>\n",
       "      <td>729</td>\n",
       "      <td>32090178.0</td>\n",
       "      <td>2125183.0</td>\n",
       "      <td>73593.0</td>\n",
       "    </tr>\n",
       "    <tr>\n",
       "      <th>NaN</th>\n",
       "      <td>MrBeast</td>\n",
       "      <td>Accomplishments - Raised $20000000 To Plant 20...</td>\n",
       "      <td>2012-02-20 00:43:50+00:00</td>\n",
       "      <td>NaN</td>\n",
       "      <td>0</td>\n",
       "      <td>NaN</td>\n",
       "      <td>NaN</td>\n",
       "      <td>NaN</td>\n",
       "    </tr>\n",
       "    <tr>\n",
       "      <th>ayXxwJJId_c</th>\n",
       "      <td>I Bought The World&amp;#39;s Largest Mystery Box! ...</td>\n",
       "      <td>I cant believe I spent over $500000 on mystery...</td>\n",
       "      <td>2021-04-03 20:00:01+00:00</td>\n",
       "      <td>youtube#video</td>\n",
       "      <td>709</td>\n",
       "      <td>101745632.0</td>\n",
       "      <td>3110824.0</td>\n",
       "      <td>162796.0</td>\n",
       "    </tr>\n",
       "    <tr>\n",
       "      <th>cExLQ1o2pDw</th>\n",
       "      <td>First To Rob Bank Wins $100,000</td>\n",
       "      <td>I didnt think he would actually rob the bank.....</td>\n",
       "      <td>2021-09-26 20:00:06+00:00</td>\n",
       "      <td>youtube#video</td>\n",
       "      <td>482</td>\n",
       "      <td>50008942.0</td>\n",
       "      <td>2359606.0</td>\n",
       "      <td>120621.0</td>\n",
       "    </tr>\n",
       "  </tbody>\n",
       "</table>\n",
       "</div>"
      ],
      "text/plain": [
       "                                                         title  \\\n",
       "id                                                               \n",
       "TQHEJj68Jew               I Got Hunted By A Real Bounty Hunter   \n",
       "00NgUctWoLQ                   Extreme $1,000,000 Hide And Seek   \n",
       "NaN                                                    MrBeast   \n",
       "ayXxwJJId_c  I Bought The World&#39;s Largest Mystery Box! ...   \n",
       "cExLQ1o2pDw                    First To Rob Bank Wins $100,000   \n",
       "\n",
       "                                                   description  \\\n",
       "id                                                               \n",
       "TQHEJj68Jew  Sign up for Current w/ my Creator Code \"BEAST\"...   \n",
       "00NgUctWoLQ  I didn't expect that to happen at the end I wa...   \n",
       "NaN          Accomplishments - Raised $20000000 To Plant 20...   \n",
       "ayXxwJJId_c  I cant believe I spent over $500000 on mystery...   \n",
       "cExLQ1o2pDw  I didnt think he would actually rob the bank.....   \n",
       "\n",
       "                           publishTime     kind_stats  duration_seconds  \\\n",
       "id                                                                        \n",
       "TQHEJj68Jew  2021-04-24 20:00:00+00:00  youtube#video               861   \n",
       "00NgUctWoLQ  2021-12-18 21:00:00+00:00  youtube#video               729   \n",
       "NaN          2012-02-20 00:43:50+00:00            NaN                 0   \n",
       "ayXxwJJId_c  2021-04-03 20:00:01+00:00  youtube#video               709   \n",
       "cExLQ1o2pDw  2021-09-26 20:00:06+00:00  youtube#video               482   \n",
       "\n",
       "               viewCount  likeCount  commentCount  \n",
       "id                                                 \n",
       "TQHEJj68Jew   84717282.0  2876493.0      128922.0  \n",
       "00NgUctWoLQ   32090178.0  2125183.0       73593.0  \n",
       "NaN                  NaN        NaN           NaN  \n",
       "ayXxwJJId_c  101745632.0  3110824.0      162796.0  \n",
       "cExLQ1o2pDw   50008942.0  2359606.0      120621.0  "
      ]
     },
     "execution_count": 18,
     "metadata": {},
     "output_type": "execute_result"
    }
   ],
   "source": [
    "df.head()"
   ]
  },
  {
   "cell_type": "code",
   "execution_count": 19,
   "id": "17ca608b",
   "metadata": {
    "execution": {
     "iopub.execute_input": "2023-02-22T16:06:46.050906Z",
     "iopub.status.busy": "2023-02-22T16:06:46.050599Z",
     "iopub.status.idle": "2023-02-22T16:06:46.056362Z",
     "shell.execute_reply": "2023-02-22T16:06:46.055440Z"
    },
    "papermill": {
     "duration": 0.020433,
     "end_time": "2023-02-22T16:06:46.058078",
     "exception": false,
     "start_time": "2023-02-22T16:06:46.037645",
     "status": "completed"
    },
    "tags": []
   },
   "outputs": [
    {
     "data": {
      "text/plain": [
       "(247, 8)"
      ]
     },
     "execution_count": 19,
     "metadata": {},
     "output_type": "execute_result"
    }
   ],
   "source": [
    "df.shape\n",
    "#247 rows, 8 columns"
   ]
  },
  {
   "cell_type": "code",
   "execution_count": 20,
   "id": "45dfa87a",
   "metadata": {
    "execution": {
     "iopub.execute_input": "2023-02-22T16:06:46.083269Z",
     "iopub.status.busy": "2023-02-22T16:06:46.082983Z",
     "iopub.status.idle": "2023-02-22T16:06:46.090101Z",
     "shell.execute_reply": "2023-02-22T16:06:46.089355Z"
    },
    "papermill": {
     "duration": 0.021744,
     "end_time": "2023-02-22T16:06:46.091703",
     "exception": false,
     "start_time": "2023-02-22T16:06:46.069959",
     "status": "completed"
    },
    "tags": []
   },
   "outputs": [
    {
     "data": {
      "text/plain": [
       "id\n",
       "TQHEJj68Jew     True\n",
       "00NgUctWoLQ     True\n",
       "NaN            False\n",
       "ayXxwJJId_c     True\n",
       "cExLQ1o2pDw     True\n",
       "               ...  \n",
       "yeHjsYQ076A    False\n",
       "X7doE4h6W64    False\n",
       "AIytwdufwW8    False\n",
       "56OkH6ocYZU    False\n",
       "zi7tZ-2PhLk    False\n",
       "Name: viewCount, Length: 247, dtype: bool"
      ]
     },
     "execution_count": 20,
     "metadata": {},
     "output_type": "execute_result"
    }
   ],
   "source": [
    "# Subsetting Rows\n",
    "\n",
    "df['viewCount'] > 1000000"
   ]
  },
  {
   "cell_type": "code",
   "execution_count": 21,
   "id": "199b74a4",
   "metadata": {
    "collapsed": true,
    "execution": {
     "iopub.execute_input": "2023-02-22T16:06:46.117327Z",
     "iopub.status.busy": "2023-02-22T16:06:46.116819Z",
     "iopub.status.idle": "2023-02-22T16:06:46.121616Z",
     "shell.execute_reply": "2023-02-22T16:06:46.120680Z"
    },
    "jupyter": {
     "outputs_hidden": true
    },
    "papermill": {
     "duration": 0.020282,
     "end_time": "2023-02-22T16:06:46.123842",
     "exception": false,
     "start_time": "2023-02-22T16:06:46.103560",
     "status": "completed"
    },
    "tags": []
   },
   "outputs": [],
   "source": [
    "# Subsetting Rows using loc\n",
    "\n",
    "df_subset1 = df.loc[df['viewCount'] > 1000000]"
   ]
  },
  {
   "cell_type": "code",
   "execution_count": 22,
   "id": "0c31e616",
   "metadata": {
    "execution": {
     "iopub.execute_input": "2023-02-22T16:06:46.149785Z",
     "iopub.status.busy": "2023-02-22T16:06:46.149453Z",
     "iopub.status.idle": "2023-02-22T16:06:46.157225Z",
     "shell.execute_reply": "2023-02-22T16:06:46.156310Z"
    },
    "papermill": {
     "duration": 0.022926,
     "end_time": "2023-02-22T16:06:46.158988",
     "exception": false,
     "start_time": "2023-02-22T16:06:46.136062",
     "status": "completed"
    },
    "tags": []
   },
   "outputs": [],
   "source": [
    "#Subsetting rows using query\n",
    "df_subset2 = df.query('viewCount > 1000000')"
   ]
  },
  {
   "cell_type": "code",
   "execution_count": 23,
   "id": "ce6b8173",
   "metadata": {
    "execution": {
     "iopub.execute_input": "2023-02-22T16:06:46.184939Z",
     "iopub.status.busy": "2023-02-22T16:06:46.184640Z",
     "iopub.status.idle": "2023-02-22T16:06:46.190847Z",
     "shell.execute_reply": "2023-02-22T16:06:46.189243Z"
    },
    "papermill": {
     "duration": 0.022083,
     "end_time": "2023-02-22T16:06:46.193174",
     "exception": false,
     "start_time": "2023-02-22T16:06:46.171091",
     "status": "completed"
    },
    "tags": []
   },
   "outputs": [],
   "source": [
    "#finding if the column is null\n",
    "df.loc[df['viewCount'].isna()] #true for all values we want to keep\n",
    "\n",
    "df = df.loc[~df['viewCount'].isna()] #true for all values we want to keep\n"
   ]
  },
  {
   "cell_type": "markdown",
   "id": "84df2a93",
   "metadata": {
    "papermill": {
     "duration": 0.011837,
     "end_time": "2023-02-22T16:06:46.217297",
     "exception": false,
     "start_time": "2023-02-22T16:06:46.205460",
     "status": "completed"
    },
    "tags": []
   },
   "source": [
    "# Casting dtypes"
   ]
  },
  {
   "cell_type": "code",
   "execution_count": 24,
   "id": "f01afa73",
   "metadata": {
    "execution": {
     "iopub.execute_input": "2023-02-22T16:06:46.242097Z",
     "iopub.status.busy": "2023-02-22T16:06:46.241808Z",
     "iopub.status.idle": "2023-02-22T16:06:46.249150Z",
     "shell.execute_reply": "2023-02-22T16:06:46.248071Z"
    },
    "papermill": {
     "duration": 0.021764,
     "end_time": "2023-02-22T16:06:46.250754",
     "exception": false,
     "start_time": "2023-02-22T16:06:46.228990",
     "status": "completed"
    },
    "tags": []
   },
   "outputs": [
    {
     "data": {
      "text/plain": [
       "id\n",
       "TQHEJj68Jew     84717282\n",
       "00NgUctWoLQ     32090178\n",
       "ayXxwJJId_c    101745632\n",
       "cExLQ1o2pDw     50008942\n",
       "GLoeAJUcz38    145527042\n",
       "                 ...    \n",
       "yeHjsYQ076A        16312\n",
       "X7doE4h6W64        15740\n",
       "AIytwdufwW8        18502\n",
       "56OkH6ocYZU        16627\n",
       "zi7tZ-2PhLk        18773\n",
       "Name: viewCount, Length: 246, dtype: int64"
      ]
     },
     "execution_count": 24,
     "metadata": {},
     "output_type": "execute_result"
    }
   ],
   "source": [
    "df['viewCount'].astype('int')"
   ]
  },
  {
   "cell_type": "code",
   "execution_count": 25,
   "id": "57e918a7",
   "metadata": {
    "execution": {
     "iopub.execute_input": "2023-02-22T16:06:46.275772Z",
     "iopub.status.busy": "2023-02-22T16:06:46.275407Z",
     "iopub.status.idle": "2023-02-22T16:06:46.285381Z",
     "shell.execute_reply": "2023-02-22T16:06:46.284392Z"
    },
    "papermill": {
     "duration": 0.024543,
     "end_time": "2023-02-22T16:06:46.287137",
     "exception": false,
     "start_time": "2023-02-22T16:06:46.262594",
     "status": "completed"
    },
    "tags": []
   },
   "outputs": [
    {
     "data": {
      "text/plain": [
       "id\n",
       "TQHEJj68Jew   2021-04-24 20:00:00+00:00\n",
       "00NgUctWoLQ   2021-12-18 21:00:00+00:00\n",
       "ayXxwJJId_c   2021-04-03 20:00:01+00:00\n",
       "cExLQ1o2pDw   2021-09-26 20:00:06+00:00\n",
       "GLoeAJUcz38   2020-11-14 21:00:02+00:00\n",
       "                         ...           \n",
       "yeHjsYQ076A   2015-04-26 21:26:36+00:00\n",
       "X7doE4h6W64   2015-06-21 12:22:34+00:00\n",
       "AIytwdufwW8   2015-05-29 20:07:48+00:00\n",
       "56OkH6ocYZU   2015-05-15 16:48:54+00:00\n",
       "zi7tZ-2PhLk   2015-05-31 18:31:25+00:00\n",
       "Name: publishTime, Length: 246, dtype: datetime64[ns, UTC]"
      ]
     },
     "execution_count": 25,
     "metadata": {},
     "output_type": "execute_result"
    }
   ],
   "source": [
    "pd.to_datetime(df['publishTime'])"
   ]
  },
  {
   "cell_type": "code",
   "execution_count": 26,
   "id": "f0e93998",
   "metadata": {
    "execution": {
     "iopub.execute_input": "2023-02-22T16:06:46.313006Z",
     "iopub.status.busy": "2023-02-22T16:06:46.312686Z",
     "iopub.status.idle": "2023-02-22T16:06:46.319397Z",
     "shell.execute_reply": "2023-02-22T16:06:46.318744Z"
    },
    "papermill": {
     "duration": 0.022242,
     "end_time": "2023-02-22T16:06:46.321473",
     "exception": false,
     "start_time": "2023-02-22T16:06:46.299231",
     "status": "completed"
    },
    "tags": []
   },
   "outputs": [
    {
     "data": {
      "text/plain": [
       "id\n",
       "TQHEJj68Jew    2021-04-24 20:00:00+00:00\n",
       "00NgUctWoLQ    2021-12-18 21:00:00+00:00\n",
       "ayXxwJJId_c    2021-04-03 20:00:01+00:00\n",
       "cExLQ1o2pDw    2021-09-26 20:00:06+00:00\n",
       "GLoeAJUcz38    2020-11-14 21:00:02+00:00\n",
       "                         ...            \n",
       "yeHjsYQ076A    2015-04-26 21:26:36+00:00\n",
       "X7doE4h6W64    2015-06-21 12:22:34+00:00\n",
       "AIytwdufwW8    2015-05-29 20:07:48+00:00\n",
       "56OkH6ocYZU    2015-05-15 16:48:54+00:00\n",
       "zi7tZ-2PhLk    2015-05-31 18:31:25+00:00\n",
       "Name: publishTime, Length: 246, dtype: object"
      ]
     },
     "execution_count": 26,
     "metadata": {},
     "output_type": "execute_result"
    }
   ],
   "source": [
    "df['publishTime']"
   ]
  },
  {
   "cell_type": "code",
   "execution_count": 27,
   "id": "d9fcc5de",
   "metadata": {
    "execution": {
     "iopub.execute_input": "2023-02-22T16:06:46.349235Z",
     "iopub.status.busy": "2023-02-22T16:06:46.348913Z",
     "iopub.status.idle": "2023-02-22T16:06:46.415929Z",
     "shell.execute_reply": "2023-02-22T16:06:46.415067Z"
    },
    "papermill": {
     "duration": 0.082373,
     "end_time": "2023-02-22T16:06:46.417068",
     "exception": true,
     "start_time": "2023-02-22T16:06:46.334695",
     "status": "failed"
    },
    "tags": []
   },
   "outputs": [
    {
     "ename": "ValueError",
     "evalue": "Unable to parse string \"nan\" at position 114",
     "output_type": "error",
     "traceback": [
      "\u001b[0;31m---------------------------------------------------------------------------\u001b[0m",
      "\u001b[0;31mValueError\u001b[0m                                Traceback (most recent call last)",
      "\u001b[0;32m/opt/conda/lib/python3.7/site-packages/pandas/_libs/lib.pyx\u001b[0m in \u001b[0;36mpandas._libs.lib.maybe_convert_numeric\u001b[0;34m()\u001b[0m\n",
      "\u001b[0;31mValueError\u001b[0m: Unable to parse string \"nan\"",
      "\nDuring handling of the above exception, another exception occurred:\n",
      "\u001b[0;31mValueError\u001b[0m                                Traceback (most recent call last)",
      "\u001b[0;32m/tmp/ipykernel_21/3066318318.py\u001b[0m in \u001b[0;36m<module>\u001b[0;34m\u001b[0m\n\u001b[1;32m      1\u001b[0m \u001b[0mdf\u001b[0m\u001b[0;34m.\u001b[0m\u001b[0mloc\u001b[0m\u001b[0;34m[\u001b[0m\u001b[0mdf\u001b[0m\u001b[0;34m[\u001b[0m\u001b[0;34m'viewCount'\u001b[0m\u001b[0;34m]\u001b[0m\u001b[0;34m.\u001b[0m\u001b[0misna\u001b[0m\u001b[0;34m(\u001b[0m\u001b[0;34m)\u001b[0m\u001b[0;34m]\u001b[0m \u001b[0;31m#true for all values we want to keep\u001b[0m\u001b[0;34m\u001b[0m\u001b[0;34m\u001b[0m\u001b[0m\n\u001b[1;32m      2\u001b[0m \u001b[0;34m\u001b[0m\u001b[0m\n\u001b[0;32m----> 3\u001b[0;31m \u001b[0mpd\u001b[0m\u001b[0;34m.\u001b[0m\u001b[0mto_numeric\u001b[0m\u001b[0;34m(\u001b[0m\u001b[0mdf\u001b[0m\u001b[0;34m[\u001b[0m\u001b[0;34m'likeCount'\u001b[0m\u001b[0;34m]\u001b[0m\u001b[0;34m.\u001b[0m\u001b[0mastype\u001b[0m\u001b[0;34m(\u001b[0m\u001b[0;34m'str'\u001b[0m\u001b[0;34m)\u001b[0m\u001b[0;34m)\u001b[0m\u001b[0;34m\u001b[0m\u001b[0;34m\u001b[0m\u001b[0m\n\u001b[0m",
      "\u001b[0;32m/opt/conda/lib/python3.7/site-packages/pandas/core/tools/numeric.py\u001b[0m in \u001b[0;36mto_numeric\u001b[0;34m(arg, errors, downcast)\u001b[0m\n\u001b[1;32m    182\u001b[0m         \u001b[0;32mtry\u001b[0m\u001b[0;34m:\u001b[0m\u001b[0;34m\u001b[0m\u001b[0;34m\u001b[0m\u001b[0m\n\u001b[1;32m    183\u001b[0m             values, _ = lib.maybe_convert_numeric(\n\u001b[0;32m--> 184\u001b[0;31m                 \u001b[0mvalues\u001b[0m\u001b[0;34m,\u001b[0m \u001b[0mset\u001b[0m\u001b[0;34m(\u001b[0m\u001b[0;34m)\u001b[0m\u001b[0;34m,\u001b[0m \u001b[0mcoerce_numeric\u001b[0m\u001b[0;34m=\u001b[0m\u001b[0mcoerce_numeric\u001b[0m\u001b[0;34m\u001b[0m\u001b[0;34m\u001b[0m\u001b[0m\n\u001b[0m\u001b[1;32m    185\u001b[0m             )\n\u001b[1;32m    186\u001b[0m         \u001b[0;32mexcept\u001b[0m \u001b[0;34m(\u001b[0m\u001b[0mValueError\u001b[0m\u001b[0;34m,\u001b[0m \u001b[0mTypeError\u001b[0m\u001b[0;34m)\u001b[0m\u001b[0;34m:\u001b[0m\u001b[0;34m\u001b[0m\u001b[0;34m\u001b[0m\u001b[0m\n",
      "\u001b[0;32m/opt/conda/lib/python3.7/site-packages/pandas/_libs/lib.pyx\u001b[0m in \u001b[0;36mpandas._libs.lib.maybe_convert_numeric\u001b[0;34m()\u001b[0m\n",
      "\u001b[0;31mValueError\u001b[0m: Unable to parse string \"nan\" at position 114"
     ]
    }
   ],
   "source": [
    "df.loc[df['viewCount'].isna()] #true for all values we want to keep\n",
    "\n",
    "pd.to_numeric(df['likeCount'].astype('str'))"
   ]
  },
  {
   "cell_type": "markdown",
   "id": "433de21a",
   "metadata": {
    "papermill": {
     "duration": null,
     "end_time": null,
     "exception": null,
     "start_time": null,
     "status": "pending"
    },
    "tags": []
   },
   "source": [
    "# Creating new column"
   ]
  },
  {
   "cell_type": "code",
   "execution_count": null,
   "id": "f01a3d97",
   "metadata": {
    "execution": {
     "iopub.execute_input": "2023-02-22T07:35:07.578426Z",
     "iopub.status.busy": "2023-02-22T07:35:07.578004Z",
     "iopub.status.idle": "2023-02-22T07:35:07.604035Z",
     "shell.execute_reply": "2023-02-22T07:35:07.602535Z",
     "shell.execute_reply.started": "2023-02-22T07:35:07.578393Z"
    },
    "papermill": {
     "duration": null,
     "end_time": null,
     "exception": null,
     "start_time": null,
     "status": "pending"
    },
    "tags": []
   },
   "outputs": [],
   "source": [
    "df.head()"
   ]
  },
  {
   "cell_type": "code",
   "execution_count": null,
   "id": "91d1df10",
   "metadata": {
    "execution": {
     "iopub.execute_input": "2023-02-22T07:36:19.776599Z",
     "iopub.status.busy": "2023-02-22T07:36:19.776163Z",
     "iopub.status.idle": "2023-02-22T07:36:19.782934Z",
     "shell.execute_reply": "2023-02-22T07:36:19.781947Z",
     "shell.execute_reply.started": "2023-02-22T07:36:19.776563Z"
    },
    "papermill": {
     "duration": null,
     "end_time": null,
     "exception": null,
     "start_time": null,
     "status": "pending"
    },
    "tags": []
   },
   "outputs": [],
   "source": [
    "#find ratio of like count to view count\n",
    "\n",
    "df['like_to_view_ratio']=df['likeCount']/df['viewCount']"
   ]
  },
  {
   "cell_type": "code",
   "execution_count": null,
   "id": "5175879f",
   "metadata": {
    "execution": {
     "iopub.execute_input": "2023-02-22T07:36:28.267017Z",
     "iopub.status.busy": "2023-02-22T07:36:28.266525Z",
     "iopub.status.idle": "2023-02-22T07:36:28.288389Z",
     "shell.execute_reply": "2023-02-22T07:36:28.287108Z",
     "shell.execute_reply.started": "2023-02-22T07:36:28.266977Z"
    },
    "papermill": {
     "duration": null,
     "end_time": null,
     "exception": null,
     "start_time": null,
     "status": "pending"
    },
    "tags": []
   },
   "outputs": [],
   "source": [
    "df.head()"
   ]
  },
  {
   "cell_type": "markdown",
   "id": "824ce590",
   "metadata": {
    "papermill": {
     "duration": null,
     "end_time": null,
     "exception": null,
     "start_time": null,
     "status": "pending"
    },
    "tags": []
   },
   "source": [
    "# Adding New Row"
   ]
  },
  {
   "cell_type": "code",
   "execution_count": null,
   "id": "679e229c",
   "metadata": {
    "execution": {
     "iopub.execute_input": "2023-02-22T07:37:44.697014Z",
     "iopub.status.busy": "2023-02-22T07:37:44.696583Z",
     "iopub.status.idle": "2023-02-22T07:37:44.702513Z",
     "shell.execute_reply": "2023-02-22T07:37:44.701104Z",
     "shell.execute_reply.started": "2023-02-22T07:37:44.696981Z"
    },
    "papermill": {
     "duration": null,
     "end_time": null,
     "exception": null,
     "start_time": null,
     "status": "pending"
    },
    "tags": []
   },
   "outputs": [],
   "source": [
    "df_to_append = df.tail(1)"
   ]
  },
  {
   "cell_type": "code",
   "execution_count": null,
   "id": "0ef0b514",
   "metadata": {
    "execution": {
     "iopub.execute_input": "2023-02-22T07:38:00.856362Z",
     "iopub.status.busy": "2023-02-22T07:38:00.855925Z",
     "iopub.status.idle": "2023-02-22T07:38:00.882383Z",
     "shell.execute_reply": "2023-02-22T07:38:00.880654Z",
     "shell.execute_reply.started": "2023-02-22T07:38:00.856324Z"
    },
    "papermill": {
     "duration": null,
     "end_time": null,
     "exception": null,
     "start_time": null,
     "status": "pending"
    },
    "tags": []
   },
   "outputs": [],
   "source": [
    "df_concat = pd.concat([df,df_to_append])"
   ]
  },
  {
   "cell_type": "markdown",
   "id": "9eb2d807",
   "metadata": {
    "papermill": {
     "duration": null,
     "end_time": null,
     "exception": null,
     "start_time": null,
     "status": "pending"
    },
    "tags": []
   },
   "source": [
    "# Plot Examples"
   ]
  },
  {
   "cell_type": "code",
   "execution_count": null,
   "id": "b837621a",
   "metadata": {
    "execution": {
     "iopub.execute_input": "2023-02-22T07:45:21.872915Z",
     "iopub.status.busy": "2023-02-22T07:45:21.871475Z",
     "iopub.status.idle": "2023-02-22T07:45:22.268822Z",
     "shell.execute_reply": "2023-02-22T07:45:22.267515Z",
     "shell.execute_reply.started": "2023-02-22T07:45:21.872836Z"
    },
    "papermill": {
     "duration": null,
     "end_time": null,
     "exception": null,
     "start_time": null,
     "status": "pending"
    },
    "tags": []
   },
   "outputs": [],
   "source": [
    "df['viewCount'].plot(kind='hist',bins=50,title='Distribution of View Count',figsize=(15,5))\n",
    "#histogram of all the view counts we have and the frequencies "
   ]
  },
  {
   "cell_type": "code",
   "execution_count": null,
   "id": "ee6837a1",
   "metadata": {
    "execution": {
     "iopub.execute_input": "2023-02-22T07:52:23.683493Z",
     "iopub.status.busy": "2023-02-22T07:52:23.683092Z",
     "iopub.status.idle": "2023-02-22T07:52:23.973007Z",
     "shell.execute_reply": "2023-02-22T07:52:23.971644Z",
     "shell.execute_reply.started": "2023-02-22T07:52:23.683462Z"
    },
    "papermill": {
     "duration": null,
     "end_time": null,
     "exception": null,
     "start_time": null,
     "status": "pending"
    },
    "tags": []
   },
   "outputs": [],
   "source": [
    "#see relationships between 2 variables in the data frame\n",
    "\n",
    "df.plot(kind='scatter',x='viewCount',y='likeCount',title='View vs Like Count')"
   ]
  },
  {
   "cell_type": "code",
   "execution_count": null,
   "id": "4eeb6677",
   "metadata": {
    "execution": {
     "iopub.execute_input": "2023-02-22T07:46:39.699978Z",
     "iopub.status.busy": "2023-02-22T07:46:39.699537Z",
     "iopub.status.idle": "2023-02-22T07:46:39.720299Z",
     "shell.execute_reply": "2023-02-22T07:46:39.718732Z",
     "shell.execute_reply.started": "2023-02-22T07:46:39.699942Z"
    },
    "papermill": {
     "duration": null,
     "end_time": null,
     "exception": null,
     "start_time": null,
     "status": "pending"
    },
    "tags": []
   },
   "outputs": [],
   "source": [
    "df.head()"
   ]
  },
  {
   "cell_type": "code",
   "execution_count": null,
   "id": "2d5b6d0a",
   "metadata": {
    "execution": {
     "iopub.execute_input": "2023-02-22T07:49:09.959561Z",
     "iopub.status.busy": "2023-02-22T07:49:09.959119Z",
     "iopub.status.idle": "2023-02-22T07:49:09.966860Z",
     "shell.execute_reply": "2023-02-22T07:49:09.965320Z",
     "shell.execute_reply.started": "2023-02-22T07:49:09.959524Z"
    },
    "papermill": {
     "duration": null,
     "end_time": null,
     "exception": null,
     "start_time": null,
     "status": "pending"
    },
    "tags": []
   },
   "outputs": [],
   "source": [
    "df = df.loc[~df['likeCount'].isna()]"
   ]
  },
  {
   "cell_type": "code",
   "execution_count": null,
   "id": "9d67e0c0",
   "metadata": {
    "execution": {
     "iopub.execute_input": "2023-02-22T07:52:11.655896Z",
     "iopub.status.busy": "2023-02-22T07:52:11.655293Z",
     "iopub.status.idle": "2023-02-22T07:52:11.957630Z",
     "shell.execute_reply": "2023-02-22T07:52:11.956175Z",
     "shell.execute_reply.started": "2023-02-22T07:52:11.655824Z"
    },
    "papermill": {
     "duration": null,
     "end_time": null,
     "exception": null,
     "start_time": null,
     "status": "pending"
    },
    "tags": []
   },
   "outputs": [],
   "source": [
    "df.plot(kind='scatter',x='viewCount',y='likeCount',title='View vs Like Count')"
   ]
  },
  {
   "cell_type": "code",
   "execution_count": null,
   "id": "1ab18b73",
   "metadata": {
    "execution": {
     "iopub.execute_input": "2023-02-22T07:51:48.393352Z",
     "iopub.status.busy": "2023-02-22T07:51:48.392901Z",
     "iopub.status.idle": "2023-02-22T07:51:48.413981Z",
     "shell.execute_reply": "2023-02-22T07:51:48.412678Z",
     "shell.execute_reply.started": "2023-02-22T07:51:48.393307Z"
    },
    "papermill": {
     "duration": null,
     "end_time": null,
     "exception": null,
     "start_time": null,
     "status": "pending"
    },
    "tags": []
   },
   "outputs": [],
   "source": [
    "df.query('likeCount > 10000000')"
   ]
  },
  {
   "cell_type": "code",
   "execution_count": null,
   "id": "16b6c5fa",
   "metadata": {
    "execution": {
     "iopub.execute_input": "2023-02-22T07:55:28.638408Z",
     "iopub.status.busy": "2023-02-22T07:55:28.637985Z",
     "iopub.status.idle": "2023-02-22T07:55:28.648025Z",
     "shell.execute_reply": "2023-02-22T07:55:28.646588Z",
     "shell.execute_reply.started": "2023-02-22T07:55:28.638373Z"
    },
    "papermill": {
     "duration": null,
     "end_time": null,
     "exception": null,
     "start_time": null,
     "status": "pending"
    },
    "tags": []
   },
   "outputs": [],
   "source": [
    "df.to_csv('processed_data2.csv')"
   ]
  }
 ],
 "metadata": {
  "kernelspec": {
   "display_name": "Python 3",
   "language": "python",
   "name": "python3"
  },
  "language_info": {
   "codemirror_mode": {
    "name": "ipython",
    "version": 3
   },
   "file_extension": ".py",
   "mimetype": "text/x-python",
   "name": "python",
   "nbconvert_exporter": "python",
   "pygments_lexer": "ipython3",
   "version": "3.7.12"
  },
  "papermill": {
   "default_parameters": {},
   "duration": 9.182219,
   "end_time": "2023-02-22T16:06:47.050591",
   "environment_variables": {},
   "exception": true,
   "input_path": "__notebook__.ipynb",
   "output_path": "__notebook__.ipynb",
   "parameters": {},
   "start_time": "2023-02-22T16:06:37.868372",
   "version": "2.3.4"
  }
 },
 "nbformat": 4,
 "nbformat_minor": 5
}
